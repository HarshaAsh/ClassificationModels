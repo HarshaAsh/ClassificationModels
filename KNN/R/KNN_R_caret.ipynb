{
 "cells": [
  {
   "cell_type": "markdown",
   "metadata": {},
   "source": [
    "# KNN model using caret in R\n",
    "#### Achyuthuni Sri Harsha\n",
    "\n",
    "Implementation of k_ nearest neighbour using caret package in R.\n",
    "\n",
    "Inspired from dataaspirant blog at https://dataaspirant.com/2017/01/09/knn-implementation-r-using-caret-package/\n",
    "\n",
    "Raw code for the model can be found at https://github.com/HarshaAsh/DataAspirant_codes/blob/master/K-nearest-neighbor%20classifier/Knn-Classifier-R-caret/wine_origin.r"
   ]
  },
  {
   "cell_type": "markdown",
   "metadata": {},
   "source": [
    "## Wine Recognition Problem Statement:\n",
    "\n",
    "To model a classifier for classifying the origin of the wine. The classifier should predict whether the wine is from origin “1” or “2” or “3”.\n",
    "\n",
    "For this experiment, wines were grown in the same region in Italy but derived from 3 different cultivars. The analysis determined the quantities of 13 constituents found in each of the three types of wines. We have a dataset with 13 attributes having continuous values and one attribute with class labels of wine origin.\n",
    "\n",
    "\n",
    "Using the wine dataset our task is to build a model to recognize the origin of the wine.\n",
    "\n",
    "The 13 Attributes of the dataset are:\n",
    "1. Alcohol\n",
    "2. Malic acid\n",
    "3. Ash\n",
    "4. Alkalinity of ash\n",
    "5. Magnesium\n",
    "6. Total phenols\n",
    "7. Flavanoids\n",
    "8. Nonflavonoids phenols\n",
    "9. Proanthocyanins\n",
    "10. Color intensity\n",
    "11. Hue\n",
    "12. OD280/OD315 of diluted wines\n",
    "13. Proline\n",
    "\n",
    "The attribute with the class label is at index 1. It consists of 3 values 1, 2 & 3. These class labels are going to be predicted by our KNN model."
   ]
  },
  {
   "cell_type": "code",
   "execution_count": 2,
   "metadata": {
    "collapsed": false,
    "scrolled": false
   },
   "outputs": [],
   "source": [
    "#importing libraries\n",
    "options(warning = -1)\n",
    "\n",
    "library(caret)\n",
    "library(dplyr)\n",
    "\n",
    "options(warning = 0)"
   ]
  },
  {
   "cell_type": "markdown",
   "metadata": {},
   "source": [
    "## Importing data\n",
    "The original owners of this dataset are Forina, M. et al. , PARVUS, Institute of Pharmaceutical and Food Analysis and Technologies, Via Brigata Salerno, 16147 Genoa, Italy. This wine dataset is hosted as open data on UCI machine learning repository (https://archive.ics.uci.edu/ml/machine-learning-databases/wine/wine.data)."
   ]
  },
  {
   "cell_type": "code",
   "execution_count": 3,
   "metadata": {
    "collapsed": false,
    "scrolled": false
   },
   "outputs": [
    {
     "data": {
      "text/html": [
       "<table>\n",
       "<thead><tr><th scope=col>class</th><th scope=col>alcohol</th><th scope=col>malic_acid</th><th scope=col>ash</th><th scope=col>alkalinity</th><th scope=col>magnesium</th><th scope=col>phenols</th><th scope=col>flavanoids</th><th scope=col>nonflavonoids</th><th scope=col>proanthocyanins</th><th scope=col>color_intensity</th><th scope=col>hue</th><th scope=col>fraction_OD280</th><th scope=col>proline</th></tr></thead>\n",
       "<tbody>\n",
       "\t<tr><td>1    </td><td>14.23</td><td>1.71 </td><td>  NA </td><td>15.6 </td><td>127  </td><td>2.80 </td><td>3.06 </td><td>  NA </td><td>2.29 </td><td>5.64 </td><td>1.04 </td><td>3.92 </td><td>1065 </td></tr>\n",
       "\t<tr><td>1    </td><td>13.20</td><td>1.78 </td><td>2.14 </td><td>11.2 </td><td>100  </td><td>2.65 </td><td>2.76 </td><td>0.26 </td><td>1.28 </td><td>4.38 </td><td>1.05 </td><td>3.40 </td><td>1050 </td></tr>\n",
       "\t<tr><td>1    </td><td>13.16</td><td>2.36 </td><td>  NA </td><td>18.6 </td><td>101  </td><td>2.80 </td><td>3.24 </td><td>0.30 </td><td>2.81 </td><td>5.68 </td><td>1.03 </td><td>3.17 </td><td>1185 </td></tr>\n",
       "\t<tr><td>1    </td><td>14.37</td><td>1.95 </td><td>2.50 </td><td>16.8 </td><td>113  </td><td>3.85 </td><td>3.49 </td><td>0.24 </td><td>2.18 </td><td>7.80 </td><td>0.86 </td><td>3.45 </td><td>1480 </td></tr>\n",
       "\t<tr><td>1    </td><td>13.24</td><td>2.59 </td><td>2.87 </td><td>21.0 </td><td>118  </td><td>2.80 </td><td>2.69 </td><td>0.39 </td><td>1.82 </td><td>4.32 </td><td>1.04 </td><td>2.93 </td><td> 735 </td></tr>\n",
       "\t<tr><td>1    </td><td>14.20</td><td>1.76 </td><td>2.45 </td><td>15.2 </td><td>112  </td><td>3.27 </td><td>3.39 </td><td>0.34 </td><td>1.97 </td><td>6.75 </td><td>1.05 </td><td>2.85 </td><td>1450 </td></tr>\n",
       "</tbody>\n",
       "</table>\n"
      ],
      "text/latex": [
       "\\begin{tabular}{r|llllllllllllll}\n",
       " class & alcohol & malic\\_acid & ash & alkalinity & magnesium & phenols & flavanoids & nonflavonoids & proanthocyanins & color\\_intensity & hue & fraction\\_OD280 & proline\\\\\n",
       "\\hline\n",
       "\t 1     & 14.23 & 1.71  &   NA  & 15.6  & 127   & 2.80  & 3.06  &   NA  & 2.29  & 5.64  & 1.04  & 3.92  & 1065 \\\\\n",
       "\t 1     & 13.20 & 1.78  & 2.14  & 11.2  & 100   & 2.65  & 2.76  & 0.26  & 1.28  & 4.38  & 1.05  & 3.40  & 1050 \\\\\n",
       "\t 1     & 13.16 & 2.36  &   NA  & 18.6  & 101   & 2.80  & 3.24  & 0.30  & 2.81  & 5.68  & 1.03  & 3.17  & 1185 \\\\\n",
       "\t 1     & 14.37 & 1.95  & 2.50  & 16.8  & 113   & 3.85  & 3.49  & 0.24  & 2.18  & 7.80  & 0.86  & 3.45  & 1480 \\\\\n",
       "\t 1     & 13.24 & 2.59  & 2.87  & 21.0  & 118   & 2.80  & 2.69  & 0.39  & 1.82  & 4.32  & 1.04  & 2.93  &  735 \\\\\n",
       "\t 1     & 14.20 & 1.76  & 2.45  & 15.2  & 112   & 3.27  & 3.39  & 0.34  & 1.97  & 6.75  & 1.05  & 2.85  & 1450 \\\\\n",
       "\\end{tabular}\n"
      ],
      "text/markdown": [
       "\n",
       "class | alcohol | malic_acid | ash | alkalinity | magnesium | phenols | flavanoids | nonflavonoids | proanthocyanins | color_intensity | hue | fraction_OD280 | proline | \n",
       "|---|---|---|---|---|---|\n",
       "| 1     | 14.23 | 1.71  |   NA  | 15.6  | 127   | 2.80  | 3.06  |   NA  | 2.29  | 5.64  | 1.04  | 3.92  | 1065  | \n",
       "| 1     | 13.20 | 1.78  | 2.14  | 11.2  | 100   | 2.65  | 2.76  | 0.26  | 1.28  | 4.38  | 1.05  | 3.40  | 1050  | \n",
       "| 1     | 13.16 | 2.36  |   NA  | 18.6  | 101   | 2.80  | 3.24  | 0.30  | 2.81  | 5.68  | 1.03  | 3.17  | 1185  | \n",
       "| 1     | 14.37 | 1.95  | 2.50  | 16.8  | 113   | 3.85  | 3.49  | 0.24  | 2.18  | 7.80  | 0.86  | 3.45  | 1480  | \n",
       "| 1     | 13.24 | 2.59  | 2.87  | 21.0  | 118   | 2.80  | 2.69  | 0.39  | 1.82  | 4.32  | 1.04  | 2.93  |  735  | \n",
       "| 1     | 14.20 | 1.76  | 2.45  | 15.2  | 112   | 3.27  | 3.39  | 0.34  | 1.97  | 6.75  | 1.05  | 2.85  | 1450  | \n",
       "\n",
       "\n"
      ],
      "text/plain": [
       "  class alcohol malic_acid ash  alkalinity magnesium phenols flavanoids\n",
       "1 1     14.23   1.71         NA 15.6       127       2.80    3.06      \n",
       "2 1     13.20   1.78       2.14 11.2       100       2.65    2.76      \n",
       "3 1     13.16   2.36         NA 18.6       101       2.80    3.24      \n",
       "4 1     14.37   1.95       2.50 16.8       113       3.85    3.49      \n",
       "5 1     13.24   2.59       2.87 21.0       118       2.80    2.69      \n",
       "6 1     14.20   1.76       2.45 15.2       112       3.27    3.39      \n",
       "  nonflavonoids proanthocyanins color_intensity hue  fraction_OD280 proline\n",
       "1   NA          2.29            5.64            1.04 3.92           1065   \n",
       "2 0.26          1.28            4.38            1.05 3.40           1050   \n",
       "3 0.30          2.81            5.68            1.03 3.17           1185   \n",
       "4 0.24          2.18            7.80            0.86 3.45           1480   \n",
       "5 0.39          1.82            4.32            1.04 2.93            735   \n",
       "6 0.34          1.97            6.75            1.05 2.85           1450   "
      ]
     },
     "metadata": {},
     "output_type": "display_data"
    }
   ],
   "source": [
    "dataurl <- \"https://archive.ics.uci.edu/ml/machine-learning-databases/wine/wine.data\"\n",
    "download.file(url = dataurl, destfile = \"wine.data\")\n",
    "wine_df <- read.csv(\"wine.data\", header = FALSE)\n",
    "colnames(wine_df) <- c('class', 'alcohol', 'malic_acid', 'ash', 'alkalinity','magnesium', 'phenols', 'flavanoids',\n",
    "                       'nonflavonoids', 'proanthocyanins', 'color_intensity', 'hue', 'fraction_OD280', 'proline')\n",
    "\n",
    "#introducing a few NA values to spice things up.\n",
    "for(i in 1:14){\n",
    "    set.seed(i+1)\n",
    "    wine_df[sample(1:100, 1),sample(1:14, 1)] <- NA\n",
    "}\n",
    "\n",
    "head(wine_df)"
   ]
  },
  {
   "cell_type": "markdown",
   "metadata": {},
   "source": [
    "## Handling NA\n",
    "1. Check whether any NA value exists or not\n",
    "2. If so, check if they exist in the classification target variable(Remove the columns of they do)\n",
    "3. Check if they exist in any features. (replace them with their mean values)"
   ]
  },
  {
   "cell_type": "code",
   "execution_count": 4,
   "metadata": {
    "collapsed": false,
    "scrolled": false
   },
   "outputs": [
    {
     "data": {
      "text/html": [
       "TRUE"
      ],
      "text/latex": [
       "TRUE"
      ],
      "text/markdown": [
       "TRUE"
      ],
      "text/plain": [
       "[1] TRUE"
      ]
     },
     "metadata": {},
     "output_type": "display_data"
    }
   ],
   "source": [
    "anyNA(wine_df)"
   ]
  },
  {
   "cell_type": "code",
   "execution_count": 5,
   "metadata": {
    "collapsed": false,
    "scrolled": false
   },
   "outputs": [
    {
     "data": {
      "text/html": [
       "TRUE"
      ],
      "text/latex": [
       "TRUE"
      ],
      "text/markdown": [
       "TRUE"
      ],
      "text/plain": [
       "[1] TRUE"
      ]
     },
     "metadata": {},
     "output_type": "display_data"
    }
   ],
   "source": [
    "anyNA(wine_df$class)"
   ]
  },
  {
   "cell_type": "code",
   "execution_count": 6,
   "metadata": {
    "collapsed": true,
    "scrolled": false
   },
   "outputs": [],
   "source": [
    "wine_df <- wine_df %>% \n",
    "    filter(!is.na(class))"
   ]
  },
  {
   "cell_type": "code",
   "execution_count": 7,
   "metadata": {
    "collapsed": false,
    "scrolled": true
   },
   "outputs": [
    {
     "data": {
      "text/html": [
       "FALSE"
      ],
      "text/latex": [
       "FALSE"
      ],
      "text/markdown": [
       "FALSE"
      ],
      "text/plain": [
       "[1] FALSE"
      ]
     },
     "metadata": {},
     "output_type": "display_data"
    },
    {
     "data": {
      "text/html": [
       "TRUE"
      ],
      "text/latex": [
       "TRUE"
      ],
      "text/markdown": [
       "TRUE"
      ],
      "text/plain": [
       "[1] TRUE"
      ]
     },
     "metadata": {},
     "output_type": "display_data"
    },
    {
     "data": {
      "text/html": [
       "<table>\n",
       "<thead><tr><th scope=col>row</th><th scope=col>col</th></tr></thead>\n",
       "<tbody>\n",
       "\t<tr><td>69</td><td> 3</td></tr>\n",
       "\t<tr><td>71</td><td> 3</td></tr>\n",
       "\t<tr><td>81</td><td> 3</td></tr>\n",
       "\t<tr><td> 1</td><td> 4</td></tr>\n",
       "\t<tr><td> 3</td><td> 4</td></tr>\n",
       "\t<tr><td>64</td><td> 4</td></tr>\n",
       "\t<tr><td>21</td><td> 7</td></tr>\n",
       "\t<tr><td>31</td><td> 8</td></tr>\n",
       "\t<tr><td> 1</td><td> 9</td></tr>\n",
       "\t<tr><td>20</td><td> 9</td></tr>\n",
       "\t<tr><td>93</td><td> 9</td></tr>\n",
       "\t<tr><td>25</td><td>10</td></tr>\n",
       "\t<tr><td>40</td><td>14</td></tr>\n",
       "</tbody>\n",
       "</table>\n"
      ],
      "text/latex": [
       "\\begin{tabular}{ll}\n",
       " row & col\\\\\n",
       "\\hline\n",
       "\t 69 &  3\\\\\n",
       "\t 71 &  3\\\\\n",
       "\t 81 &  3\\\\\n",
       "\t  1 &  4\\\\\n",
       "\t  3 &  4\\\\\n",
       "\t 64 &  4\\\\\n",
       "\t 21 &  7\\\\\n",
       "\t 31 &  8\\\\\n",
       "\t  1 &  9\\\\\n",
       "\t 20 &  9\\\\\n",
       "\t 93 &  9\\\\\n",
       "\t 25 & 10\\\\\n",
       "\t 40 & 14\\\\\n",
       "\\end{tabular}\n"
      ],
      "text/markdown": [
       "\n",
       "row | col | \n",
       "|---|---|---|---|---|---|---|---|---|---|---|---|---|\n",
       "| 69 |  3 | \n",
       "| 71 |  3 | \n",
       "| 81 |  3 | \n",
       "|  1 |  4 | \n",
       "|  3 |  4 | \n",
       "| 64 |  4 | \n",
       "| 21 |  7 | \n",
       "| 31 |  8 | \n",
       "|  1 |  9 | \n",
       "| 20 |  9 | \n",
       "| 93 |  9 | \n",
       "| 25 | 10 | \n",
       "| 40 | 14 | \n",
       "\n",
       "\n"
      ],
      "text/plain": [
       "      row col\n",
       " [1,] 69   3 \n",
       " [2,] 71   3 \n",
       " [3,] 81   3 \n",
       " [4,]  1   4 \n",
       " [5,]  3   4 \n",
       " [6,] 64   4 \n",
       " [7,] 21   7 \n",
       " [8,] 31   8 \n",
       " [9,]  1   9 \n",
       "[10,] 20   9 \n",
       "[11,] 93   9 \n",
       "[12,] 25  10 \n",
       "[13,] 40  14 "
      ]
     },
     "metadata": {},
     "output_type": "display_data"
    }
   ],
   "source": [
    "anyNA(wine_df$class)\n",
    "anyNA(wine_df)\n",
    "indx <- which(is.na(wine_df), arr.ind=TRUE)\n",
    "indx"
   ]
  },
  {
   "cell_type": "code",
   "execution_count": 8,
   "metadata": {
    "collapsed": true,
    "scrolled": false
   },
   "outputs": [],
   "source": [
    "colmeans <- colMeans(wine_df, na.rm=TRUE)\n",
    "wine_df[indx] <- colmeans[indx[,2]]"
   ]
  },
  {
   "cell_type": "markdown",
   "metadata": {},
   "source": [
    "## Data Slicing\n",
    "\n",
    "Data slicing is a step to split data into train and test set. \n",
    "\n",
    "Training data set can be used specifically for our model building. \n",
    "\n",
    "Test dataset should not be mixed up while building model. Even during standardization, we should not standardize our test set.\n",
    "\n",
    "The split for test and training is taken to be 70%:30%. Thats why the p value is 0.7. createDataPartition is a method from caret package."
   ]
  },
  {
   "cell_type": "code",
   "execution_count": 9,
   "metadata": {
    "collapsed": true,
    "scrolled": false
   },
   "outputs": [],
   "source": [
    "set.seed(512)\n",
    "intrain <- createDataPartition(y = wine_df$class, p= 0.7, list = FALSE)\n",
    "training <- wine_df[intrain,]\n",
    "testing <- wine_df[-intrain,]"
   ]
  },
  {
   "cell_type": "markdown",
   "metadata": {},
   "source": [
    "Checking the dimensions of the data"
   ]
  },
  {
   "cell_type": "code",
   "execution_count": 10,
   "metadata": {
    "collapsed": false,
    "scrolled": false
   },
   "outputs": [
    {
     "name": "stdout",
     "output_type": "stream",
     "text": [
      "[1] \"training data sets- row:col\"\n"
     ]
    },
    {
     "data": {
      "text/html": [
       "<ol class=list-inline>\n",
       "\t<li>125</li>\n",
       "\t<li>14</li>\n",
       "</ol>\n"
      ],
      "text/latex": [
       "\\begin{enumerate*}\n",
       "\\item 125\n",
       "\\item 14\n",
       "\\end{enumerate*}\n"
      ],
      "text/markdown": [
       "1. 125\n",
       "2. 14\n",
       "\n",
       "\n"
      ],
      "text/plain": [
       "[1] 125  14"
      ]
     },
     "metadata": {},
     "output_type": "display_data"
    },
    {
     "name": "stdout",
     "output_type": "stream",
     "text": [
      "[1] \"test data sets- row:col\"\n"
     ]
    },
    {
     "data": {
      "text/html": [
       "<ol class=list-inline>\n",
       "\t<li>52</li>\n",
       "\t<li>14</li>\n",
       "</ol>\n"
      ],
      "text/latex": [
       "\\begin{enumerate*}\n",
       "\\item 52\n",
       "\\item 14\n",
       "\\end{enumerate*}\n"
      ],
      "text/markdown": [
       "1. 52\n",
       "2. 14\n",
       "\n",
       "\n"
      ],
      "text/plain": [
       "[1] 52 14"
      ]
     },
     "metadata": {},
     "output_type": "display_data"
    }
   ],
   "source": [
    "print(\"training data sets- row:col\")\n",
    "dim(training)\n",
    "print(\"test data sets- row:col\")\n",
    "dim(testing)"
   ]
  },
  {
   "cell_type": "markdown",
   "metadata": {},
   "source": [
    "## Pre processing of training data\n",
    "\n",
    "A summary of our data set is as follows"
   ]
  },
  {
   "cell_type": "code",
   "execution_count": 11,
   "metadata": {
    "collapsed": false,
    "scrolled": true
   },
   "outputs": [
    {
     "data": {
      "text/plain": [
       "     class          alcohol        malic_acid        ash          alkalinity  \n",
       " Min.   :1.000   Min.   :11.03   Min.   :0.74   Min.   :1.360   Min.   :10.6  \n",
       " 1st Qu.:1.000   1st Qu.:12.36   1st Qu.:1.61   1st Qu.:2.220   1st Qu.:17.2  \n",
       " Median :2.000   Median :13.05   Median :1.89   Median :2.360   Median :19.5  \n",
       " Mean   :1.938   Mean   :13.00   Mean   :2.36   Mean   :2.367   Mean   :19.5  \n",
       " 3rd Qu.:3.000   3rd Qu.:13.68   3rd Qu.:3.10   3rd Qu.:2.550   3rd Qu.:21.5  \n",
       " Max.   :3.000   Max.   :14.83   Max.   :5.80   Max.   :3.230   Max.   :30.0  \n",
       "   magnesium         phenols        flavanoids    nonflavonoids   \n",
       " Min.   : 70.00   Min.   :0.980   Min.   :0.340   Min.   :0.1300  \n",
       " 1st Qu.: 88.00   1st Qu.:1.740   1st Qu.:1.200   1st Qu.:0.2700  \n",
       " Median : 98.00   Median :2.350   Median :2.110   Median :0.3400  \n",
       " Mean   : 99.82   Mean   :2.292   Mean   :2.019   Mean   :0.3647  \n",
       " 3rd Qu.:107.00   3rd Qu.:2.800   3rd Qu.:2.860   3rd Qu.:0.4400  \n",
       " Max.   :162.00   Max.   :3.880   Max.   :5.080   Max.   :0.6600  \n",
       " proanthocyanins color_intensity       hue         fraction_OD280 \n",
       " Min.   :0.410   Min.   : 1.280   Min.   :0.4800   Min.   :1.270  \n",
       " 1st Qu.:1.250   1st Qu.: 3.210   1st Qu.:0.7800   1st Qu.:1.930  \n",
       " Median :1.550   Median : 4.700   Median :0.9600   Median :2.780  \n",
       " Mean   :1.589   Mean   : 5.065   Mean   :0.9563   Mean   :2.609  \n",
       " 3rd Qu.:1.950   3rd Qu.: 6.200   3rd Qu.:1.1200   3rd Qu.:3.170  \n",
       " Max.   :3.580   Max.   :13.000   Max.   :1.7100   Max.   :4.000  \n",
       "    proline    \n",
       " Min.   : 278  \n",
       " 1st Qu.: 500  \n",
       " Median : 672  \n",
       " Mean   : 747  \n",
       " 3rd Qu.: 985  \n",
       " Max.   :1680  "
      ]
     },
     "metadata": {},
     "output_type": "display_data"
    }
   ],
   "source": [
    "summary(wine_df)"
   ]
  },
  {
   "cell_type": "markdown",
   "metadata": {},
   "source": [
    "From above summary statistics, it shows us that all the attributes have a different range. So, we need to standardize our data. We can standardize data using caret’s preProcess() method.\n",
    "\n",
    "We are passing 2 values in our “preProcess” parameter “center” & “scale”. These two help for centering and scaling the data. After preProcessing these convert our training data with mean value as approximately “0” and standard deviation as “1”."
   ]
  },
  {
   "cell_type": "code",
   "execution_count": 12,
   "metadata": {
    "collapsed": false,
    "scrolled": true
   },
   "outputs": [],
   "source": [
    "pre_process <- c(\"center\", \"scale\")"
   ]
  },
  {
   "cell_type": "markdown",
   "metadata": {},
   "source": [
    "Our target variable consists of 3 values 1, 2, 3. \n",
    "\n",
    "These should considered as categorical variables. To convert these to categorical variables, we can convert them to factors."
   ]
  },
  {
   "cell_type": "code",
   "execution_count": 13,
   "metadata": {
    "collapsed": false,
    "scrolled": true
   },
   "outputs": [],
   "source": [
    "training[['class']] = factor(training[['class']])"
   ]
  },
  {
   "cell_type": "markdown",
   "metadata": {},
   "source": [
    "We are setting 3 parameters of trainControl() method. The “method” parameter holds the details about resampling method. We can set “method” with many values like  “boot”, “boot632”, “cv”, “repeatedcv”, “LOOCV”, “LGOCV” etc. For this tutorial, let’s try to use repeatedcv i.e, repeated cross-validation.\n",
    "\n",
    "The “number” parameter holds the number of resampling iterations. The “repeats ” parameter contains the complete sets of folds to compute for our repeated cross-validation. We are using setting number =10 and repeats =3. This trainControl() methods returns a list."
   ]
  },
  {
   "cell_type": "code",
   "execution_count": 14,
   "metadata": {
    "collapsed": true,
    "scrolled": false
   },
   "outputs": [],
   "source": [
    "trctrl <- trainControl(method = \"repeatedcv\", number = 10, repeats = 3)"
   ]
  },
  {
   "cell_type": "markdown",
   "metadata": {},
   "source": [
    "The class ~ . denotes a formula for using all attributes in our classifier and class as the target variable.\n",
    "\n",
    "We could select attributes by adding them for the formulae"
   ]
  },
  {
   "cell_type": "code",
   "execution_count": 15,
   "metadata": {
    "collapsed": true,
    "scrolled": false
   },
   "outputs": [],
   "source": [
    "attributes_formulae <- class ~ alcohol + malic_acid + ash + alkalinity + magnesium + phenols + flavanoids + \n",
    "                    nonflavonoids + proanthocyanins + color_intensity + hue + fraction_OD280 + proline"
   ]
  },
  {
   "cell_type": "markdown",
   "metadata": {},
   "source": [
    "## Training the Knn model\n",
    "\n",
    "For training knn classifier, train() method should be passed with “method” parameter as “knn”. \n",
    "The “tuneLength” parameter holds an integer value. This is for tuning our algorithm."
   ]
  },
  {
   "cell_type": "code",
   "execution_count": 16,
   "metadata": {
    "collapsed": true,
    "scrolled": false
   },
   "outputs": [],
   "source": [
    "set.seed(3333)\n",
    "knn_fit <- train(attributes_formulae, data = training, method = \"knn\",\n",
    " trControl=trctrl,\n",
    " preProcess = pre_process,\n",
    " tuneLength = 10)"
   ]
  },
  {
   "cell_type": "markdown",
   "metadata": {},
   "source": [
    "You can check the result of our train() method. We are saving its results in a knn_fit variable."
   ]
  },
  {
   "cell_type": "code",
   "execution_count": 17,
   "metadata": {
    "collapsed": false,
    "scrolled": false
   },
   "outputs": [
    {
     "data": {
      "text/plain": [
       "k-Nearest Neighbors \n",
       "\n",
       "125 samples\n",
       " 13 predictor\n",
       "  3 classes: '1', '2', '3' \n",
       "\n",
       "Pre-processing: centered (13), scaled (13) \n",
       "Resampling: Cross-Validated (10 fold, repeated 3 times) \n",
       "Summary of sample sizes: 113, 114, 112, 113, 112, 112, ... \n",
       "Resampling results across tuning parameters:\n",
       "\n",
       "  k   Accuracy   Kappa    \n",
       "   5  0.9522117  0.9280460\n",
       "   7  0.9606227  0.9407156\n",
       "   9  0.9548840  0.9322948\n",
       "  11  0.9651709  0.9477619\n",
       "  13  0.9576618  0.9362287\n",
       "  15  0.9550977  0.9326388\n",
       "  17  0.9452076  0.9176669\n",
       "  19  0.9443445  0.9165907\n",
       "  21  0.9438783  0.9159106\n",
       "  23  0.9464730  0.9197424\n",
       "\n",
       "Accuracy was used to select the optimal model using the largest value.\n",
       "The final value used for the model was k = 11."
      ]
     },
     "metadata": {},
     "output_type": "display_data"
    }
   ],
   "source": [
    "knn_fit"
   ]
  },
  {
   "cell_type": "markdown",
   "metadata": {},
   "source": [
    "Its showing Accuracy and Kappa metrics result for different k value. From the results, it automatically selects best k-value. Here, our training model is choosing k = 11 as its final value.\n",
    "\n",
    "We can see variation in Accuracy w.r.t K value by plotting these in a graph."
   ]
  },
  {
   "cell_type": "code",
   "execution_count": 18,
   "metadata": {
    "collapsed": false,
    "scrolled": false
   },
   "outputs": [
    {
     "data": {},
     "metadata": {},
     "output_type": "display_data"
    },
    {
     "data": {
      "image/png": "[encoded data removed]",
      "text/plain": [
       "plot without title"
      ]
     },
     "metadata": {},
     "output_type": "display_data"
    }
   ],
   "source": [
    "plot(knn_fit) "
   ]
  },
  {
   "cell_type": "markdown",
   "metadata": {},
   "source": [
    "## Test Set Prediction\n",
    "Now, our model is trained with K value as 11. We are ready to predict classes for our test set. We can use predict() method.\n",
    "\n",
    "caret package provides predict() method for predicting results. We are passing 2 arguments. The first parameter is our trained model and second parameter “newdata” holds our testing data frame. The predict() method returns a list, we are saving it in a test_pred variable."
   ]
  },
  {
   "cell_type": "code",
   "execution_count": 19,
   "metadata": {
    "collapsed": false,
    "scrolled": true
   },
   "outputs": [
    {
     "data": {
      "text/html": [
       "<table>\n",
       "<thead><tr><th scope=col>class</th><th scope=col>pred</th></tr></thead>\n",
       "<tbody>\n",
       "\t<tr><td>1</td><td>1</td></tr>\n",
       "\t<tr><td>1</td><td>1</td></tr>\n",
       "\t<tr><td>1</td><td>1</td></tr>\n",
       "\t<tr><td>1</td><td>1</td></tr>\n",
       "\t<tr><td>1</td><td>1</td></tr>\n",
       "\t<tr><td>1</td><td>1</td></tr>\n",
       "\t<tr><td>1</td><td>1</td></tr>\n",
       "\t<tr><td>1</td><td>1</td></tr>\n",
       "\t<tr><td>1</td><td>1</td></tr>\n",
       "\t<tr><td>1</td><td>1</td></tr>\n",
       "\t<tr><td>1</td><td>1</td></tr>\n",
       "\t<tr><td>1</td><td>1</td></tr>\n",
       "\t<tr><td>1</td><td>1</td></tr>\n",
       "\t<tr><td>1</td><td>1</td></tr>\n",
       "\t<tr><td>1</td><td>1</td></tr>\n",
       "\t<tr><td>1</td><td>1</td></tr>\n",
       "\t<tr><td>1</td><td>1</td></tr>\n",
       "\t<tr><td>2</td><td>1</td></tr>\n",
       "\t<tr><td>2</td><td>2</td></tr>\n",
       "\t<tr><td>2</td><td>2</td></tr>\n",
       "\t<tr><td>2</td><td>1</td></tr>\n",
       "\t<tr><td>2</td><td>2</td></tr>\n",
       "\t<tr><td>2</td><td>2</td></tr>\n",
       "\t<tr><td>2</td><td>2</td></tr>\n",
       "\t<tr><td>2</td><td>2</td></tr>\n",
       "\t<tr><td>2</td><td>2</td></tr>\n",
       "\t<tr><td>2</td><td>2</td></tr>\n",
       "\t<tr><td>2</td><td>2</td></tr>\n",
       "\t<tr><td>2</td><td>2</td></tr>\n",
       "\t<tr><td>2</td><td>2</td></tr>\n",
       "\t<tr><td>2</td><td>2</td></tr>\n",
       "\t<tr><td>2</td><td>2</td></tr>\n",
       "\t<tr><td>2</td><td>2</td></tr>\n",
       "\t<tr><td>2</td><td>2</td></tr>\n",
       "\t<tr><td>2</td><td>2</td></tr>\n",
       "\t<tr><td>2</td><td>2</td></tr>\n",
       "\t<tr><td>2</td><td>2</td></tr>\n",
       "\t<tr><td>2</td><td>2</td></tr>\n",
       "\t<tr><td>3</td><td>3</td></tr>\n",
       "\t<tr><td>3</td><td>3</td></tr>\n",
       "\t<tr><td>3</td><td>3</td></tr>\n",
       "\t<tr><td>3</td><td>3</td></tr>\n",
       "\t<tr><td>3</td><td>3</td></tr>\n",
       "\t<tr><td>3</td><td>3</td></tr>\n",
       "\t<tr><td>3</td><td>3</td></tr>\n",
       "\t<tr><td>3</td><td>3</td></tr>\n",
       "\t<tr><td>3</td><td>3</td></tr>\n",
       "\t<tr><td>3</td><td>3</td></tr>\n",
       "\t<tr><td>3</td><td>3</td></tr>\n",
       "\t<tr><td>3</td><td>3</td></tr>\n",
       "\t<tr><td>3</td><td>3</td></tr>\n",
       "\t<tr><td>3</td><td>3</td></tr>\n",
       "</tbody>\n",
       "</table>\n"
      ],
      "text/latex": [
       "\\begin{tabular}{r|ll}\n",
       " class & pred\\\\\n",
       "\\hline\n",
       "\t 1 & 1\\\\\n",
       "\t 1 & 1\\\\\n",
       "\t 1 & 1\\\\\n",
       "\t 1 & 1\\\\\n",
       "\t 1 & 1\\\\\n",
       "\t 1 & 1\\\\\n",
       "\t 1 & 1\\\\\n",
       "\t 1 & 1\\\\\n",
       "\t 1 & 1\\\\\n",
       "\t 1 & 1\\\\\n",
       "\t 1 & 1\\\\\n",
       "\t 1 & 1\\\\\n",
       "\t 1 & 1\\\\\n",
       "\t 1 & 1\\\\\n",
       "\t 1 & 1\\\\\n",
       "\t 1 & 1\\\\\n",
       "\t 1 & 1\\\\\n",
       "\t 2 & 1\\\\\n",
       "\t 2 & 2\\\\\n",
       "\t 2 & 2\\\\\n",
       "\t 2 & 1\\\\\n",
       "\t 2 & 2\\\\\n",
       "\t 2 & 2\\\\\n",
       "\t 2 & 2\\\\\n",
       "\t 2 & 2\\\\\n",
       "\t 2 & 2\\\\\n",
       "\t 2 & 2\\\\\n",
       "\t 2 & 2\\\\\n",
       "\t 2 & 2\\\\\n",
       "\t 2 & 2\\\\\n",
       "\t 2 & 2\\\\\n",
       "\t 2 & 2\\\\\n",
       "\t 2 & 2\\\\\n",
       "\t 2 & 2\\\\\n",
       "\t 2 & 2\\\\\n",
       "\t 2 & 2\\\\\n",
       "\t 2 & 2\\\\\n",
       "\t 2 & 2\\\\\n",
       "\t 3 & 3\\\\\n",
       "\t 3 & 3\\\\\n",
       "\t 3 & 3\\\\\n",
       "\t 3 & 3\\\\\n",
       "\t 3 & 3\\\\\n",
       "\t 3 & 3\\\\\n",
       "\t 3 & 3\\\\\n",
       "\t 3 & 3\\\\\n",
       "\t 3 & 3\\\\\n",
       "\t 3 & 3\\\\\n",
       "\t 3 & 3\\\\\n",
       "\t 3 & 3\\\\\n",
       "\t 3 & 3\\\\\n",
       "\t 3 & 3\\\\\n",
       "\\end{tabular}\n"
      ],
      "text/markdown": [
       "\n",
       "class | pred | \n",
       "|---|---|---|---|---|---|---|---|---|---|---|---|---|---|---|---|---|---|---|---|---|---|---|---|---|---|---|---|---|---|---|---|---|---|---|---|---|---|---|---|---|---|---|---|---|---|---|---|---|---|---|---|\n",
       "| 1 | 1 | \n",
       "| 1 | 1 | \n",
       "| 1 | 1 | \n",
       "| 1 | 1 | \n",
       "| 1 | 1 | \n",
       "| 1 | 1 | \n",
       "| 1 | 1 | \n",
       "| 1 | 1 | \n",
       "| 1 | 1 | \n",
       "| 1 | 1 | \n",
       "| 1 | 1 | \n",
       "| 1 | 1 | \n",
       "| 1 | 1 | \n",
       "| 1 | 1 | \n",
       "| 1 | 1 | \n",
       "| 1 | 1 | \n",
       "| 1 | 1 | \n",
       "| 2 | 1 | \n",
       "| 2 | 2 | \n",
       "| 2 | 2 | \n",
       "| 2 | 1 | \n",
       "| 2 | 2 | \n",
       "| 2 | 2 | \n",
       "| 2 | 2 | \n",
       "| 2 | 2 | \n",
       "| 2 | 2 | \n",
       "| 2 | 2 | \n",
       "| 2 | 2 | \n",
       "| 2 | 2 | \n",
       "| 2 | 2 | \n",
       "| 2 | 2 | \n",
       "| 2 | 2 | \n",
       "| 2 | 2 | \n",
       "| 2 | 2 | \n",
       "| 2 | 2 | \n",
       "| 2 | 2 | \n",
       "| 2 | 2 | \n",
       "| 2 | 2 | \n",
       "| 3 | 3 | \n",
       "| 3 | 3 | \n",
       "| 3 | 3 | \n",
       "| 3 | 3 | \n",
       "| 3 | 3 | \n",
       "| 3 | 3 | \n",
       "| 3 | 3 | \n",
       "| 3 | 3 | \n",
       "| 3 | 3 | \n",
       "| 3 | 3 | \n",
       "| 3 | 3 | \n",
       "| 3 | 3 | \n",
       "| 3 | 3 | \n",
       "| 3 | 3 | \n",
       "\n",
       "\n"
      ],
      "text/plain": [
       "   class pred\n",
       "1  1     1   \n",
       "2  1     1   \n",
       "3  1     1   \n",
       "4  1     1   \n",
       "5  1     1   \n",
       "6  1     1   \n",
       "7  1     1   \n",
       "8  1     1   \n",
       "9  1     1   \n",
       "10 1     1   \n",
       "11 1     1   \n",
       "12 1     1   \n",
       "13 1     1   \n",
       "14 1     1   \n",
       "15 1     1   \n",
       "16 1     1   \n",
       "17 1     1   \n",
       "18 2     1   \n",
       "19 2     2   \n",
       "20 2     2   \n",
       "21 2     1   \n",
       "22 2     2   \n",
       "23 2     2   \n",
       "24 2     2   \n",
       "25 2     2   \n",
       "26 2     2   \n",
       "27 2     2   \n",
       "28 2     2   \n",
       "29 2     2   \n",
       "30 2     2   \n",
       "31 2     2   \n",
       "32 2     2   \n",
       "33 2     2   \n",
       "34 2     2   \n",
       "35 2     2   \n",
       "36 2     2   \n",
       "37 2     2   \n",
       "38 2     2   \n",
       "39 3     3   \n",
       "40 3     3   \n",
       "41 3     3   \n",
       "42 3     3   \n",
       "43 3     3   \n",
       "44 3     3   \n",
       "45 3     3   \n",
       "46 3     3   \n",
       "47 3     3   \n",
       "48 3     3   \n",
       "49 3     3   \n",
       "50 3     3   \n",
       "51 3     3   \n",
       "52 3     3   "
      ]
     },
     "metadata": {},
     "output_type": "display_data"
    }
   ],
   "source": [
    "test_pred <- predict(knn_fit, newdata = testing)\n",
    "testing %>%\n",
    "    mutate(pred = test_pred) %>% \n",
    "    select(class, pred)"
   ]
  },
  {
   "cell_type": "markdown",
   "metadata": {},
   "source": [
    "## Accuracy\n",
    "\n",
    "Using confusion matrix, we can print statistics of our results. It shows that our model accuracy for test set is 96.15%."
   ]
  },
  {
   "cell_type": "code",
   "execution_count": 20,
   "metadata": {
    "collapsed": false,
    "scrolled": false
   },
   "outputs": [
    {
     "data": {
      "text/plain": [
       "Confusion Matrix and Statistics\n",
       "\n",
       "          Reference\n",
       "Prediction  1  2  3\n",
       "         1 17  2  0\n",
       "         2  0 19  0\n",
       "         3  0  0 14\n",
       "\n",
       "Overall Statistics\n",
       "                                          \n",
       "               Accuracy : 0.9615          \n",
       "                 95% CI : (0.8679, 0.9953)\n",
       "    No Information Rate : 0.4038          \n",
       "    P-Value [Acc > NIR] : < 2.2e-16       \n",
       "                                          \n",
       "                  Kappa : 0.9418          \n",
       " Mcnemar's Test P-Value : NA              \n",
       "\n",
       "Statistics by Class:\n",
       "\n",
       "                     Class: 1 Class: 2 Class: 3\n",
       "Sensitivity            1.0000   0.9048   1.0000\n",
       "Specificity            0.9429   1.0000   1.0000\n",
       "Pos Pred Value         0.8947   1.0000   1.0000\n",
       "Neg Pred Value         1.0000   0.9394   1.0000\n",
       "Prevalence             0.3269   0.4038   0.2692\n",
       "Detection Rate         0.3269   0.3654   0.2692\n",
       "Detection Prevalence   0.3654   0.3654   0.2692\n",
       "Balanced Accuracy      0.9714   0.9524   1.0000"
      ]
     },
     "metadata": {},
     "output_type": "display_data"
    }
   ],
   "source": [
    "testing[['class']] <- factor(testing[['class']])\n",
    "confusionMatrix(test_pred, testing$class)"
   ]
  }
 ],
 "metadata": {
  "anaconda-cloud": {},
  "kernelspec": {
   "display_name": "R",
   "language": "R",
   "name": "ir"
  },
  "language_info": {
   "codemirror_mode": "r",
   "file_extension": ".r",
   "mimetype": "text/x-r-source",
   "name": "R",
   "pygments_lexer": "r",
   "version": "3.3.3"
  }
 },
 "nbformat": 4,
 "nbformat_minor": 0
}
