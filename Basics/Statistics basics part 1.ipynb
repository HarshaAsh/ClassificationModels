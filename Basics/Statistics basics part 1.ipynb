{
 "cells": [
  {
   "cell_type": "markdown",
   "metadata": {},
   "source": [
    "Enterprise Analytics Knowledgebase  \n",
    "Topic area: Statistics  \n",
    "Sub-topics: Data measurement, Measures of central tendency, Measures of variability and Measures of shape  \n",
    "### Statistics\n",
    "Statistics is a science dealing with the collection, analysis, interpretation, and presentation of numerical data. - Websters dictionary  \n",
    "In any business, including in Retail, statistics are used extensively to do the following tasks:  \n",
    "1. Quantify different KPI's to get a realistic view of the business  \n",
    "2. Identify the cause-effect relationships between different factors  \n",
    "3. Create hypothesis tests to validate business intuition  \n",
    "4. Identify if an event has a significant effect on the business\n",
    "\n",
    "The study of statistics can be organised in a variety of ways. One of the main ways is to subdivide statistics into two branches: descriptive statistics and inferential statistics. To understand the difference between descriptive and inferential statistics, definitions of population and sample are helpful.  \n",
    "\n",
    "#### Population\n",
    "It is a collection of persons, objects, or items of interest. The population can be a widely defined category, such as “all products,” or it can be narrowly defined, such as “all products in Store 2105 Bedford Extra.” A population can be a group of people, such as “all Tesco's employees,” or it can be a set of objects, such as “All grocery sold on February 3, 2007”.   \n",
    "The analyst defines the population to be whatever he or she is studying. For example, if we want to study the effect of Christmas holidays on sales in the UK, the population would be the sales in all stores in the UK during the Christmas period.  If the study is to predict the sales for the next year using the last three years patterns, then the population would be the sales of the last three years and the next year. Any analysis or predictions should be made within the population.  \n",
    "\n",
    "#### Sample\n",
    "A sample is a portion of the whole and, if rightly taken, is representative of the whole. For various reasons, analysts often prefer to work with a sample of the population instead of the entire population. Because of time and money limitations, a human resources manager might take a random sample of 40 employees instead of using a census to measure company morale.  \n",
    "  \n",
    "#### Inferential vs descriptive analytics\n",
    "If a business analyst is using data gathered on a group to describe or reach conclusions about that same group, the statistics are called descriptive statistics. For example, if an analyst produces statistics (KPI's) to summarise a store's performance and uses those statistics to reach conclusions about that store only, the statistics are descriptive.  \n",
    "\n",
    "Another type of statistics is called inferential statistics. If a researcher gathers data from a sample and uses the statistics generated to reach conclusions about the population from which the sample was taken, the statistics are inferential. The data gathered from the sample are used to infer something about a larger group (population).  \n",
    "\n",
    "#### Parameters vs statistics\n",
    "A descriptive measure of the population is called a parameter. Examples of parameters are population mean ($\\mu$), population variance ($\\sigma^2$), and population standard deviation ($\\sigma$).   \n",
    "A descriptive measure of a sample is called a statistic. Examples of statistics are the sample mean ($\\bar x$), sample variance ($s^2$), and sample standard deviation (s).  \n",
    "\n",
    "## Data measurement\n",
    "There are four types of data. They are:  \n",
    "1. Nominal: Nominal data do not have a rank. They are data that are used to classify and categorise. Examples are employee identification number or sub-group information. An employee with number 5367 is not one greater than an employee with number 5368.     \n",
    "2. Ordinal: In ordinal data, the data can be ranked, but the difference between the two ranks should not have a meaning. This is also used for classifying data. For example, “Good”, “Average”, “Bad”. Good is a greater rank than average, and the average is greater than bad. But the difference between good and average does not have any meaning.     \n",
    "3. Interval: Interval is data in which the distances between consecutive numbers have meaning, and the data are always numerical. For interval data, zero is just another point on the scale and not the absence of the phenomenon. Example of interval data is Fahrenheit scale of temperature.   \n",
    "4. Ratio:  Ratio data have the same properties as interval data, but ratio data have an absolute zero, and the ratio of two numbers is meaningful. Examples are height, weight, time etc.   \n",
    "\n",
    "## Measures of central tendency\n",
    "Measures of central tendency tend to describe the middle part of the data. They are:  \n",
    "**Mean**: Mean is the average of a group of numbers $ \\mu = \\frac{\\sum x_i}{N} = \\frac{x_1+x_2 + ... + x_n}{N} $  \n",
    "**Median**: Median is the middle value in an ordered array of numbers     \n",
    "**Mode**: Mode is the most frequently occurring value in a set of data   \n",
    "  \n",
    "**Percentiles**: Percentiles are measures of central tendency that divide the data into 100 parts. There are 99 percentiles because there are 99 dividers to separate the data into 100 parts. The nth percentile is the value such that at least n percent of the data is below that value and at most (100 - n) percent is above that value. For example, 87th percentile means at least 87% of the data are below the value, and no more than 13% are above the value.   \n",
    "\n",
    "**Quartiles**: Quartiles are measures of central tendency that divide a group of data into four subgroups or parts. The three quartiles are denoted as Q1, Q2, and Q3. The first quartile, Q1, separates the first, or lowest, one-fourth of the data from the upper three-fourths and is equal to the 25th percentile. The second quartile, Q2, separates the second quarter of the data from the third quarter. Q2 is located at the 50th percentile and equals the median of the data. The third quartile, Q3, divides the first three-quarters of the data from the last quarter and is equal to the value of the 75th percentile.  \n",
    "\n",
    "## Measures of variability\n",
    "Measures of variability are used to describe the spread or the dispersion of a set of data. They are:  \n",
    "**Range**: The range is the difference between the largest value of a data set and the smallest value of a set.  \n",
    "**Interquartile Range**: The interquartile range is the range of values between the first and third quartile. Essentially, it is the range of the middle 50% of the data and is determined by computing the value of Q3 - Q1.  \n",
    "![Variability](Pictures/box_plot.png)  \n",
    "**Mean Absolute Deviation**: The mean absolute deviation (MAD) is the average of the absolute values of the deviations\n",
    "around the mean for a set of numbers. $MAD = \\frac{\\sum |x_i-\\mu|}{N} $  \n",
    "**Variance**: The variance is the average of the squared deviations about the arithmetic mean for a set of numbers. The population variance is denoted by $\\sigma^2$. $\\sigma^2 = \\frac{\\sum(x_i-\\mu)^2}{N}$  \n",
    "**Standard Deviation**: The standard deviation is the square root of the variance. The population standard deviation is denoted by $\\sigma$. $\\sigma = \\sqrt(\\frac{\\sum(x_i-\\mu)^2}{N})$ \n",
    "\n",
    "## Measures of shape\n",
    "Measures of shape are tools that can be used to describe the shape of a distribution of data. They are:   \n",
    "**Skewness**:  Skewness is when a distribution is asymmetrical or lacks symmetry. Coefficient of skewness is defined as $S_k = \\frac{3(\\mu-M_d)}{\\sigma}$ where $M_d$ is the median.  \n",
    "![Skewness](Pictures/Measures-of-Shape.png)\n",
    "**Kurtosis**: Kurtosis is defined as the amount of peakedness in the distribution. There are three types of kurtosis, Loptokurtic, Mesokurtic, Platykurtic distributions.\n",
    "![Kurtosis](Pictures/Measures-of-Shape-5.png)\n",
    "\n",
    "Not all measures can be used on all data types. The below table explains what measures can be used on what kind of data types: \n",
    "\n",
    "\n",
    "| Measure             | Nominal | Ordinal | Interval | Ratio |\n",
    "|---------------------|---------|---------|----------|-------|\n",
    "| Mean                |    No   |    No   |    Yes   |  Yes  |\n",
    "| Median              |    No   |    Yes  |    Yes   |  Yes  |\n",
    "| Mode                |    Yes  |    Yes  |    Yes   |  Yes  |\n",
    "| Percentiles         |    No   |    No   |    Yes   |  Yes  |\n",
    "| Quartiles           |    No   |    No   |    Yes   |  Yes  |\n",
    "| Range               |    No   |    Yes  |    Yes   |  Yes  |\n",
    "| Interquartile Range |    No   |    No   |    Yes   |  Yes  |\n",
    "| MAD                 |    No   |    No   |    Yes   |  Yes  |\n",
    "| Variance            |    No   |    No   |    Yes   |  Yes  |\n",
    "| Std.dev             |    No   |    No   |    Yes   |  Yes  |\n",
    "| Skewness            |    No   |    No   |    Yes   |  Yes  |\n",
    "| Kurtosis            |    No   |    No   |    Yes   |  Yes  |\n",
    "\n",
    "\n",
    "![Pictures/Data Measurements](DataMeasurements.jpg)\n",
    "The above figure shows the relationships of the usage potential among the four levels of data measurement. The concentric squares denote that each higher level of data can be analysed by any of the techniques used on lower levels of data but, in addition, can be used in other statistical techniques.   "
   ]
  },
  {
   "cell_type": "code",
   "execution_count": 1,
   "metadata": {},
   "outputs": [
    {
     "data": {
      "text/html": [
       "<div>\n",
       "<style scoped>\n",
       "    .dataframe tbody tr th:only-of-type {\n",
       "        vertical-align: middle;\n",
       "    }\n",
       "\n",
       "    .dataframe tbody tr th {\n",
       "        vertical-align: top;\n",
       "    }\n",
       "\n",
       "    .dataframe thead th {\n",
       "        text-align: right;\n",
       "    }\n",
       "</style>\n",
       "<table border=\"1\" class=\"dataframe\">\n",
       "  <thead>\n",
       "    <tr style=\"text-align: right;\">\n",
       "      <th></th>\n",
       "      <th>Price</th>\n",
       "      <th>Living Area</th>\n",
       "      <th>Bathrooms</th>\n",
       "      <th>Bedrooms</th>\n",
       "      <th>Lot Size</th>\n",
       "      <th>Age</th>\n",
       "      <th>Fireplace</th>\n",
       "    </tr>\n",
       "  </thead>\n",
       "  <tbody>\n",
       "    <tr>\n",
       "      <th>0</th>\n",
       "      <td>142212</td>\n",
       "      <td>1982</td>\n",
       "      <td>1.0</td>\n",
       "      <td>3</td>\n",
       "      <td>2.00</td>\n",
       "      <td>133</td>\n",
       "      <td>0</td>\n",
       "    </tr>\n",
       "    <tr>\n",
       "      <th>1</th>\n",
       "      <td>134865</td>\n",
       "      <td>1676</td>\n",
       "      <td>1.5</td>\n",
       "      <td>3</td>\n",
       "      <td>0.38</td>\n",
       "      <td>14</td>\n",
       "      <td>1</td>\n",
       "    </tr>\n",
       "    <tr>\n",
       "      <th>2</th>\n",
       "      <td>118007</td>\n",
       "      <td>1694</td>\n",
       "      <td>2.0</td>\n",
       "      <td>3</td>\n",
       "      <td>0.96</td>\n",
       "      <td>15</td>\n",
       "      <td>1</td>\n",
       "    </tr>\n",
       "    <tr>\n",
       "      <th>3</th>\n",
       "      <td>138297</td>\n",
       "      <td>1800</td>\n",
       "      <td>1.0</td>\n",
       "      <td>2</td>\n",
       "      <td>0.48</td>\n",
       "      <td>49</td>\n",
       "      <td>1</td>\n",
       "    </tr>\n",
       "    <tr>\n",
       "      <th>4</th>\n",
       "      <td>129470</td>\n",
       "      <td>2088</td>\n",
       "      <td>1.0</td>\n",
       "      <td>3</td>\n",
       "      <td>1.84</td>\n",
       "      <td>29</td>\n",
       "      <td>1</td>\n",
       "    </tr>\n",
       "  </tbody>\n",
       "</table>\n",
       "</div>"
      ],
      "text/plain": [
       "    Price  Living Area  Bathrooms  Bedrooms  Lot Size  Age  Fireplace\n",
       "0  142212         1982        1.0         3      2.00  133          0\n",
       "1  134865         1676        1.5         3      0.38   14          1\n",
       "2  118007         1694        2.0         3      0.96   15          1\n",
       "3  138297         1800        1.0         2      0.48   49          1\n",
       "4  129470         2088        1.0         3      1.84   29          1"
      ]
     },
     "execution_count": 1,
     "metadata": {},
     "output_type": "execute_result"
    }
   ],
   "source": [
    "import numpy as np\n",
    "import pandas as pd\n",
    "import matplotlib.pyplot as plt\n",
    "\n",
    "path=\"Data/house_prices.csv\"\n",
    "df = pd.read_csv(path)\n",
    "df.head()"
   ]
  },
  {
   "cell_type": "code",
   "execution_count": 2,
   "metadata": {},
   "outputs": [
    {
     "name": "stdout",
     "output_type": "stream",
     "text": [
      "Mean:  163862.12511938874 \n",
      "Median:  151917.0 \n",
      "Mode:  139079\n"
     ]
    },
    {
     "data": {
      "image/png": "[encoded data removed]",
      "text/plain": [
       "<Figure size 720x360 with 1 Axes>"
      ]
     },
     "metadata": {
      "needs_background": "light"
     },
     "output_type": "display_data"
    }
   ],
   "source": [
    "saleprice = df['Price']\n",
    "\n",
    "mean=saleprice.mean()\n",
    "median=saleprice.median()\n",
    "mode=saleprice.mode()\n",
    "\n",
    "print('Mean: ',mean,'\\nMedian: ',median,'\\nMode: ',mode[0])\n",
    "plt.figure(figsize=(10,5))\n",
    "plt.hist(saleprice,bins=100,color='grey')\n",
    "plt.axvline(mean,color='red',label='Mean')\n",
    "plt.axvline(median,color='yellow',label='Median')\n",
    "plt.axvline(mode[0],color='green',label='Mode')\n",
    "plt.xlabel('SalePrice')\n",
    "plt.ylabel('Frequency')\n",
    "plt.legend()\n",
    "plt.show()"
   ]
  },
  {
   "cell_type": "code",
   "execution_count": 3,
   "metadata": {},
   "outputs": [
    {
     "data": {
      "text/plain": [
       "16858"
      ]
     },
     "execution_count": 3,
     "metadata": {},
     "output_type": "execute_result"
    }
   ],
   "source": [
    "#minimum value of salePrice\n",
    "df['Price'].min()"
   ]
  },
  {
   "cell_type": "code",
   "execution_count": 4,
   "metadata": {},
   "outputs": [
    {
     "data": {
      "text/plain": [
       "446436"
      ]
     },
     "execution_count": 4,
     "metadata": {},
     "output_type": "execute_result"
    }
   ],
   "source": [
    "#maximum value of salePrice\n",
    "df['Price'].max()"
   ]
  },
  {
   "cell_type": "code",
   "execution_count": 5,
   "metadata": {},
   "outputs": [
    {
     "data": {
      "text/plain": [
       "429578"
      ]
     },
     "execution_count": 5,
     "metadata": {},
     "output_type": "execute_result"
    }
   ],
   "source": [
    "#Range\n",
    "df['Price'].max()-df['Price'].min()"
   ]
  },
  {
   "cell_type": "code",
   "execution_count": 6,
   "metadata": {},
   "outputs": [
    {
     "data": {
      "text/plain": [
       "4576733423.870562"
      ]
     },
     "execution_count": 6,
     "metadata": {},
     "output_type": "execute_result"
    }
   ],
   "source": [
    "#variance\n",
    "df['Price'].var()"
   ]
  },
  {
   "cell_type": "code",
   "execution_count": 7,
   "metadata": {},
   "outputs": [
    {
     "data": {
      "text/plain": [
       "67651.55891678005"
      ]
     },
     "execution_count": 7,
     "metadata": {},
     "output_type": "execute_result"
    }
   ],
   "source": [
    "#standard deviation\n",
    "from math import sqrt\n",
    "sqrt(df['Price'].var())"
   ]
  },
  {
   "cell_type": "code",
   "execution_count": 8,
   "metadata": {},
   "outputs": [
    {
     "data": {
      "text/plain": [
       "151917.0"
      ]
     },
     "execution_count": 8,
     "metadata": {},
     "output_type": "execute_result"
    }
   ],
   "source": [
    "#50th percentile i.e median(q2)\n",
    "df['Price'].quantile(0.5)"
   ]
  },
  {
   "cell_type": "code",
   "execution_count": 9,
   "metadata": {},
   "outputs": [
    {
     "data": {
      "text/plain": [
       "205235.0"
      ]
     },
     "execution_count": 9,
     "metadata": {},
     "output_type": "execute_result"
    }
   ],
   "source": [
    "#75th percentile\n",
    "q3 = df['Price'].quantile(0.75)\n",
    "q3"
   ]
  },
  {
   "cell_type": "code",
   "execution_count": 10,
   "metadata": {},
   "outputs": [
    {
     "data": {
      "text/plain": [
       "112014.0"
      ]
     },
     "execution_count": 10,
     "metadata": {},
     "output_type": "execute_result"
    }
   ],
   "source": [
    "#25th percentile\n",
    "q1 = df['Price'].quantile(0.25)\n",
    "q1"
   ]
  },
  {
   "cell_type": "code",
   "execution_count": 11,
   "metadata": {},
   "outputs": [
    {
     "data": {
      "text/plain": [
       "93221.0"
      ]
     },
     "execution_count": 11,
     "metadata": {},
     "output_type": "execute_result"
    }
   ],
   "source": [
    "#interquartile range\n",
    "IQR = q3  - q1\n",
    "IQR"
   ]
  },
  {
   "cell_type": "code",
   "execution_count": 12,
   "metadata": {},
   "outputs": [
    {
     "data": {
      "image/png": "[encoded data removed]",
      "text/plain": [
       "<Figure size 432x288 with 1 Axes>"
      ]
     },
     "metadata": {
      "needs_background": "light"
     },
     "output_type": "display_data"
    }
   ],
   "source": [
    "plt.boxplot(df['Price'])\n",
    "plt.show()"
   ]
  },
  {
   "cell_type": "code",
   "execution_count": 13,
   "metadata": {},
   "outputs": [
    {
     "data": {
      "text/plain": [
       "0.876159910810612"
      ]
     },
     "execution_count": 13,
     "metadata": {},
     "output_type": "execute_result"
    }
   ],
   "source": [
    "#skewness\n",
    "df['Price'].skew()"
   ]
  },
  {
   "cell_type": "code",
   "execution_count": 14,
   "metadata": {},
   "outputs": [
    {
     "data": {
      "text/plain": [
       "0.7598074495519183"
      ]
     },
     "execution_count": 14,
     "metadata": {},
     "output_type": "execute_result"
    }
   ],
   "source": [
    "#kutosis\n",
    "df['Price'].kurt()"
   ]
  },
  {
   "cell_type": "code",
   "execution_count": 15,
   "metadata": {},
   "outputs": [
    {
     "name": "stderr",
     "output_type": "stream",
     "text": [
      "C:\\Users\\IN22915367\\AppData\\Local\\Continuum\\anaconda3\\lib\\site-packages\\ipykernel_launcher.py:11: MatplotlibDeprecationWarning: \n",
      "The 'normed' kwarg was deprecated in Matplotlib 2.1 and will be removed in 3.1. Use 'density' instead.\n",
      "  # This is added back by InteractiveShellApp.init_path()\n"
     ]
    },
    {
     "data": {
      "image/png": "[encoded data removed]",
      "text/plain": [
       "<Figure size 432x288 with 1 Axes>"
      ]
     },
     "metadata": {
      "needs_background": "light"
     },
     "output_type": "display_data"
    }
   ],
   "source": [
    "import scipy.stats as stats\n",
    "#convert pandas DataFrame object to numpy array and sort\n",
    "h = np.asarray(df['Price'])\n",
    "h = sorted(h)\n",
    " \n",
    "#use the scipy stats module to fit a normal distirbution with same mean and standard deviation\n",
    "fit = stats.norm.pdf(h, np.mean(h), np.std(h)) \n",
    " \n",
    "#plot both series on the histogram\n",
    "plt.plot(h,fit,'-',linewidth = 2,label=\"Normal distribution with same mean and var\")\n",
    "plt.hist(h,normed=True,bins = 100,label=\"Actual distribution\")      \n",
    "plt.legend()\n",
    "plt.show()"
   ]
  }
 ],
 "metadata": {
  "kernelspec": {
   "display_name": "Python 3",
   "language": "python",
   "name": "python3"
  },
  "language_info": {
   "codemirror_mode": {
    "name": "ipython",
    "version": 3
   },
   "file_extension": ".py",
   "mimetype": "text/x-python",
   "name": "python",
   "nbconvert_exporter": "python",
   "pygments_lexer": "ipython3",
   "version": "3.7.7"
  }
 },
 "nbformat": 4,
 "nbformat_minor": 4
}
