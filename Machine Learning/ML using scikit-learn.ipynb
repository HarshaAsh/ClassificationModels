{
 "cells": [
  {
   "cell_type": "markdown",
   "id": "f97327c4",
   "metadata": {},
   "source": [
    "# ML using scikit learn\n",
    "\n",
    "## Predicting absenteeism\n",
    "A large problem within organisations is how to motivate their employees. This is a continuation of the [previous blog]() where we went thru various feature engineering methods to come up with a comprehensive dataset. In this blog, we will use this data in order to predict employment absenteeism. The goal is to identify who are likely to be absent in the near future. This blog doesnt go thru the machine learning concepts, or business logic, but implementation of machiner learning using *scikit-learn* package in python. \n",
    "\n",
    "As a first step, let us load and look at the data."
   ]
  },
  {
   "cell_type": "code",
   "execution_count": 2,
   "id": "32d322e4",
   "metadata": {},
   "outputs": [],
   "source": [
    "import warnings\n",
    "warnings.filterwarnings('ignore', category=FutureWarning)\n",
    "\n",
    "import matplotlib.pyplot as plt\n",
    "import seaborn as sns\n",
    "import plotly.express as px\n",
    "import pandas as pd\n",
    "import numpy as np\n",
    "%matplotlib inline "
   ]
  },
  {
   "cell_type": "code",
   "execution_count": 3,
   "id": "d83de7ed",
   "metadata": {},
   "outputs": [
    {
     "data": {
      "text/html": [
       "<div>\n",
       "<style scoped>\n",
       "    .dataframe tbody tr th:only-of-type {\n",
       "        vertical-align: middle;\n",
       "    }\n",
       "\n",
       "    .dataframe tbody tr th {\n",
       "        vertical-align: top;\n",
       "    }\n",
       "\n",
       "    .dataframe thead th {\n",
       "        text-align: right;\n",
       "    }\n",
       "</style>\n",
       "<table border=\"1\" class=\"dataframe\">\n",
       "  <thead>\n",
       "    <tr style=\"text-align: right;\">\n",
       "      <th></th>\n",
       "      <th>employee</th>\n",
       "      <th>date</th>\n",
       "      <th>last_likes</th>\n",
       "      <th>last_dislikes</th>\n",
       "      <th>feedbackType</th>\n",
       "      <th>likes_till_date</th>\n",
       "      <th>dislikes_till_date</th>\n",
       "      <th>last_2_likes</th>\n",
       "      <th>last_2_dislikes</th>\n",
       "      <th>days_since_last_comment</th>\n",
       "      <th>last_vote</th>\n",
       "      <th>timezone</th>\n",
       "      <th>stillExists</th>\n",
       "      <th>no_of_days_since_first_vote</th>\n",
       "      <th>no_of_votes_till_date</th>\n",
       "      <th>perc_days_voted</th>\n",
       "      <th>avg_vote_till_date</th>\n",
       "      <th>avg_vote</th>\n",
       "      <th>last_2_votes_avg</th>\n",
       "      <th>days_since_last_vote</th>\n",
       "      <th>employee_joined_after_jun17</th>\n",
       "      <th>countdown_to_last_day</th>\n",
       "      <th>reason</th>\n",
       "      <th>on_leave</th>\n",
       "      <th>no_leaves_till_date</th>\n",
       "      <th>last_2_days_leaves</th>\n",
       "      <th>previous_day_leave</th>\n",
       "      <th>weekday</th>\n",
       "      <th>month</th>\n",
       "      <th>day</th>\n",
       "      <th>week</th>\n",
       "    </tr>\n",
       "  </thead>\n",
       "  <tbody>\n",
       "    <tr>\n",
       "      <th>0</th>\n",
       "      <td>17r</td>\n",
       "      <td>2018-05-29</td>\n",
       "      <td>0</td>\n",
       "      <td>0</td>\n",
       "      <td>0</td>\n",
       "      <td>0</td>\n",
       "      <td>0</td>\n",
       "      <td>0</td>\n",
       "      <td>0</td>\n",
       "      <td>0</td>\n",
       "      <td>3</td>\n",
       "      <td>Europe/Madrid</td>\n",
       "      <td>1</td>\n",
       "      <td>1</td>\n",
       "      <td>1</td>\n",
       "      <td>1.0</td>\n",
       "      <td>3.0</td>\n",
       "      <td>2.121212</td>\n",
       "      <td>3.0</td>\n",
       "      <td>0</td>\n",
       "      <td>1</td>\n",
       "      <td>999</td>\n",
       "      <td>NaN</td>\n",
       "      <td>0</td>\n",
       "      <td>0</td>\n",
       "      <td>0</td>\n",
       "      <td>0</td>\n",
       "      <td>Tuesday</td>\n",
       "      <td>May</td>\n",
       "      <td>29</td>\n",
       "      <td>1</td>\n",
       "    </tr>\n",
       "    <tr>\n",
       "      <th>1</th>\n",
       "      <td>17r</td>\n",
       "      <td>2018-05-30</td>\n",
       "      <td>0</td>\n",
       "      <td>0</td>\n",
       "      <td>0</td>\n",
       "      <td>0</td>\n",
       "      <td>0</td>\n",
       "      <td>0</td>\n",
       "      <td>0</td>\n",
       "      <td>0</td>\n",
       "      <td>3</td>\n",
       "      <td>Europe/Madrid</td>\n",
       "      <td>1</td>\n",
       "      <td>1</td>\n",
       "      <td>1</td>\n",
       "      <td>1.0</td>\n",
       "      <td>3.0</td>\n",
       "      <td>2.121212</td>\n",
       "      <td>3.0</td>\n",
       "      <td>0</td>\n",
       "      <td>1</td>\n",
       "      <td>999</td>\n",
       "      <td>NaN</td>\n",
       "      <td>0</td>\n",
       "      <td>0</td>\n",
       "      <td>0</td>\n",
       "      <td>0</td>\n",
       "      <td>Wednesday</td>\n",
       "      <td>May</td>\n",
       "      <td>30</td>\n",
       "      <td>2</td>\n",
       "    </tr>\n",
       "    <tr>\n",
       "      <th>2</th>\n",
       "      <td>17r</td>\n",
       "      <td>2018-05-31</td>\n",
       "      <td>0</td>\n",
       "      <td>0</td>\n",
       "      <td>0</td>\n",
       "      <td>0</td>\n",
       "      <td>0</td>\n",
       "      <td>0</td>\n",
       "      <td>0</td>\n",
       "      <td>0</td>\n",
       "      <td>3</td>\n",
       "      <td>Europe/Madrid</td>\n",
       "      <td>1</td>\n",
       "      <td>2</td>\n",
       "      <td>1</td>\n",
       "      <td>1.0</td>\n",
       "      <td>3.0</td>\n",
       "      <td>2.121212</td>\n",
       "      <td>3.0</td>\n",
       "      <td>1</td>\n",
       "      <td>1</td>\n",
       "      <td>999</td>\n",
       "      <td>NaN</td>\n",
       "      <td>0</td>\n",
       "      <td>0</td>\n",
       "      <td>0</td>\n",
       "      <td>0</td>\n",
       "      <td>Thursday</td>\n",
       "      <td>May</td>\n",
       "      <td>31</td>\n",
       "      <td>3</td>\n",
       "    </tr>\n",
       "    <tr>\n",
       "      <th>3</th>\n",
       "      <td>17r</td>\n",
       "      <td>2018-01-06</td>\n",
       "      <td>0</td>\n",
       "      <td>0</td>\n",
       "      <td>0</td>\n",
       "      <td>0</td>\n",
       "      <td>0</td>\n",
       "      <td>0</td>\n",
       "      <td>0</td>\n",
       "      <td>0</td>\n",
       "      <td>3</td>\n",
       "      <td>Europe/Madrid</td>\n",
       "      <td>1</td>\n",
       "      <td>3</td>\n",
       "      <td>2</td>\n",
       "      <td>0.5</td>\n",
       "      <td>3.0</td>\n",
       "      <td>2.121212</td>\n",
       "      <td>3.0</td>\n",
       "      <td>0</td>\n",
       "      <td>1</td>\n",
       "      <td>999</td>\n",
       "      <td>NaN</td>\n",
       "      <td>0</td>\n",
       "      <td>0</td>\n",
       "      <td>0</td>\n",
       "      <td>0</td>\n",
       "      <td>Friday</td>\n",
       "      <td>Jun</td>\n",
       "      <td>1</td>\n",
       "      <td>1</td>\n",
       "    </tr>\n",
       "    <tr>\n",
       "      <th>4</th>\n",
       "      <td>17r</td>\n",
       "      <td>2018-02-06</td>\n",
       "      <td>0</td>\n",
       "      <td>0</td>\n",
       "      <td>0</td>\n",
       "      <td>0</td>\n",
       "      <td>0</td>\n",
       "      <td>0</td>\n",
       "      <td>0</td>\n",
       "      <td>0</td>\n",
       "      <td>3</td>\n",
       "      <td>Europe/Madrid</td>\n",
       "      <td>1</td>\n",
       "      <td>4</td>\n",
       "      <td>2</td>\n",
       "      <td>0.5</td>\n",
       "      <td>3.0</td>\n",
       "      <td>2.121212</td>\n",
       "      <td>3.0</td>\n",
       "      <td>0</td>\n",
       "      <td>1</td>\n",
       "      <td>999</td>\n",
       "      <td>NaN</td>\n",
       "      <td>0</td>\n",
       "      <td>0</td>\n",
       "      <td>0</td>\n",
       "      <td>0</td>\n",
       "      <td>Saturday</td>\n",
       "      <td>Jun</td>\n",
       "      <td>2</td>\n",
       "      <td>2</td>\n",
       "    </tr>\n",
       "  </tbody>\n",
       "</table>\n",
       "</div>"
      ],
      "text/plain": [
       "  employee       date  last_likes  last_dislikes feedbackType  \\\n",
       "0      17r 2018-05-29           0              0            0   \n",
       "1      17r 2018-05-30           0              0            0   \n",
       "2      17r 2018-05-31           0              0            0   \n",
       "3      17r 2018-01-06           0              0            0   \n",
       "4      17r 2018-02-06           0              0            0   \n",
       "\n",
       "   likes_till_date  dislikes_till_date  last_2_likes  last_2_dislikes  \\\n",
       "0                0                   0             0                0   \n",
       "1                0                   0             0                0   \n",
       "2                0                   0             0                0   \n",
       "3                0                   0             0                0   \n",
       "4                0                   0             0                0   \n",
       "\n",
       "   days_since_last_comment  last_vote       timezone  stillExists  \\\n",
       "0                        0          3  Europe/Madrid            1   \n",
       "1                        0          3  Europe/Madrid            1   \n",
       "2                        0          3  Europe/Madrid            1   \n",
       "3                        0          3  Europe/Madrid            1   \n",
       "4                        0          3  Europe/Madrid            1   \n",
       "\n",
       "   no_of_days_since_first_vote  no_of_votes_till_date  perc_days_voted  \\\n",
       "0                            1                      1              1.0   \n",
       "1                            1                      1              1.0   \n",
       "2                            2                      1              1.0   \n",
       "3                            3                      2              0.5   \n",
       "4                            4                      2              0.5   \n",
       "\n",
       "   avg_vote_till_date  avg_vote  last_2_votes_avg  days_since_last_vote  \\\n",
       "0                 3.0  2.121212               3.0                     0   \n",
       "1                 3.0  2.121212               3.0                     0   \n",
       "2                 3.0  2.121212               3.0                     1   \n",
       "3                 3.0  2.121212               3.0                     0   \n",
       "4                 3.0  2.121212               3.0                     0   \n",
       "\n",
       "   employee_joined_after_jun17  countdown_to_last_day reason  on_leave  \\\n",
       "0                            1                    999    NaN         0   \n",
       "1                            1                    999    NaN         0   \n",
       "2                            1                    999    NaN         0   \n",
       "3                            1                    999    NaN         0   \n",
       "4                            1                    999    NaN         0   \n",
       "\n",
       "   no_leaves_till_date  last_2_days_leaves  previous_day_leave    weekday  \\\n",
       "0                    0                   0                   0    Tuesday   \n",
       "1                    0                   0                   0  Wednesday   \n",
       "2                    0                   0                   0   Thursday   \n",
       "3                    0                   0                   0     Friday   \n",
       "4                    0                   0                   0   Saturday   \n",
       "\n",
       "  month  day  week  \n",
       "0   May   29     1  \n",
       "1   May   30     2  \n",
       "2   May   31     3  \n",
       "3   Jun    1     1  \n",
       "4   Jun    2     2  "
      ]
     },
     "execution_count": 3,
     "metadata": {},
     "output_type": "execute_result"
    }
   ],
   "source": [
    "pd.set_option('display.max_columns', None)\n",
    "\n",
    "df = pd.read_csv(\"data_after_feature_engg.csv\")\n",
    "df['date'] = pd.to_datetime(df.date)\n",
    "df.head()"
   ]
  },
  {
   "cell_type": "markdown",
   "id": "24e880a6",
   "metadata": {},
   "source": [
    "This data is at a employee-day level and we can predict if any employee will take leave on any particular date. As very few employees take leave on any particular day, we will have a highly imbalanced dataset."
   ]
  },
  {
   "cell_type": "code",
   "execution_count": 4,
   "id": "ce2d19a9",
   "metadata": {},
   "outputs": [
    {
     "data": {
      "text/plain": [
       "0.9514513766404592"
      ]
     },
     "execution_count": 4,
     "metadata": {},
     "output_type": "execute_result"
    }
   ],
   "source": [
    "1-df.on_leave.mean()"
   ]
  },
  {
   "cell_type": "markdown",
   "id": "400854b6",
   "metadata": {},
   "source": [
    "This indicates that only 5% of the dataset contains information about employees taking leaves. This means that if we predicted that all the employees are not taking a leave (class 0), we would be 95% accurate, but such prediction is not useful. This is the base model, and we need to see to it that we have accuracy greater than 95%."
   ]
  },
  {
   "cell_type": "code",
   "execution_count": 5,
   "id": "1f5c8d84",
   "metadata": {},
   "outputs": [],
   "source": [
    "from sklearn.tree import DecisionTreeClassifier, plot_tree\n",
    "from sklearn.model_selection import train_test_split, GridSearchCV\n",
    "from sklearn.metrics import classification_report,plot_confusion_matrix, confusion_matrix, accuracy_score, roc_curve, roc_auc_score"
   ]
  },
  {
   "cell_type": "markdown",
   "id": "840333c9",
   "metadata": {},
   "source": [
    "From the different features that we have created, we are selecting what we think will be relavent features for predicting which employee might be absent."
   ]
  },
  {
   "cell_type": "code",
   "execution_count": 6,
   "id": "dd834f06",
   "metadata": {},
   "outputs": [],
   "source": [
    "indep_vars = ['last_likes', 'last_dislikes', 'feedbackType', \n",
    "     'likes_till_date', 'dislikes_till_date', 'last_2_likes', 'last_2_dislikes', \n",
    "     'days_since_last_comment', 'last_vote', 'timezone', 'stillExists',\n",
    "       'no_of_days_since_first_vote', 'no_of_votes_till_date',\n",
    "       'perc_days_voted', 'avg_vote_till_date', 'avg_vote', 'last_2_votes_avg',\n",
    "       'days_since_last_vote', 'employee_joined_after_jun17', 'countdown_to_last_day',\n",
    "        'no_leaves_till_date', 'weekday', 'month']"
   ]
  },
  {
   "cell_type": "markdown",
   "id": "2403e988",
   "metadata": {},
   "source": [
    "The dependent variable is *on_leave*. We are also creating dummy variables that represent categorical data."
   ]
  },
  {
   "cell_type": "code",
   "execution_count": 7,
   "id": "719f2346",
   "metadata": {},
   "outputs": [],
   "source": [
    "data_targets = df['on_leave'].astype('int')\n",
    "data_features = pd.get_dummies(df[indep_vars], prefix = \"_\", drop_first= True)"
   ]
  },
  {
   "cell_type": "markdown",
   "id": "bdc5ece4",
   "metadata": {},
   "source": [
    "To prevent overfitting, we are splitting the data into test data and train data. Test data has 30% of the data (selected randomly) while the train data has the remaining 70% on which we train the model. This model is tested against the test data to validate for overfitting."
   ]
  },
  {
   "cell_type": "code",
   "execution_count": 8,
   "id": "e92bc68d",
   "metadata": {},
   "outputs": [],
   "source": [
    "x_train, x_test, y_train, y_test = train_test_split(data_features, data_targets, test_size=.30, random_state=35, \\\n",
    "                                                    stratify=data_targets)"
   ]
  },
  {
   "cell_type": "markdown",
   "id": "7e9e328e",
   "metadata": {},
   "source": [
    "Before building an ensemble of models, we can build a decision tree model and understand if the features we have selected perform the classification in a reasonable manner."
   ]
  },
  {
   "cell_type": "code",
   "execution_count": 9,
   "id": "bbab064e",
   "metadata": {},
   "outputs": [],
   "source": [
    "tree_clf = DecisionTreeClassifier(random_state=35, max_depth=3, class_weight=\"balanced\").fit(x_train,y_train)"
   ]
  },
  {
   "cell_type": "code",
   "execution_count": 10,
   "id": "75240ab5",
   "metadata": {},
   "outputs": [
    {
     "data": {
      "image/png": "[encoded data removed]",
      "text/plain": [
       "<Figure size 1440x720 with 1 Axes>"
      ]
     },
     "metadata": {
      "needs_background": "light"
     },
     "output_type": "display_data"
    }
   ],
   "source": [
    "def plot_feature_importance(model):\n",
    "    fs, ax = plt.subplots(1, figsize=(20,10))\n",
    "    number_of_features = x_train.shape[1]\n",
    "    plt.barh(range(number_of_features), model.feature_importances_, align='center')\n",
    "    plt.yticks(np.arange(number_of_features),x_train.columns)\n",
    "    plt.xlabel(\"Feature Importance\")\n",
    "    plt.ylabel(\"Feature\")\n",
    "plot_feature_importance(tree_clf)"
   ]
  },
  {
   "cell_type": "code",
   "execution_count": 11,
   "id": "ed99000c",
   "metadata": {},
   "outputs": [
    {
     "data": {
      "image/png": "[encoded data removed]",
      "text/plain": [
       "<Figure size 1440x1440 with 1 Axes>"
      ]
     },
     "metadata": {
      "needs_background": "light"
     },
     "output_type": "display_data"
    }
   ],
   "source": [
    "plt.figure(figsize=(20,20))\n",
    "plot_tree(tree_clf,  fontsize=10, feature_names = x_train.columns)\n",
    "plt.show()"
   ]
  },
  {
   "cell_type": "markdown",
   "id": "a0880cb3",
   "metadata": {},
   "source": [
    "We can observe that the features that are important make reasonable sense. \n",
    "1. *Number of leaves till date*: The number of leaves that an employee has taken already will effect the future leaves that a person would take\n",
    "2. *number of days since forst vote* (proxy to the employee tenure), *employee_joined_after_Jun17* (proxy to newer employees) are significant and we have seen these trends in the visualisations in the [feature engineering section](https://www.harshaash.com/Python/Machine%20Learning%20Part%201/#feature-engineering)\n",
    "3. As seen in the [visualisations](https://www.harshaash.com/Python/Machine%20Learning%20Part%201/#employee-absenteeism-dataset), employees took leaves during months like *June* and *October* which have come up as significant in the analysis\n",
    "\n",
    "We can see the model is not overfit with similar accuracy across test and train datasets. The confusion matrix is plotted below:"
   ]
  },
  {
   "cell_type": "code",
   "execution_count": 12,
   "id": "c032bf29",
   "metadata": {},
   "outputs": [
    {
     "name": "stdout",
     "output_type": "stream",
     "text": [
      "Accuracy on train data is 0.81\n",
      "Accuracy on test data is 0.81\n"
     ]
    },
    {
     "data": {
      "image/png": "[encoded data removed]",
      "text/plain": [
       "<Figure size 360x360 with 2 Axes>"
      ]
     },
     "metadata": {
      "needs_background": "light"
     },
     "output_type": "display_data"
    }
   ],
   "source": [
    "plt.rcParams[\"figure.figsize\"] = (5, 5)\n",
    "plot_confusion_matrix(tree_clf, x_test, y_test)\n",
    "print('Accuracy on train data is', round(tree_clf.score(x_train, y_train),2))\n",
    "print('Accuracy on test data is', round(tree_clf.score(x_test, y_test),2))"
   ]
  },
  {
   "cell_type": "code",
   "execution_count": 13,
   "id": "eeb8840b",
   "metadata": {},
   "outputs": [
    {
     "name": "stdout",
     "output_type": "stream",
     "text": [
      "              precision    recall  f1-score   support\n",
      "\n",
      "           0       1.00      0.80      0.89      9549\n",
      "           1       0.20      0.98      0.34       487\n",
      "\n",
      "    accuracy                           0.81     10036\n",
      "   macro avg       0.60      0.89      0.61     10036\n",
      "weighted avg       0.96      0.81      0.86     10036\n",
      "\n"
     ]
    }
   ],
   "source": [
    "y_test_pred = tree_clf.predict(x_test)\n",
    "print(classification_report(y_test, y_test_pred))"
   ]
  },
  {
   "cell_type": "markdown",
   "id": "4a89e097",
   "metadata": {},
   "source": [
    "We can observe that the precision is just 20% (on classifying when an employee will take a leave). This is due to imbalance of classes. This can be rectified by many ways, one of which includes under-sampling. For other methods, [refer the blog on handling imbalanced classes](http://aharsha.com/handling-imbalanced-classes/). We are also using GridSearch to find the best tuning parameters and 5 fold cross validation.  "
   ]
  },
  {
   "cell_type": "code",
   "execution_count": 13,
   "id": "b8621460",
   "metadata": {},
   "outputs": [
    {
     "data": {
      "text/plain": [
       "GridSearchCV(cv=5,\n",
       "             estimator=Pipeline(steps=[('sampling', RandomUnderSampler()),\n",
       "                                       ('classification',\n",
       "                                        DecisionTreeClassifier())]),\n",
       "             param_grid={'classification__criterion': ['gini', 'entropy'],\n",
       "                         'classification__max_depth': [2, 5, 10],\n",
       "                         'classification__max_features': [0.2, 0.5, 0.8]})"
      ]
     },
     "execution_count": 13,
     "metadata": {},
     "output_type": "execute_result"
    }
   ],
   "source": [
    "from imblearn.pipeline import Pipeline, make_pipeline\n",
    "from imblearn.under_sampling import RandomUnderSampler\n",
    "param_grid_dt = {\n",
    "    'classification__criterion': ['gini', 'entropy'],\n",
    "    'classification__max_depth': [2,5,10],\n",
    "    'classification__max_features':[0.2, 0.5, 0.8]\n",
    "}\n",
    "model_dt_p = Pipeline([\n",
    "    ('sampling', RandomUnderSampler()), # While training, downsample the majority class randomly\n",
    "    ('classification', DecisionTreeClassifier()) # Train and predict using rf classification model\n",
    "    ])\n",
    "model_dt = GridSearchCV(model_dt_p, param_grid_dt, cv=5)\n",
    "model_dt.fit(x_train, y_train)"
   ]
  },
  {
   "cell_type": "code",
   "execution_count": 1,
   "id": "3c5e8424",
   "metadata": {},
   "outputs": [
    {
     "ename": "NameError",
     "evalue": "name 'model_dt' is not defined",
     "output_type": "error",
     "traceback": [
      "\u001b[1;31m---------------------------------------------------------------------------\u001b[0m",
      "\u001b[1;31mNameError\u001b[0m                                 Traceback (most recent call last)",
      "\u001b[1;32m<ipython-input-1-a35ed290da11>\u001b[0m in \u001b[0;36m<module>\u001b[1;34m\u001b[0m\n\u001b[1;32m----> 1\u001b[1;33m \u001b[0my_test_pred\u001b[0m \u001b[1;33m=\u001b[0m \u001b[0mmodel_dt\u001b[0m\u001b[1;33m.\u001b[0m\u001b[0mpredict\u001b[0m\u001b[1;33m(\u001b[0m\u001b[0mx_test\u001b[0m\u001b[1;33m)\u001b[0m\u001b[1;33m\u001b[0m\u001b[1;33m\u001b[0m\u001b[0m\n\u001b[0m\u001b[0;32m      2\u001b[0m \u001b[0mprint\u001b[0m\u001b[1;33m(\u001b[0m\u001b[0mclassification_report\u001b[0m\u001b[1;33m(\u001b[0m\u001b[0my_test\u001b[0m\u001b[1;33m,\u001b[0m \u001b[0my_test_pred\u001b[0m\u001b[1;33m)\u001b[0m\u001b[1;33m)\u001b[0m\u001b[1;33m\u001b[0m\u001b[1;33m\u001b[0m\u001b[0m\n\u001b[0;32m      3\u001b[0m \u001b[0mprint\u001b[0m\u001b[1;33m(\u001b[0m\u001b[1;34m'Accuracy on train data is'\u001b[0m\u001b[1;33m,\u001b[0m \u001b[0mround\u001b[0m\u001b[1;33m(\u001b[0m\u001b[0mmodel_dt\u001b[0m\u001b[1;33m.\u001b[0m\u001b[0mscore\u001b[0m\u001b[1;33m(\u001b[0m\u001b[0mx_train\u001b[0m\u001b[1;33m,\u001b[0m \u001b[0my_train\u001b[0m\u001b[1;33m)\u001b[0m\u001b[1;33m,\u001b[0m\u001b[1;36m2\u001b[0m\u001b[1;33m)\u001b[0m\u001b[1;33m)\u001b[0m\u001b[1;33m\u001b[0m\u001b[1;33m\u001b[0m\u001b[0m\n\u001b[0;32m      4\u001b[0m \u001b[0mprint\u001b[0m\u001b[1;33m(\u001b[0m\u001b[1;34m'Accuracy on test data is'\u001b[0m\u001b[1;33m,\u001b[0m \u001b[0mround\u001b[0m\u001b[1;33m(\u001b[0m\u001b[0mmodel_dt\u001b[0m\u001b[1;33m.\u001b[0m\u001b[0mscore\u001b[0m\u001b[1;33m(\u001b[0m\u001b[0mx_test\u001b[0m\u001b[1;33m,\u001b[0m \u001b[0my_test\u001b[0m\u001b[1;33m)\u001b[0m\u001b[1;33m,\u001b[0m\u001b[1;36m2\u001b[0m\u001b[1;33m)\u001b[0m\u001b[1;33m)\u001b[0m\u001b[1;33m\u001b[0m\u001b[1;33m\u001b[0m\u001b[0m\n",
      "\u001b[1;31mNameError\u001b[0m: name 'model_dt' is not defined"
     ]
    }
   ],
   "source": [
    "y_test_pred = model_dt.predict(x_test)\n",
    "print(classification_report(y_test, y_test_pred))\n",
    "print('Accuracy on train data is', round(model_dt.score(x_train, y_train),2))\n",
    "print('Accuracy on test data is', round(model_dt.score(x_test, y_test),2))"
   ]
  },
  {
   "cell_type": "markdown",
   "id": "1208282b",
   "metadata": {},
   "source": [
    "Here we observe that with a simple decision tree classifier, we already reach an accuracy above 95% (base accuracy) with good precision and recall values. This model is better than our base model. We could further improve it by using ensemble methods which we will look into later in the blog."
   ]
  },
  {
   "cell_type": "code",
   "execution_count": 15,
   "id": "fafdefa7",
   "metadata": {},
   "outputs": [
    {
     "name": "stdout",
     "output_type": "stream",
     "text": [
      "Best params for the model {'classification__criterion': 'entropy', 'classification__max_depth': 10, 'classification__max_features': 0.5}\n",
      "Best score on the cross validation data 0.96\n",
      "Accuracy on train data 0.96\n",
      "Accuracy on test data 0.96\n"
     ]
    },
    {
     "data": {
      "image/png": "[encoded data removed]",
      "text/plain": [
       "<Figure size 360x360 with 2 Axes>"
      ]
     },
     "metadata": {
      "needs_background": "light"
     },
     "output_type": "display_data"
    }
   ],
   "source": [
    "def print_stats(model):\n",
    "    print('Best params for the model', model.best_params_)\n",
    "    print('Best score on the cross validation data', round(model.best_score_, 2))\n",
    "    print('Accuracy on train data', round(model.score(x_train, y_train),2))\n",
    "    print('Accuracy on test data', round(model.score(x_test, y_test),2))\n",
    "print_stats(model_dt)\n",
    "plot_confusion_matrix(model_dt, x_test, y_test)\n",
    "plt.show()"
   ]
  },
  {
   "cell_type": "code",
   "execution_count": 16,
   "id": "25a5d37f",
   "metadata": {},
   "outputs": [
    {
     "name": "stdout",
     "output_type": "stream",
     "text": [
      "              precision    recall  f1-score   support\n",
      "\n",
      "           0       1.00      0.96      0.98      9549\n",
      "           1       0.54      0.98      0.69       487\n",
      "\n",
      "    accuracy                           0.96     10036\n",
      "   macro avg       0.77      0.97      0.84     10036\n",
      "weighted avg       0.98      0.96      0.96     10036\n",
      "\n"
     ]
    }
   ],
   "source": [
    "y_test_pred = model_dt.predict(x_test)\n",
    "print(classification_report(y_test, y_test_pred))"
   ]
  },
  {
   "cell_type": "markdown",
   "id": "2ffa4215",
   "metadata": {},
   "source": [
    "After manually applying a few models, we can scale up to use grid search method to search for the best classifier and parameters in a quick and efficient manner. We can use Logistic Regression, Multinomial Naive Bayes, KNN Classifiers, Ensemble models and any model in the [sklearn library](https://scikit-learn.org/stable/supervised_learning.html#supervised-learning). "
   ]
  },
  {
   "cell_type": "code",
   "execution_count": 17,
   "id": "171f4414",
   "metadata": {},
   "outputs": [],
   "source": [
    "from sklearn.linear_model import LogisticRegression\n",
    "from sklearn.naive_bayes import MultinomialNB\n",
    "from sklearn.neighbors import KNeighborsClassifier\n",
    "from sklearn.ensemble import RandomForestClassifier,GradientBoostingClassifier\n",
    "from sklearn.pipeline import Pipeline"
   ]
  },
  {
   "cell_type": "code",
   "execution_count": 18,
   "id": "5a20864e",
   "metadata": {},
   "outputs": [],
   "source": [
    "# setting up models\n",
    "\n",
    "clf1 = LogisticRegression(random_state=35)\n",
    "clf2 = MultinomialNB()\n",
    "clf3 = KNeighborsClassifier()\n",
    "clf4 = DecisionTreeClassifier(random_state=35)\n",
    "clf5 = RandomForestClassifier(random_state = 35)\n",
    "clf6 = GradientBoostingClassifier(random_state = 35)"
   ]
  },
  {
   "cell_type": "code",
   "execution_count": 19,
   "id": "e593e39a",
   "metadata": {},
   "outputs": [],
   "source": [
    "# setting up hyperparameters \n",
    "\n",
    "# Hyperparameters for Logistic regression https://scikit-learn.org/stable/modules/linear_model.html#logistic-regression\n",
    "hyperparam1 = {}\n",
    "hyperparam1['classifier__C'] = [10**-4, 10**-1, 10**0] # The hyper-parameter is C and its inside 'classifier' part of pipeline\n",
    "hyperparam1['classifier__penalty'] = ['l1', 'l2'] # The hyper-parameter is penalty and its inside 'classifier' part of pipeline\n",
    "hyperparam1['classifier__class_weight'] = [None, 'balanced']\n",
    "hyperparam1['classifier'] = [clf1]\n",
    "\n",
    "# Hyperparameters for Naive Bayes\n",
    "hyperparam2 = {}\n",
    "hyperparam2['classifier__alpha'] = [10**0,10**4]\n",
    "hyperparam2['classifier'] = [clf2]\n",
    "\n",
    "# Hyperparameters for KNN\n",
    "hyperparam3 = {}\n",
    "hyperparam3['classifier__n_neighbors'] = [2, 5, 10]\n",
    "hyperparam3['classifier'] = [clf3]\n",
    "\n",
    "# Hyperparameters for Decision Trees\n",
    "hyperparam4 = {}\n",
    "hyperparam4['classifier__max_depth'] = [2,5,10, None]\n",
    "hyperparam4['classifier__min_samples_split'] = [2, 5, 10]\n",
    "hyperparam4['classifier__class_weight'] = [None, 'balanced']\n",
    "hyperparam4['classifier'] = [clf4]\n",
    "\n",
    "# Hyperparameters for Random Forest\n",
    "hyperparam5 = {}\n",
    "hyperparam5['classifier__n_estimators'] = [100, 250]\n",
    "hyperparam5['classifier__max_depth'] = [2,5,10]\n",
    "hyperparam5['classifier__class_weight'] = [None, 'balanced']\n",
    "hyperparam5['classifier'] = [clf5]\n",
    "\n",
    "# Hyperparameters for Gradient Boosting\n",
    "hyperparam6 = {}\n",
    "hyperparam6['classifier__n_estimators'] = [100, 250]\n",
    "hyperparam6['classifier__max_depth'] = [2, 5, 10]\n",
    "hyperparam6['classifier__min_samples_split'] = [2, 5, 10]\n",
    "hyperparam6['classifier'] = [clf6]\n",
    "\n",
    "pipe = Pipeline([('classifier',clf1)])\n",
    "hyperparam_total = [hyperparam1, hyperparam2, hyperparam3, hyperparam4, hyperparam5, hyperparam6]"
   ]
  },
  {
   "cell_type": "code",
   "execution_count": 41,
   "id": "3960a500",
   "metadata": {},
   "outputs": [
    {
     "name": "stderr",
     "output_type": "stream",
     "text": [
      "C:\\ProgramData\\Anaconda3\\lib\\site-packages\\sklearn\\model_selection\\_search.py:918: UserWarning: One or more of the test scores are non-finite: [       nan 0.76530486        nan 0.78573417        nan 0.76227159\n",
      "        nan 0.81272732        nan 0.7669747         nan 0.81235721\n",
      "        nan        nan 0.9792672  0.98689225 0.98684304 0.80196935\n",
      " 0.80196935 0.80196935 0.9807685  0.9807685  0.98227199 0.974107\n",
      " 0.97684471 0.98018112 0.96721555 0.9697727  0.97256904 0.87247414\n",
      " 0.87247414 0.87247414 0.95249357 0.95249357 0.95249357 0.96331177\n",
      " 0.96410843 0.96467699 0.96485967 0.96883658 0.97032722 0.96982298\n",
      " 0.96802826 0.99322296 0.99325364 0.99761825 0.99778465 0.96814859\n",
      " 0.97048243 0.98832118 0.98900645 0.9941528  0.99483174 0.99417744\n",
      " 0.99651075 0.99417744 0.99651075 0.99417744 0.99651075 0.99771714\n",
      " 0.99782095 0.99764383 0.99792168 0.99770636 0.99797557 0.99532432\n",
      " 0.99816234 0.99575252 0.99821671 0.99738392 0.99794075]\n",
      "  warnings.warn(\n"
     ]
    },
    {
     "name": "stdout",
     "output_type": "stream",
     "text": [
      "Wall time: 22min 59s\n"
     ]
    }
   ],
   "source": [
    "%%time\n",
    "# Record how long the search takes\n",
    "\n",
    "# Train the grid search model\n",
    "model_grid_search = GridSearchCV(pipe, hyperparam_total, cv=3, n_jobs=-1, scoring='roc_auc').fit(x_train, y_train)"
   ]
  },
  {
   "cell_type": "code",
   "execution_count": 42,
   "id": "7bc87458",
   "metadata": {},
   "outputs": [
    {
     "data": {
      "text/plain": [
       "Pipeline(steps=[('classifier',\n",
       "                 GradientBoostingClassifier(max_depth=10, min_samples_split=5,\n",
       "                                            n_estimators=250,\n",
       "                                            random_state=35))])"
      ]
     },
     "execution_count": 42,
     "metadata": {},
     "output_type": "execute_result"
    }
   ],
   "source": [
    "# Output the best estimator which is a random forecast classifier \n",
    "model_grid_search.best_estimator_"
   ]
  },
  {
   "cell_type": "markdown",
   "id": "18b0bfc4",
   "metadata": {},
   "source": [
    "After running gridsearch to find the best parameters and models, we find the best model to be Gradient Boodting with the best parameters below."
   ]
  },
  {
   "cell_type": "code",
   "execution_count": 43,
   "id": "833e8a96",
   "metadata": {},
   "outputs": [
    {
     "data": {
      "text/plain": [
       "{'classifier': GradientBoostingClassifier(max_depth=10, min_samples_split=5, n_estimators=250,\n",
       "                            random_state=35),\n",
       " 'classifier__max_depth': 10,\n",
       " 'classifier__min_samples_split': 5,\n",
       " 'classifier__n_estimators': 250}"
      ]
     },
     "execution_count": 43,
     "metadata": {},
     "output_type": "execute_result"
    }
   ],
   "source": [
    "# Output the parameters in the best estimator\n",
    "model_grid_search.best_params_"
   ]
  },
  {
   "cell_type": "markdown",
   "id": "54daecef",
   "metadata": {},
   "source": [
    "The accuracy on the cross validated data close to 99%."
   ]
  },
  {
   "cell_type": "code",
   "execution_count": 44,
   "id": "a54fb8c7",
   "metadata": {},
   "outputs": [
    {
     "data": {
      "text/plain": [
       "0.9982"
      ]
     },
     "execution_count": 44,
     "metadata": {},
     "output_type": "execute_result"
    }
   ],
   "source": [
    "round(model_grid_search.best_score_, 4)"
   ]
  },
  {
   "cell_type": "markdown",
   "id": "14f261b1",
   "metadata": {},
   "source": [
    "On the test data also, we have a near perfect precision, recall and accuracy."
   ]
  },
  {
   "cell_type": "code",
   "execution_count": 45,
   "id": "2302c437",
   "metadata": {},
   "outputs": [
    {
     "name": "stdout",
     "output_type": "stream",
     "text": [
      "              precision    recall  f1-score   support\n",
      "\n",
      "           0       1.00      1.00      1.00      9549\n",
      "           1       0.99      0.96      0.97       487\n",
      "\n",
      "    accuracy                           1.00     10036\n",
      "   macro avg       0.99      0.98      0.99     10036\n",
      "weighted avg       1.00      1.00      1.00     10036\n",
      "\n"
     ]
    }
   ],
   "source": [
    "y_test_pred = model_grid_search.predict(x_test)\n",
    "print(classification_report(y_test, y_test_pred))"
   ]
  },
  {
   "cell_type": "code",
   "execution_count": 46,
   "id": "da6dfa50",
   "metadata": {},
   "outputs": [
    {
     "data": {
      "image/png": "[encoded data removed]",
      "text/plain": [
       "<Figure size 360x360 with 2 Axes>"
      ]
     },
     "metadata": {
      "needs_background": "light"
     },
     "output_type": "display_data"
    }
   ],
   "source": [
    "plot_confusion_matrix(model_grid_search, x_test, y_test)\n",
    "plt.show()"
   ]
  },
  {
   "cell_type": "markdown",
   "id": "9fc6a671",
   "metadata": {},
   "source": [
    "The features that are used and their importances in the model is:"
   ]
  },
  {
   "cell_type": "code",
   "execution_count": 47,
   "id": "9ebd97ce",
   "metadata": {},
   "outputs": [
    {
     "data": {
      "text/html": [
       "<div>\n",
       "<style scoped>\n",
       "    .dataframe tbody tr th:only-of-type {\n",
       "        vertical-align: middle;\n",
       "    }\n",
       "\n",
       "    .dataframe tbody tr th {\n",
       "        vertical-align: top;\n",
       "    }\n",
       "\n",
       "    .dataframe thead th {\n",
       "        text-align: right;\n",
       "    }\n",
       "</style>\n",
       "<table border=\"1\" class=\"dataframe\">\n",
       "  <thead>\n",
       "    <tr style=\"text-align: right;\">\n",
       "      <th></th>\n",
       "      <th>columns</th>\n",
       "      <th>importance</th>\n",
       "    </tr>\n",
       "  </thead>\n",
       "  <tbody>\n",
       "    <tr>\n",
       "      <th>18</th>\n",
       "      <td>no_leaves_till_date</td>\n",
       "      <td>28</td>\n",
       "    </tr>\n",
       "    <tr>\n",
       "      <th>9</th>\n",
       "      <td>no_of_days_since_first_vote</td>\n",
       "      <td>25</td>\n",
       "    </tr>\n",
       "    <tr>\n",
       "      <th>32</th>\n",
       "      <td>__Aug</td>\n",
       "      <td>8</td>\n",
       "    </tr>\n",
       "    <tr>\n",
       "      <th>41</th>\n",
       "      <td>__Oct</td>\n",
       "      <td>7</td>\n",
       "    </tr>\n",
       "    <tr>\n",
       "      <th>37</th>\n",
       "      <td>__Jun</td>\n",
       "      <td>6</td>\n",
       "    </tr>\n",
       "    <tr>\n",
       "      <th>12</th>\n",
       "      <td>avg_vote_till_date</td>\n",
       "      <td>5</td>\n",
       "    </tr>\n",
       "    <tr>\n",
       "      <th>11</th>\n",
       "      <td>perc_days_voted</td>\n",
       "      <td>3</td>\n",
       "    </tr>\n",
       "    <tr>\n",
       "      <th>13</th>\n",
       "      <td>avg_vote</td>\n",
       "      <td>3</td>\n",
       "    </tr>\n",
       "    <tr>\n",
       "      <th>5</th>\n",
       "      <td>last_2_dislikes</td>\n",
       "      <td>2</td>\n",
       "    </tr>\n",
       "    <tr>\n",
       "      <th>3</th>\n",
       "      <td>dislikes_till_date</td>\n",
       "      <td>1</td>\n",
       "    </tr>\n",
       "    <tr>\n",
       "      <th>6</th>\n",
       "      <td>days_since_last_comment</td>\n",
       "      <td>1</td>\n",
       "    </tr>\n",
       "    <tr>\n",
       "      <th>10</th>\n",
       "      <td>no_of_votes_till_date</td>\n",
       "      <td>1</td>\n",
       "    </tr>\n",
       "  </tbody>\n",
       "</table>\n",
       "</div>"
      ],
      "text/plain": [
       "                        columns  importance\n",
       "18          no_leaves_till_date          28\n",
       "9   no_of_days_since_first_vote          25\n",
       "32                        __Aug           8\n",
       "41                        __Oct           7\n",
       "37                        __Jun           6\n",
       "12           avg_vote_till_date           5\n",
       "11              perc_days_voted           3\n",
       "13                     avg_vote           3\n",
       "5               last_2_dislikes           2\n",
       "3            dislikes_till_date           1\n",
       "6       days_since_last_comment           1\n",
       "10        no_of_votes_till_date           1"
      ]
     },
     "execution_count": 47,
     "metadata": {},
     "output_type": "execute_result"
    }
   ],
   "source": [
    "def print_most_imp_features(model, data_features):\n",
    "    feat_imp_df = pd.DataFrame({'columns' : data_features.columns, 'importance':(model.best_estimator_.named_steps[\"classifier\"].feature_importances_*100).astype(int)})\n",
    "    return feat_imp_df[feat_imp_df.importance>0].sort_values('importance', ascending=False)\n",
    "print_most_imp_features(model_grid_search, data_features)"
   ]
  },
  {
   "cell_type": "code",
   "execution_count": 58,
   "id": "01297376",
   "metadata": {},
   "outputs": [],
   "source": [
    "def plot_roc_curve(fpr, tpr, auc):\n",
    "    fig, ax = plt.subplots()\n",
    "    ax.plot(fpr, tpr)\n",
    "    ax.set(xlabel='False Positive Rate', ylabel='True Positive Rate')\n",
    "    ax.grid()\n",
    "    ax.text(0.6, 0.3, 'ROC AUC Score: {:.3f}'.format(auc),\n",
    "            bbox=dict(boxstyle='square,pad=0.3', fc='white', ec='k'))\n",
    "    lims = [np.min([ax.get_xlim(), ax.get_ylim()]), np.max([ax.get_xlim(), ax.get_ylim()])]\n",
    "    ax.plot(lims, lims, 'k--')\n",
    "    ax.set_xlim(lims)\n",
    "    ax.set_ylim(lims)\n",
    "    plt.title('ROC curve')"
   ]
  },
  {
   "cell_type": "code",
   "execution_count": 59,
   "id": "d3c3989d",
   "metadata": {},
   "outputs": [
    {
     "data": {
      "image/png": "[encoded data removed]",
      "text/plain": [
       "<Figure size 360x360 with 1 Axes>"
      ]
     },
     "metadata": {
      "needs_background": "light"
     },
     "output_type": "display_data"
    }
   ],
   "source": [
    "auc = roc_auc_score(y_test, y_test_pred)\n",
    "fpr, tpr, _ = roc_curve(y_test, y_test_pred)\n",
    "plot_roc_curve(fpr, tpr, auc)"
   ]
  },
  {
   "cell_type": "markdown",
   "id": "a4bf98f4",
   "metadata": {},
   "source": [
    "## Predictions\n",
    "Using this model, we can predict who is going to be absent in the next few days."
   ]
  },
  {
   "cell_type": "code",
   "execution_count": 50,
   "id": "110b36b7",
   "metadata": {},
   "outputs": [],
   "source": [
    "next_day_df = df[df.date == max(df.date)].reset_index()\n",
    "next_day_df.no_of_days_since_first_vote += 1\n",
    "next_day_df.days_since_last_vote += 1\n",
    "\n",
    "day_name= ['Monday', 'Tuesday', 'Wednesday', 'Thursday', 'Friday', 'Saturday','Sunday']\n",
    "month_name = [None, 'Jan', 'Feb', 'Mar', 'Apr', 'May', 'Jun', 'Jul', 'Aug', 'Sep', 'Oct', 'Nov', 'Dec']\n",
    "next_day_df.date = next_day_df.date + pd.DateOffset(1)\n",
    "next_day_df['weekday'] = next_day_df.date.dt.weekday.apply(lambda x:day_name[x])\n",
    "next_day_df['month'] = next_day_df.date.dt.month.apply(lambda x:month_name[x])\n",
    "next_day_df['week'] = next_day_df.date.dt.day\n",
    "\n",
    "# Handle catogorical variables\n",
    "next_day_df_predict = pd.get_dummies(next_day_df[indep_vars], prefix = \"_\")\n",
    "next_day_df_predict = next_day_df_predict.reindex(columns=x_train.columns, fill_value=0)\n",
    "\n",
    "prob_current = model_grid_search.predict_proba(next_day_df_predict)\n",
    "next_day_df['leave_prob'] = prob_current[:,1]"
   ]
  },
  {
   "cell_type": "markdown",
   "id": "475ba416",
   "metadata": {},
   "source": [
    "The top 5 employees who have the highest probability to be absent in the next day are:"
   ]
  },
  {
   "cell_type": "code",
   "execution_count": 51,
   "id": "9ffb3f58",
   "metadata": {},
   "outputs": [
    {
     "data": {
      "text/html": [
       "<div>\n",
       "<style scoped>\n",
       "    .dataframe tbody tr th:only-of-type {\n",
       "        vertical-align: middle;\n",
       "    }\n",
       "\n",
       "    .dataframe tbody tr th {\n",
       "        vertical-align: top;\n",
       "    }\n",
       "\n",
       "    .dataframe thead th {\n",
       "        text-align: right;\n",
       "    }\n",
       "</style>\n",
       "<table border=\"1\" class=\"dataframe\">\n",
       "  <thead>\n",
       "    <tr style=\"text-align: right;\">\n",
       "      <th></th>\n",
       "      <th>index</th>\n",
       "      <th>employee</th>\n",
       "      <th>date</th>\n",
       "      <th>last_likes</th>\n",
       "      <th>last_dislikes</th>\n",
       "      <th>feedbackType</th>\n",
       "      <th>likes_till_date</th>\n",
       "      <th>dislikes_till_date</th>\n",
       "      <th>last_2_likes</th>\n",
       "      <th>last_2_dislikes</th>\n",
       "      <th>days_since_last_comment</th>\n",
       "      <th>last_vote</th>\n",
       "      <th>timezone</th>\n",
       "      <th>stillExists</th>\n",
       "      <th>no_of_days_since_first_vote</th>\n",
       "      <th>no_of_votes_till_date</th>\n",
       "      <th>perc_days_voted</th>\n",
       "      <th>avg_vote_till_date</th>\n",
       "      <th>avg_vote</th>\n",
       "      <th>last_2_votes_avg</th>\n",
       "      <th>days_since_last_vote</th>\n",
       "      <th>employee_joined_after_jun17</th>\n",
       "      <th>countdown_to_last_day</th>\n",
       "      <th>reason</th>\n",
       "      <th>on_leave</th>\n",
       "      <th>no_leaves_till_date</th>\n",
       "      <th>last_2_days_leaves</th>\n",
       "      <th>previous_day_leave</th>\n",
       "      <th>weekday</th>\n",
       "      <th>month</th>\n",
       "      <th>day</th>\n",
       "      <th>week</th>\n",
       "      <th>leave_prob</th>\n",
       "    </tr>\n",
       "  </thead>\n",
       "  <tbody>\n",
       "    <tr>\n",
       "      <th>22</th>\n",
       "      <td>13699</td>\n",
       "      <td>DNY</td>\n",
       "      <td>2019-12-03</td>\n",
       "      <td>0</td>\n",
       "      <td>0</td>\n",
       "      <td>0</td>\n",
       "      <td>0</td>\n",
       "      <td>0</td>\n",
       "      <td>0</td>\n",
       "      <td>0</td>\n",
       "      <td>0</td>\n",
       "      <td>3</td>\n",
       "      <td>Europe/Madrid</td>\n",
       "      <td>1</td>\n",
       "      <td>651</td>\n",
       "      <td>229</td>\n",
       "      <td>0.352851</td>\n",
       "      <td>2.934498</td>\n",
       "      <td>2.936441</td>\n",
       "      <td>3.0</td>\n",
       "      <td>1</td>\n",
       "      <td>0</td>\n",
       "      <td>999</td>\n",
       "      <td>NaN</td>\n",
       "      <td>0</td>\n",
       "      <td>2</td>\n",
       "      <td>0</td>\n",
       "      <td>0</td>\n",
       "      <td>Tuesday</td>\n",
       "      <td>Dec</td>\n",
       "      <td>12</td>\n",
       "      <td>3</td>\n",
       "      <td>9.382249e-10</td>\n",
       "    </tr>\n",
       "    <tr>\n",
       "      <th>34</th>\n",
       "      <td>20478</td>\n",
       "      <td>YDm</td>\n",
       "      <td>2019-12-03</td>\n",
       "      <td>19</td>\n",
       "      <td>0</td>\n",
       "      <td>CONGRATULATION</td>\n",
       "      <td>523</td>\n",
       "      <td>250</td>\n",
       "      <td>34</td>\n",
       "      <td>9</td>\n",
       "      <td>42</td>\n",
       "      <td>3</td>\n",
       "      <td>Europe/Madrid</td>\n",
       "      <td>1</td>\n",
       "      <td>651</td>\n",
       "      <td>537</td>\n",
       "      <td>0.827427</td>\n",
       "      <td>2.942272</td>\n",
       "      <td>2.943636</td>\n",
       "      <td>3.0</td>\n",
       "      <td>1</td>\n",
       "      <td>0</td>\n",
       "      <td>999</td>\n",
       "      <td>NaN</td>\n",
       "      <td>0</td>\n",
       "      <td>1</td>\n",
       "      <td>0</td>\n",
       "      <td>0</td>\n",
       "      <td>Tuesday</td>\n",
       "      <td>Dec</td>\n",
       "      <td>12</td>\n",
       "      <td>3</td>\n",
       "      <td>7.326212e-10</td>\n",
       "    </tr>\n",
       "    <tr>\n",
       "      <th>38</th>\n",
       "      <td>22997</td>\n",
       "      <td>aQJ</td>\n",
       "      <td>2019-12-03</td>\n",
       "      <td>8</td>\n",
       "      <td>8</td>\n",
       "      <td>INFORMATION</td>\n",
       "      <td>237</td>\n",
       "      <td>71</td>\n",
       "      <td>56</td>\n",
       "      <td>10</td>\n",
       "      <td>163</td>\n",
       "      <td>3</td>\n",
       "      <td>Europe/Madrid</td>\n",
       "      <td>1</td>\n",
       "      <td>462</td>\n",
       "      <td>139</td>\n",
       "      <td>0.446945</td>\n",
       "      <td>3.071942</td>\n",
       "      <td>3.071942</td>\n",
       "      <td>3.0</td>\n",
       "      <td>151</td>\n",
       "      <td>1</td>\n",
       "      <td>999</td>\n",
       "      <td>NaN</td>\n",
       "      <td>0</td>\n",
       "      <td>14</td>\n",
       "      <td>0</td>\n",
       "      <td>0</td>\n",
       "      <td>Tuesday</td>\n",
       "      <td>Dec</td>\n",
       "      <td>12</td>\n",
       "      <td>3</td>\n",
       "      <td>5.486968e-10</td>\n",
       "    </tr>\n",
       "    <tr>\n",
       "      <th>37</th>\n",
       "      <td>22508</td>\n",
       "      <td>aKP</td>\n",
       "      <td>2019-12-03</td>\n",
       "      <td>10</td>\n",
       "      <td>23</td>\n",
       "      <td>SUGGESTION</td>\n",
       "      <td>482</td>\n",
       "      <td>148</td>\n",
       "      <td>51</td>\n",
       "      <td>43</td>\n",
       "      <td>58</td>\n",
       "      <td>4</td>\n",
       "      <td>Europe/Madrid</td>\n",
       "      <td>1</td>\n",
       "      <td>651</td>\n",
       "      <td>103</td>\n",
       "      <td>0.173693</td>\n",
       "      <td>3.805825</td>\n",
       "      <td>3.805825</td>\n",
       "      <td>4.0</td>\n",
       "      <td>57</td>\n",
       "      <td>0</td>\n",
       "      <td>999</td>\n",
       "      <td>NaN</td>\n",
       "      <td>0</td>\n",
       "      <td>0</td>\n",
       "      <td>0</td>\n",
       "      <td>0</td>\n",
       "      <td>Tuesday</td>\n",
       "      <td>Dec</td>\n",
       "      <td>12</td>\n",
       "      <td>3</td>\n",
       "      <td>4.874565e-10</td>\n",
       "    </tr>\n",
       "    <tr>\n",
       "      <th>12</th>\n",
       "      <td>7723</td>\n",
       "      <td>5WZ</td>\n",
       "      <td>2019-12-03</td>\n",
       "      <td>0</td>\n",
       "      <td>0</td>\n",
       "      <td>OTHER</td>\n",
       "      <td>38</td>\n",
       "      <td>7</td>\n",
       "      <td>0</td>\n",
       "      <td>0</td>\n",
       "      <td>7</td>\n",
       "      <td>3</td>\n",
       "      <td>Europe/Berlin</td>\n",
       "      <td>0</td>\n",
       "      <td>646</td>\n",
       "      <td>548</td>\n",
       "      <td>0.849612</td>\n",
       "      <td>2.958029</td>\n",
       "      <td>2.959436</td>\n",
       "      <td>3.0</td>\n",
       "      <td>1</td>\n",
       "      <td>0</td>\n",
       "      <td>999</td>\n",
       "      <td>NaN</td>\n",
       "      <td>0</td>\n",
       "      <td>31</td>\n",
       "      <td>0</td>\n",
       "      <td>0</td>\n",
       "      <td>Tuesday</td>\n",
       "      <td>Dec</td>\n",
       "      <td>12</td>\n",
       "      <td>3</td>\n",
       "      <td>4.845051e-10</td>\n",
       "    </tr>\n",
       "  </tbody>\n",
       "</table>\n",
       "</div>"
      ],
      "text/plain": [
       "    index employee       date  last_likes  last_dislikes    feedbackType  \\\n",
       "22  13699      DNY 2019-12-03           0              0               0   \n",
       "34  20478      YDm 2019-12-03          19              0  CONGRATULATION   \n",
       "38  22997      aQJ 2019-12-03           8              8     INFORMATION   \n",
       "37  22508      aKP 2019-12-03          10             23      SUGGESTION   \n",
       "12   7723      5WZ 2019-12-03           0              0           OTHER   \n",
       "\n",
       "    likes_till_date  dislikes_till_date  last_2_likes  last_2_dislikes  \\\n",
       "22                0                   0             0                0   \n",
       "34              523                 250            34                9   \n",
       "38              237                  71            56               10   \n",
       "37              482                 148            51               43   \n",
       "12               38                   7             0                0   \n",
       "\n",
       "    days_since_last_comment  last_vote       timezone  stillExists  \\\n",
       "22                        0          3  Europe/Madrid            1   \n",
       "34                       42          3  Europe/Madrid            1   \n",
       "38                      163          3  Europe/Madrid            1   \n",
       "37                       58          4  Europe/Madrid            1   \n",
       "12                        7          3  Europe/Berlin            0   \n",
       "\n",
       "    no_of_days_since_first_vote  no_of_votes_till_date  perc_days_voted  \\\n",
       "22                          651                    229         0.352851   \n",
       "34                          651                    537         0.827427   \n",
       "38                          462                    139         0.446945   \n",
       "37                          651                    103         0.173693   \n",
       "12                          646                    548         0.849612   \n",
       "\n",
       "    avg_vote_till_date  avg_vote  last_2_votes_avg  days_since_last_vote  \\\n",
       "22            2.934498  2.936441               3.0                     1   \n",
       "34            2.942272  2.943636               3.0                     1   \n",
       "38            3.071942  3.071942               3.0                   151   \n",
       "37            3.805825  3.805825               4.0                    57   \n",
       "12            2.958029  2.959436               3.0                     1   \n",
       "\n",
       "    employee_joined_after_jun17  countdown_to_last_day reason  on_leave  \\\n",
       "22                            0                    999    NaN         0   \n",
       "34                            0                    999    NaN         0   \n",
       "38                            1                    999    NaN         0   \n",
       "37                            0                    999    NaN         0   \n",
       "12                            0                    999    NaN         0   \n",
       "\n",
       "    no_leaves_till_date  last_2_days_leaves  previous_day_leave  weekday  \\\n",
       "22                    2                   0                   0  Tuesday   \n",
       "34                    1                   0                   0  Tuesday   \n",
       "38                   14                   0                   0  Tuesday   \n",
       "37                    0                   0                   0  Tuesday   \n",
       "12                   31                   0                   0  Tuesday   \n",
       "\n",
       "   month  day  week    leave_prob  \n",
       "22   Dec   12     3  9.382249e-10  \n",
       "34   Dec   12     3  7.326212e-10  \n",
       "38   Dec   12     3  5.486968e-10  \n",
       "37   Dec   12     3  4.874565e-10  \n",
       "12   Dec   12     3  4.845051e-10  "
      ]
     },
     "execution_count": 51,
     "metadata": {},
     "output_type": "execute_result"
    }
   ],
   "source": [
    "next_day_df.sort_values('leave_prob', ascending = False).head(5)"
   ]
  },
  {
   "cell_type": "markdown",
   "id": "f7b18060",
   "metadata": {},
   "source": [
    "## Save Models\n",
    "The last step is to save models for future deployment or run. Scikit-learn models are usually saved as pickle files."
   ]
  },
  {
   "cell_type": "code",
   "execution_count": 52,
   "id": "03c575d4",
   "metadata": {},
   "outputs": [],
   "source": [
    "import pickle\n",
    "# Dump the trained model with Pickle\n",
    "model_pkl_filename = 'classifier_employee_absenteeism.pkl'\n",
    "# Open the file to save as pkl file\n",
    "model_pkl = open(model_pkl_filename, 'wb')\n",
    "pickle.dump(model_grid_search, model_pkl)\n",
    "# Close the pickle instances\n",
    "model_pkl.close()"
   ]
  },
  {
   "cell_type": "code",
   "execution_count": 53,
   "id": "6271be68",
   "metadata": {},
   "outputs": [],
   "source": [
    "import pickle\n",
    "model_pkl_filename = 'classifier_employee_absenteeism.pkl'\n",
    "with open(model_pkl_filename , 'rb') as f:\n",
    "    model_grid_search = pickle.load(f)"
   ]
  },
  {
   "cell_type": "markdown",
   "id": "a7644fe7",
   "metadata": {},
   "source": [
    "\n",
    "## References\n",
    "\n",
    "1. Scikit-learn documentation: [link](https://scikit-learn.org/stable/modules/generated/sklearn.model_selection.GridSearchCV.html)  \n",
    "2. Satyam Kumar, How to tune multiple ML models with GridSearchCV at once?: [link](https://towardsdatascience.com/how-to-tune-multiple-ml-models-with-gridsearchcv-at-once-9fcebfcc6c23)  "
   ]
  }
 ],
 "metadata": {
  "kernelspec": {
   "display_name": "Python 3",
   "language": "python",
   "name": "python3"
  },
  "language_info": {
   "codemirror_mode": {
    "name": "ipython",
    "version": 3
   },
   "file_extension": ".py",
   "mimetype": "text/x-python",
   "name": "python",
   "nbconvert_exporter": "python",
   "pygments_lexer": "ipython3",
   "version": "3.8.8"
  }
 },
 "nbformat": 4,
 "nbformat_minor": 5
}
