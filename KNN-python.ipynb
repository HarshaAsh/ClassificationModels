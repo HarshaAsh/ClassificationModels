{
 "cells": [
  {
   "cell_type": "markdown",
   "metadata": {},
   "source": [
    "# KNN Model Classification\n",
    "\n",
    "A comprehensive KNN model classification model in python"
   ]
  },
  {
   "cell_type": "code",
   "execution_count": 1,
   "metadata": {
    "collapsed": true
   },
   "outputs": [],
   "source": [
    "import numpy as np\n",
    "import pandas as pd\n",
    "from sklearn.neighbors import KNeighborsClassifier"
   ]
  },
  {
   "cell_type": "code",
   "execution_count": 52,
   "metadata": {
    "collapsed": false
   },
   "outputs": [],
   "source": [
    "file_location = 'C:\\\\Users\\\\achyuthuni.harsha\\\\Documents\\\\GPI-UD IND Level IMS Sales.xlsx'\n",
    "pred_df = pd.read_excel(file_location)\n",
    "train_df = pred_df[pred_df.CALMONTH == 201802].drop(['CALMONTH', 'DOL_TOT', 'DOL_TOT_EAAP', 'DOL_TOT_EUAP'], axis = 1)"
   ]
  },
  {
   "cell_type": "code",
   "execution_count": 33,
   "metadata": {
    "collapsed": false
   },
   "outputs": [
    {
     "data": {
      "text/html": [
       "<div>\n",
       "<table border=\"1\" class=\"dataframe\">\n",
       "  <thead>\n",
       "    <tr style=\"text-align: right;\">\n",
       "      <th></th>\n",
       "      <th>GPI</th>\n",
       "      <th>UNIT_DOSE_IND</th>\n",
       "      <th>LOG_DOL_TOT</th>\n",
       "      <th>IMS_NUM_SPLR_PP_MNTH</th>\n",
       "      <th>RFP_BNFT</th>\n",
       "      <th>CLASS</th>\n",
       "    </tr>\n",
       "  </thead>\n",
       "  <tbody>\n",
       "    <tr>\n",
       "      <th>0</th>\n",
       "      <td>21550080102120</td>\n",
       "      <td>N</td>\n",
       "      <td>5.162008</td>\n",
       "      <td>2</td>\n",
       "      <td>33</td>\n",
       "      <td>1</td>\n",
       "    </tr>\n",
       "    <tr>\n",
       "      <th>8</th>\n",
       "      <td>94100030006100</td>\n",
       "      <td>N</td>\n",
       "      <td>8.387862</td>\n",
       "      <td>2</td>\n",
       "      <td>-24</td>\n",
       "      <td>0</td>\n",
       "    </tr>\n",
       "    <tr>\n",
       "      <th>41</th>\n",
       "      <td>38000083100320</td>\n",
       "      <td>N</td>\n",
       "      <td>5.767320</td>\n",
       "      <td>2</td>\n",
       "      <td>15</td>\n",
       "      <td>1</td>\n",
       "    </tr>\n",
       "    <tr>\n",
       "      <th>66</th>\n",
       "      <td>47300020000100</td>\n",
       "      <td>N</td>\n",
       "      <td>5.266678</td>\n",
       "      <td>1</td>\n",
       "      <td>74</td>\n",
       "      <td>1</td>\n",
       "    </tr>\n",
       "    <tr>\n",
       "      <th>81</th>\n",
       "      <td>75100090100320</td>\n",
       "      <td>NaN</td>\n",
       "      <td>NaN</td>\n",
       "      <td>1</td>\n",
       "      <td>-97</td>\n",
       "      <td>0</td>\n",
       "    </tr>\n",
       "    <tr>\n",
       "      <th>89</th>\n",
       "      <td>NaN</td>\n",
       "      <td>N</td>\n",
       "      <td>8.767409</td>\n",
       "      <td>2</td>\n",
       "      <td>10</td>\n",
       "      <td>1</td>\n",
       "    </tr>\n",
       "    <tr>\n",
       "      <th>103</th>\n",
       "      <td>6110001000H410</td>\n",
       "      <td>Y</td>\n",
       "      <td>5.738052</td>\n",
       "      <td>1</td>\n",
       "      <td>-43</td>\n",
       "      <td>0</td>\n",
       "    </tr>\n",
       "    <tr>\n",
       "      <th>132</th>\n",
       "      <td>15000050000305</td>\n",
       "      <td>N</td>\n",
       "      <td>5.722823</td>\n",
       "      <td>1</td>\n",
       "      <td>-22</td>\n",
       "      <td>0</td>\n",
       "    </tr>\n",
       "    <tr>\n",
       "      <th>133</th>\n",
       "      <td>85158060100320</td>\n",
       "      <td>N</td>\n",
       "      <td>5.556284</td>\n",
       "      <td>2</td>\n",
       "      <td>-4</td>\n",
       "      <td>0</td>\n",
       "    </tr>\n",
       "  </tbody>\n",
       "</table>\n",
       "</div>"
      ],
      "text/plain": [
       "                GPI UNIT_DOSE_IND  LOG_DOL_TOT  IMS_NUM_SPLR_PP_MNTH  \\\n",
       "0    21550080102120             N     5.162008                     2   \n",
       "8    94100030006100             N     8.387862                     2   \n",
       "41   38000083100320             N     5.767320                     2   \n",
       "66   47300020000100             N     5.266678                     1   \n",
       "81   75100090100320           NaN          NaN                     1   \n",
       "89              NaN             N     8.767409                     2   \n",
       "103  6110001000H410             Y     5.738052                     1   \n",
       "132  15000050000305             N     5.722823                     1   \n",
       "133  85158060100320             N     5.556284                     2   \n",
       "\n",
       "     RFP_BNFT  CLASS  \n",
       "0          33      1  \n",
       "8         -24      0  \n",
       "41         15      1  \n",
       "66         74      1  \n",
       "81        -97      0  \n",
       "89         10      1  \n",
       "103       -43      0  \n",
       "132       -22      0  \n",
       "133        -4      0  "
      ]
     },
     "execution_count": 33,
     "metadata": {},
     "output_type": "execute_result"
    }
   ],
   "source": [
    "train_df[0:9]"
   ]
  },
  {
   "cell_type": "code",
   "execution_count": 28,
   "metadata": {
    "collapsed": false
   },
   "outputs": [
    {
     "name": "stdout",
     "output_type": "stream",
     "text": [
      "Definition of Positive and Negative benefit class\n",
      "{0: '<= $0', 1: '> $0'}\n"
     ]
    }
   ],
   "source": [
    "clss_continuous_cut = 0\n",
    "print \"Definition of Positive and Negative benefit class\"\n",
    "past_clss_array = {0:'<= ${:,}'.format(clss_continuous_cut), 1:'> ${:,}'.format(clss_continuous_cut)}\n",
    "print past_clss_array\n",
    "\n",
    "train_df['CLASS'] = 9999\n",
    "\n",
    "train_df.loc[train_df['RFP_BNFT'] <= clss_continuous_cut, 'CLASS'] = 0\n",
    "train_df.loc[train_df['RFP_BNFT'] > clss_continuous_cut, 'CLASS'] = 1"
   ]
  },
  {
   "cell_type": "code",
   "execution_count": 35,
   "metadata": {
    "collapsed": true
   },
   "outputs": [],
   "source": [
    "#defining a global function to create ftr_array\n",
    "def create_ftr_array(data_df, ftr_col_nam_list):    \n",
    "    ftr_col_vals_list = []\n",
    "    for ftr in ftr_col_nam_list:\n",
    "        ftr_col_vals_list.append(data_df[ftr].tolist())\n",
    "    ftr_array = np.transpose(ftr_col_vals_list)\n",
    "    return ftr_array"
   ]
  },
  {
   "cell_type": "code",
   "execution_count": 36,
   "metadata": {
    "collapsed": true
   },
   "outputs": [],
   "source": [
    "#defining a global class to create a data array\n",
    "class dataArrayClass(object):\n",
    "    def __init__(self, ftr_array, ftr_labels, clss_array=None, clss_labels_dict=None, clss_continuous_array=None):\n",
    "        \"\"\" Init dataArrayClass. \"\"\"\n",
    "        self.ftr_array = ftr_array\n",
    "        self.ftr_labels = ftr_labels\n",
    "        self.clss_array = clss_array\n",
    "        if clss_array is None:\n",
    "            self.classes = None\n",
    "            self.n_classes = None\n",
    "            self.clss_labels_dict = None\n",
    "        else:\n",
    "            self.classes = np.unique(clss_array)\n",
    "            self.n_classes = len(self.classes)\n",
    "            if clss_labels_dict:\n",
    "                self.clss_labels_dict = clss_labels_dict\n",
    "#             else:\n",
    "#                 self.clss_labels_dict = {[(clss, '%s Class'%(str(clss))) for clss in self.classes]}       \n",
    "        self.clss_continuous_array = clss_continuous_array   \n",
    "        self.num_entries = ftr_array.shape[0]\n",
    "        self.n_ftrs = ftr_array.shape[1]\n",
    "        self.standardized_flg = False\n",
    "        self.stndrd_ftr_array = None\n",
    "        self.filled_nan_flg = False\n",
    "        self.fill_nan_method = None\n",
    "        self.train_test_split_frac = None\n",
    "        self.train_ftr_array = None\n",
    "        self.train_clss_array = None\n",
    "        self.train_clss_continuous_array = None\n",
    "        self.test_ftr_array = None\n",
    "        self.test_clss_array = None\n",
    "        self.test_clss_continuous_array = None\n",
    "        self.stndrd_train_ftr_array = None\n",
    "        self.stndrd_test_ftr_array = None\n",
    "        self.train_test_split_resampling_flg = None\n",
    "        self.balance_flg = None\n",
    "        self.balance_oversample_flg = None\n",
    "    \n",
    "    def standardize_ftr_array(self):\n",
    "        self.standardized_flg = True\n",
    "\n",
    "        ftr_mean = np.nanmean(self.ftr_array, axis=0)\n",
    "        ftr_stddev = np.nanstd(self.ftr_array, axis=0)\n",
    "        self.stndrd_ftr_array = (self.ftr_array - ftr_mean) / ftr_stddev\n",
    "        \n",
    "\n",
    "    def fill_ftr_array_missing_values(self, fill_nan_method='mean'):\n",
    "        self.filled_nan_flg = True\n",
    "        self.fill_nan_method = fill_nan_method\n",
    "        nan_indices = np.where(np.isnan(self.ftr_array))\n",
    "        if fill_nan_method == 'mean':\n",
    "            self.ftr_array[nan_indices] = np.nanmean(self.ftr_array, axis=0)[nan_indices[1]]\n",
    "            if self.standardized_flg:\n",
    "                self.stndrd_ftr_array[nan_indices] = np.nanmean(self.stndrd_ftr_array, axis=0)[nan_indices[1]]\n",
    "                \n",
    "    def create_test_train_sets(self, train_test_split_frac=0.8, train_test_split_resampling_flg=False, balance_flg=True, balance_oversample_flg=True):\n",
    "        self.train_test_split_frac = train_test_split_frac\n",
    "        self.train_test_split_resampling_flg = train_test_split_resampling_flg\n",
    "        num_entries_train = int(np.floor(self.num_entries * self.train_test_split_frac))\n",
    "\n",
    "        # Fill a list of indices for the training set\n",
    "        train_index_list = np.random.choice(self.num_entries, size=num_entries_train, replace=train_test_split_resampling_flg)\n",
    "\n",
    "        # Fill a list of indices for the test set\n",
    "        test_index_list = [i for i in range(self.num_entries) if i not in train_index_list]\n",
    "        self.train_ftr_array = self.ftr_array[train_index_list, :]\n",
    "        self.train_clss_array = self.clss_array[train_index_list]\n",
    "        self.train_clss_continuous_array = self.clss_continuous_array[train_index_list]\n",
    "\n",
    "        self.test_ftr_array = self.ftr_array[test_index_list, :]\n",
    "        self.test_clss_array = self.clss_array[test_index_list]\n",
    "        self.test_clss_continuous_array = self.clss_continuous_array[test_index_list]\n",
    "\n",
    "        if self.standardized_flg:\n",
    "            self.stndrd_train_ftr_array = self.stndrd_ftr_array[train_index_list, :]\n",
    "            self.stndrd_test_ftr_array = self.stndrd_ftr_array[test_index_list, :]\n",
    "\n",
    "        # If balance_flag, resample to balance classes\n",
    "        if balance_flg:\n",
    "            self.balance_train_set()\n",
    "\n",
    "    def balance_train_set(self, balance_oversample_flg=True):\n",
    "        self.balance_flg = True\n",
    "        self.balance_oversample_flg = balance_oversample_flg\n",
    "        nevts_per_class = [len(self.clss_array[self.clss_array==c]) for c in self.classes]\n",
    "        max_class_nevts = max(nevts_per_class)\n",
    "        min_class_nevts = min(nevts_per_class)\n",
    "        if balance_oversample_flg:\n",
    "            final_nevts = max_class_nevts * self.n_classes\n",
    "            class_indices = zip(range(0, final_nevts, max_class_nevts),\n",
    "                                range(max_class_nevts, final_nevts + 1, max_class_nevts)); \n",
    "        else:\n",
    "            final_nevts = min_class_nevts * self.n_classes\n",
    "            class_indices = zip(range(0, final_nevts, min_class_nevts),\n",
    "                                range(min_class_nevts, final_nevts + 1, min_class_nevts));\n",
    "\n",
    "        balanced_ftr_array = np.empty([final_nevts, self.n_ftrs])\n",
    "        if self.standardized_flg:\n",
    "            balanced_stndrd_ftr_array = np.empty([final_nevts, self.n_ftrs])\n",
    "        balanced_clss_array = np.empty([final_nevts])\n",
    "        balanced_clss_continuous_array = np.empty([final_nevts])\n",
    "        # Oversample or undersample each class to have the same # of evts\n",
    "        for class_label, nevts_class, array_rng in zip(self.classes, nevts_per_class, class_indices):\n",
    "            class_ftr_array = self.ftr_array[self.clss_array==class_label]\n",
    "            if self.standardized_flg:\n",
    "                class_stndrd_ftr_array = self.stndrd_ftr_array[self.clss_array==class_label]\n",
    "\n",
    "            class_clss_array = self.clss_array[self.clss_array==class_label]\n",
    "            clss_continuous_array = self.clss_continuous_array[self.clss_array==class_label]\n",
    "            if balance_oversample_flg and nevts_class < max_class_nevts:\n",
    "                oversample_numevts = max_class_nevts - nevts_class\n",
    "                oversample_indices = np.random.choice(nevts_class, size=oversample_numevts, replace=True)\n",
    "                balanced_ftr_array[array_rng[0]:array_rng[1], :] = np.append(class_ftr_array, class_ftr_array[oversample_indices], axis=0)\n",
    "                if self.standardized_flg:\n",
    "                    balanced_stndrd_ftr_array[array_rng[0]:array_rng[1], :] = np.append(class_stndrd_ftr_array, class_stndrd_ftr_array[oversample_indices], axis=0)\n",
    "                balanced_clss_array[array_rng[0]:array_rng[1]]  = np.append(class_clss_array, class_clss_array[oversample_indices])\n",
    "                balanced_clss_continuous_array[array_rng[0]:array_rng[1]]  = np.append(clss_continuous_array, clss_continuous_array[oversample_indices])\n",
    "\n",
    "            elif not balance_oversample_flg and nevts_class > min_class_nevts:\n",
    "                undersample_indices = np.random.choice(nevts_class, size=min_class_nevts, replace=False)\n",
    "                balanced_ftr_array[array_rng[0]:array_rng[1], :] = class_ftr_array[undersample_indices]\n",
    "                if self.standardized_flg:\n",
    "                    balanced_stndrd_ftr_array[array_rng[0]:array_rng[1], :] = class__stndrdftr_array[undersample_indices]\n",
    "                balanced_clss_array[array_rng[0]:array_rng[1]]  = class_clss_array[undersample_indices]\n",
    "                balanced_clss_continuous_array[array_rng[0]:array_rng[1]]  = clss_continuous_array[undersample_indices]\n",
    "            else:\n",
    "                balanced_ftr_array[array_rng[0]:array_rng[1], :] = class_ftr_array\n",
    "                if self.standardized_flg:\n",
    "                    balanced_stndrd_ftr_array[array_rng[0]:array_rng[1], :] = class_stndrd_ftr_array\n",
    "                balanced_clss_array[array_rng[0]:array_rng[1]]  = class_clss_array\n",
    "                balanced_clss_continuous_array[array_rng[0]:array_rng[1]]  = clss_continuous_array\n",
    "        self.train_ftr_array = balanced_ftr_array\n",
    "        if self.standardized_flg:\n",
    "            self.stndrd_train_ftr_array = balanced_stndrd_ftr_array\n",
    "        self.train_clss_array = balanced_clss_array\n",
    "        self.train_clss_continuous_array = balanced_clss_continuous_array"
   ]
  },
  {
   "cell_type": "code",
   "execution_count": 38,
   "metadata": {
    "collapsed": false
   },
   "outputs": [],
   "source": [
    "ftr_opt_list = ['LOG_DOL_TOT','IMS_NUM_SPLR_PP_MNTH']\n",
    "past_clss_array = np.array(train_df['CLASS'].tolist())\n",
    "past_clss_continuous_array = np.array(train_df['RFP_BNFT'].tolist())\n",
    "\n",
    "opt_ftr_train_ftr_array = create_ftr_array(train_df, ftr_opt_list)\n",
    "optFtrTrainData = dataArrayClass(opt_ftr_train_ftr_array, ftr_opt_list, clss_array=past_clss_array, clss_continuous_array=past_clss_continuous_array)\n",
    "optFtrTrainData.standardize_ftr_array()\n",
    "optFtrTrainData.fill_ftr_array_missing_values()\n",
    "optFtrTrainData.create_test_train_sets(train_test_split_frac=0.8, train_test_split_resampling_flg=False, balance_flg=True, balance_oversample_flg=True)"
   ]
  },
  {
   "cell_type": "code",
   "execution_count": 42,
   "metadata": {
    "collapsed": false
   },
   "outputs": [
    {
     "data": {
      "text/plain": [
       "array([[ 5.16200849,  2.        ],\n",
       "       [ 8.38786247,  2.        ],\n",
       "       [ 5.7673199 ,  2.        ],\n",
       "       ..., \n",
       "       [ 3.7767738 ,  2.        ],\n",
       "       [ 5.48785924,  2.        ],\n",
       "       [ 6.7842386 ,  1.        ]])"
      ]
     },
     "execution_count": 42,
     "metadata": {},
     "output_type": "execute_result"
    }
   ],
   "source": [
    "opt_ftr_train_ftr_array"
   ]
  },
  {
   "cell_type": "code",
   "execution_count": 67,
   "metadata": {
    "collapsed": true
   },
   "outputs": [],
   "source": [
    "#global class to define classifiers\n",
    "class clfClass(object):\n",
    "    def __init__(self, clf):\n",
    "        \"\"\"Inits clfClass.\"\"\"\n",
    "        self.clf = clf\n",
    "        self.label = None\n",
    "        self.param_grid = None\n",
    "        self.param_grid_scores = None\n",
    "        self.scoring = None\n",
    "        self.best_params = None\n",
    "        self.best_score = None\n",
    "        self.roc_params = None\n",
    "        self.roc_auc = None\n",
    "        self.roc_false_pos_rate = None\n",
    "        self.roc_true_pos_rate = None\n",
    "        self.roc_threshold = None\n",
    "        self.use_standardized_data_flg = False\n",
    "        self.use_sample_weights_flg = False\n",
    "\n",
    "    def optimize(self, data_array, scoring, n_folds_cv=5, filename=None):\n",
    "        self.scoring = scoring\n",
    "     \n",
    "        clf_opt = GridSearchCV(self.clf, self.param_grid, scoring=scoring, cv=n_folds_cv)\n",
    "        if self.use_standardized_data_flg:\n",
    "            clf_opt.fit(data_array.stndrd_ftr_array, data_array.clss_array)\n",
    "        else:\n",
    "            clf_opt.fit(data_array.ftr_array, data_array.clss_array)\n",
    "\n",
    "        # Save scores for parameter combos\n",
    "        self.param_grid_scores = clf_opt.grid_scores_\n",
    "        if filename is not None:\n",
    "            with open(filename, 'a') as f:\n",
    "                for grid_score in clf_opt.grid_scores_:\n",
    "                    param_str = '%s,'%(grid_score.parameters)\n",
    "                    if type(scoring) == str:\n",
    "                        score_type_str = '%s,'%(scoring)\n",
    "                    elif 'func_name' in dir(scoring):\n",
    "                        score_type_str = '%s,'%(scoring.func_name)\n",
    "                    scores_str = n_folds_cv*'%9.8f,'%tuple(grid_score.cv_validation_scores)\n",
    "                    mean_score_str = '%9.8f'%(grid_score.mean_validation_score)\n",
    "                    f.write(self.label + ',' + score_type_str + param_str + scores_str + mean_score_str + '\\r\\n')\n",
    "\n",
    "        # Set clf's params to best params\n",
    "        self.best_params = clf_opt.best_params_\n",
    "        self.clf.set_params(**self.best_params)\n",
    "        self.best_score = clf_opt.best_score_\n",
    "\n",
    "    def predict(self, train_ftr_array, train_clss_array, pred_ftr_array, sample_weights=None):\n",
    "        if 'decision_function' in dir(self.clf):\n",
    "            if sample_weights is None:\n",
    "                return self.clf.fit(train_ftr_array, train_clss_array).decision_function(pred_ftr_array)\n",
    "            else:\n",
    "                return self.clf.fit(train_ftr_array, train_clss_array, sample_weight=sample_weights).decision_function(pred_ftr_array)\n",
    "        elif 'predict_proba' in dir(self.clf):\n",
    "            # Get column 1 to get prediction for positive class\n",
    "            prediction = self.clf.fit(train_ftr_array, train_clss_array).predict_proba(pred_ftr_array)\n",
    "            return prediction\n",
    "\n",
    "\n",
    "    def calc_AUC(self, train_ftr_array, train_clss_array, test_ftr_array, test_clss_array, sample_weights=None):\n",
    "        if train_ftr_array.size != 0:\n",
    "            prediction = self.predict(train_ftr_array, train_clss_array, test_ftr_array, sample_weights=sample_weights)\n",
    "            if 'decision_function' in dir(self.clf):\n",
    "                self.roc_false_pos_rate, self.roc_true_pos_rate, self.roc_threshold = metrics.roc_curve(test_clss_array, prediction)\n",
    "            elif 'predict_proba' in dir(self.clf):\n",
    "                pos_clss_prediction = prediction[:, 1]    \n",
    "                self.roc_false_pos_rate, self.roc_true_pos_rate, self.roc_threshold = metrics.roc_curve(test_clss_array, pos_clss_prediction)\n",
    "            self.roc_auc = metrics.auc(self.roc_false_pos_rate, self.roc_true_pos_rate)\n",
    "            self.roc_params = self.clf.get_params()\n",
    "            return self.roc_auc\n",
    "        else:\n",
    "            return None\n",
    "\n",
    "    def calc_pos_class_accuracy(self,  train_ftr_array, train_clss_array, test_ftr_array, test_clss_array, threshold=0.5):\n",
    "        if train_ftr_array.size != 0:\n",
    "            prediction = self.predict(train_ftr_array, train_clss_array, test_ftr_array)\n",
    "            if 'decision_function' in dir(self.clf):\n",
    "                above_threshold_evts = prediction >= threshold\n",
    "                n_evts = len(prediction[above_threshold_evts])\n",
    "            elif 'predict_proba' in dir(self.clf):\n",
    "                pos_clss_prediction = prediction[:, 1]\n",
    "                above_threshold_evts = pos_clss_prediction >= threshold\n",
    "                n_evts = len(pos_clss_prediction[above_threshold_evts])\n",
    "            accuracy = 1.0*sum(test_clss_array[above_threshold_evts]==1)\n",
    "            return accuracy, 100\n",
    "        else:\n",
    "            return None\n",
    "\n",
    "    def custom_precision_scorer(estimator, test_ftr_array, test_clss_array):  \n",
    "        threshold = 0.8\n",
    "        prediction = estimator.fit(train_ftr_array, train_clss_array).predict_proba(pred_ftr_array)[:, 1]\n",
    "        above_threshold_evts = prediction >= threshold\n",
    "        n_evts = len(prediction[above_threshold_evts])\n",
    "        precision = 1.0*sum(test_clss_array[above_threshold_evts]==1)\n",
    "        return precision"
   ]
  },
  {
   "cell_type": "code",
   "execution_count": 68,
   "metadata": {
    "collapsed": false
   },
   "outputs": [],
   "source": [
    "clf_KNN =  clfClass(KNeighborsClassifier(n_neighbors=50))\n",
    "clf_KNN.label = 'KNN'\n",
    "clf_KNN.use_standardized_data_flg = True"
   ]
  },
  {
   "cell_type": "code",
   "execution_count": 69,
   "metadata": {
    "collapsed": false
   },
   "outputs": [],
   "source": [
    "pred_ftr_array = create_ftr_array(pred_df, ftr_opt_list)\n",
    "predData = dataArrayClass(pred_ftr_array, ftr_opt_list)\n",
    "predData.standardize_ftr_array()\n",
    "predData.fill_ftr_array_missing_values()"
   ]
  },
  {
   "cell_type": "code",
   "execution_count": 70,
   "metadata": {
    "collapsed": false
   },
   "outputs": [],
   "source": [
    "prediction = clf_KNN.predict(optFtrTrainData.stndrd_ftr_array, optFtrTrainData.clss_array, predData.stndrd_ftr_array)"
   ]
  },
  {
   "cell_type": "code",
   "execution_count": 71,
   "metadata": {
    "collapsed": false
   },
   "outputs": [],
   "source": [
    "accuracy_08, num_evts_08 = clf_KNN.calc_pos_class_accuracy(optFtrTrainData.stndrd_train_ftr_array, (optFtrTrainData.train_clss_array>0)*1, optFtrTrainData.stndrd_test_ftr_array, (optFtrTrainData.test_clss_continuous_array>0)*1, threshold=0.8)"
   ]
  },
  {
   "cell_type": "code",
   "execution_count": 72,
   "metadata": {
    "collapsed": false
   },
   "outputs": [
    {
     "data": {
      "text/plain": [
       "(0.0, 100)"
      ]
     },
     "execution_count": 72,
     "metadata": {},
     "output_type": "execute_result"
    }
   ],
   "source": [
    "accuracy_08, num_evts_08"
   ]
  }
 ],
 "metadata": {
  "kernelspec": {
   "display_name": "Python [Root]",
   "language": "python",
   "name": "Python [Root]"
  },
  "language_info": {
   "codemirror_mode": {
    "name": "ipython",
    "version": 2
   },
   "file_extension": ".py",
   "mimetype": "text/x-python",
   "name": "python",
   "nbconvert_exporter": "python",
   "pygments_lexer": "ipython2",
   "version": "2.7.12"
  }
 },
 "nbformat": 4,
 "nbformat_minor": 0
}
