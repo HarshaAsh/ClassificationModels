{
 "cells": [
  {
   "cell_type": "markdown",
   "id": "d93af37c",
   "metadata": {},
   "source": [
    "# Information Diffusion and Epidemics\n",
    "There are two types of information diffusion models.  \n",
    "1. Linear Threshold Model  \n",
    "2. Independent cascade model\n",
    "  \n",
    "This code uses the independent cascade model to identify which person to select to maximise the number of activated people based on information diffusion."
   ]
  },
  {
   "cell_type": "code",
   "execution_count": 1,
   "id": "8aa075fc",
   "metadata": {},
   "outputs": [],
   "source": [
    "import networkx as nx\n",
    "\n",
    "# Other packages for manupulating data\n",
    "import numpy as np\n",
    "import pandas as pd\n",
    "\n",
    "# packages for plotting\n",
    "import matplotlib.pyplot as plt"
   ]
  },
  {
   "cell_type": "code",
   "execution_count": 2,
   "id": "d71ff695",
   "metadata": {},
   "outputs": [
    {
     "data": {
      "text/html": [
       "<div>\n",
       "<style scoped>\n",
       "    .dataframe tbody tr th:only-of-type {\n",
       "        vertical-align: middle;\n",
       "    }\n",
       "\n",
       "    .dataframe tbody tr th {\n",
       "        vertical-align: top;\n",
       "    }\n",
       "\n",
       "    .dataframe thead th {\n",
       "        text-align: right;\n",
       "    }\n",
       "</style>\n",
       "<table border=\"1\" class=\"dataframe\">\n",
       "  <thead>\n",
       "    <tr style=\"text-align: right;\">\n",
       "      <th></th>\n",
       "      <th>node1</th>\n",
       "      <th>node2</th>\n",
       "      <th>weights</th>\n",
       "    </tr>\n",
       "  </thead>\n",
       "  <tbody>\n",
       "    <tr>\n",
       "      <th>0</th>\n",
       "      <td>A</td>\n",
       "      <td>B</td>\n",
       "      <td>0.5</td>\n",
       "    </tr>\n",
       "    <tr>\n",
       "      <th>1</th>\n",
       "      <td>B</td>\n",
       "      <td>C</td>\n",
       "      <td>0.3</td>\n",
       "    </tr>\n",
       "    <tr>\n",
       "      <th>2</th>\n",
       "      <td>C</td>\n",
       "      <td>A</td>\n",
       "      <td>0.1</td>\n",
       "    </tr>\n",
       "    <tr>\n",
       "      <th>3</th>\n",
       "      <td>C</td>\n",
       "      <td>D</td>\n",
       "      <td>0.3</td>\n",
       "    </tr>\n",
       "    <tr>\n",
       "      <th>4</th>\n",
       "      <td>D</td>\n",
       "      <td>B</td>\n",
       "      <td>0.4</td>\n",
       "    </tr>\n",
       "  </tbody>\n",
       "</table>\n",
       "</div>"
      ],
      "text/plain": [
       "  node1 node2  weights\n",
       "0     A     B      0.5\n",
       "1     B     C      0.3\n",
       "2     C     A      0.1\n",
       "3     C     D      0.3\n",
       "4     D     B      0.4"
      ]
     },
     "execution_count": 2,
     "metadata": {},
     "output_type": "execute_result"
    }
   ],
   "source": [
    "edgelist_df = pd.DataFrame({'node1':['A', 'B', 'C', 'C', 'D'], 'node2':['B', 'C', 'A', 'D', 'B'], \n",
    "                            'weights':[0.5, 0.3, 0.1, 0.3, 0.4]\n",
    "                           })\n",
    "edgelist_df"
   ]
  },
  {
   "cell_type": "code",
   "execution_count": 3,
   "id": "aceaa592",
   "metadata": {},
   "outputs": [
    {
     "data": {
      "text/plain": [
       "OutEdgeDataView([('A', 'B', {'weight': 0.5}), ('B', 'C', {'weight': 0.3}), ('C', 'A', {'weight': 0.1}), ('C', 'D', {'weight': 0.3}), ('D', 'B', {'weight': 0.4})])"
      ]
     },
     "execution_count": 3,
     "metadata": {},
     "output_type": "execute_result"
    }
   ],
   "source": [
    "g = nx.DiGraph()\n",
    "for i, elrow in edgelist_df.iterrows():\n",
    "    g.add_edge(elrow[0], elrow[1], weight=elrow[2])\n",
    "g.edges(data=True)"
   ]
  },
  {
   "cell_type": "code",
   "execution_count": 4,
   "id": "a8cb08e6",
   "metadata": {},
   "outputs": [
    {
     "data": {
      "text/plain": [
       "NodeDataView({'A': {'pos': (1, 0)}, 'B': {'pos': (1, 1)}, 'C': {'pos': (0, 0)}, 'D': {'pos': (0, 1)}})"
      ]
     },
     "execution_count": 4,
     "metadata": {},
     "output_type": "execute_result"
    }
   ],
   "source": [
    "# for each node we are trying to fix the coordinates\n",
    "g.add_node('A',pos=(1,0))\n",
    "g.add_node('B',pos=(1,1))\n",
    "g.add_node('C',pos=(0,0))\n",
    "g.add_node('D',pos=(0,1))\n",
    "g.nodes(data=True)"
   ]
  },
  {
   "cell_type": "code",
   "execution_count": 5,
   "id": "a2ef85d6",
   "metadata": {},
   "outputs": [
    {
     "data": {
      "image/png": "[encoded data removed]",
      "text/plain": [
       "<Figure size 432x288 with 1 Axes>"
      ]
     },
     "metadata": {},
     "output_type": "display_data"
    }
   ],
   "source": [
    "# This function gets the coordinates for nodes\n",
    "pos = nx.get_node_attributes(g,'pos')\n",
    "\n",
    "# This function gets the weights for the edges \n",
    "weight = nx.get_edge_attributes(g,'weight')\n",
    "\n",
    "# The simplest way to draw a graph is by using nx.draw. \n",
    "nx.draw(g,pos, with_labels=True)\n",
    "\n",
    "# This adds edge lables\n",
    "nx.draw_networkx_edge_labels(g,pos,edge_labels = weight)\n",
    "plt.show()"
   ]
  },
  {
   "cell_type": "markdown",
   "id": "71cc7cb5",
   "metadata": {},
   "source": [
    "Starting at A, let us activate the nodes based on Independent cascade model."
   ]
  },
  {
   "cell_type": "code",
   "execution_count": 6,
   "id": "6e474bfa",
   "metadata": {},
   "outputs": [],
   "source": [
    "average_length = {}\n",
    "for node in g.nodes:\n",
    "    num_of_act_edges = []\n",
    "    for i in range(100):\n",
    "        activated_edges = []\n",
    "        next_edges = []\n",
    "        #start from node A\n",
    "        activated_edges.append(node)\n",
    "        next_edges.append(node)\n",
    "        while len(next_edges) > 0:\n",
    "            this_edge = next_edges[0]\n",
    "            for neighbour in g.neighbors(this_edge):\n",
    "                if(neighbour not in activated_edges):\n",
    "                    prob = nx.get_edge_attributes(g,'weight')[(this_edge, neighbour)]\n",
    "                    choose_next_node = np.random.choice([0,1], p=[1-prob, prob])\n",
    "                    if(choose_next_node == 1):\n",
    "                        activated_edges.append(neighbour)\n",
    "                        next_edges.append(neighbour)\n",
    "            next_edges.remove(this_edge)\n",
    "        num_of_act_edges.append(len(activated_edges))\n",
    "    average_length[node] = sum(num_of_act_edges)/len(num_of_act_edges)"
   ]
  },
  {
   "cell_type": "code",
   "execution_count": 7,
   "id": "7503b334",
   "metadata": {},
   "outputs": [
    {
     "data": {
      "text/plain": [
       "{'A': 1.73, 'B': 1.39, 'C': 1.54, 'D': 1.51}"
      ]
     },
     "execution_count": 7,
     "metadata": {},
     "output_type": "execute_result"
    }
   ],
   "source": [
    "average_length"
   ]
  },
  {
   "cell_type": "markdown",
   "id": "d941b35d",
   "metadata": {},
   "source": [
    "A has the maximum number of people that will be activated. So choosing A."
   ]
  }
 ],
 "metadata": {
  "kernelspec": {
   "display_name": "Python 3",
   "language": "python",
   "name": "python3"
  },
  "language_info": {
   "codemirror_mode": {
    "name": "ipython",
    "version": 3
   },
   "file_extension": ".py",
   "mimetype": "text/x-python",
   "name": "python",
   "nbconvert_exporter": "python",
   "pygments_lexer": "ipython3",
   "version": "3.8.8"
  }
 },
 "nbformat": 4,
 "nbformat_minor": 5
}
