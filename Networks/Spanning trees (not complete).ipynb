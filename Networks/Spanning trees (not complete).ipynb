{
 "cells": [
  {
   "cell_type": "code",
   "execution_count": 2,
   "id": "5ec6b295",
   "metadata": {},
   "outputs": [],
   "source": [
    "# Import networkx library and rename it as nx. \n",
    "import networkx as nx\n",
    "\n",
    "# Other packages required\n",
    "import numpy as np\n",
    "import pandas as pd\n",
    "import matplotlib.pyplot as plt"
   ]
  },
  {
   "cell_type": "code",
   "execution_count": 7,
   "id": "d87fd2ae",
   "metadata": {},
   "outputs": [
    {
     "data": {
      "text/html": [
       "<div>\n",
       "<style scoped>\n",
       "    .dataframe tbody tr th:only-of-type {\n",
       "        vertical-align: middle;\n",
       "    }\n",
       "\n",
       "    .dataframe tbody tr th {\n",
       "        vertical-align: top;\n",
       "    }\n",
       "\n",
       "    .dataframe thead th {\n",
       "        text-align: right;\n",
       "    }\n",
       "</style>\n",
       "<table border=\"1\" class=\"dataframe\">\n",
       "  <thead>\n",
       "    <tr style=\"text-align: right;\">\n",
       "      <th></th>\n",
       "      <th>node1</th>\n",
       "      <th>node2</th>\n",
       "      <th>weights</th>\n",
       "    </tr>\n",
       "  </thead>\n",
       "  <tbody>\n",
       "    <tr>\n",
       "      <th>0</th>\n",
       "      <td>0</td>\n",
       "      <td>1</td>\n",
       "      <td>4</td>\n",
       "    </tr>\n",
       "    <tr>\n",
       "      <th>1</th>\n",
       "      <td>0</td>\n",
       "      <td>7</td>\n",
       "      <td>8</td>\n",
       "    </tr>\n",
       "    <tr>\n",
       "      <th>2</th>\n",
       "      <td>1</td>\n",
       "      <td>2</td>\n",
       "      <td>8</td>\n",
       "    </tr>\n",
       "    <tr>\n",
       "      <th>3</th>\n",
       "      <td>1</td>\n",
       "      <td>7</td>\n",
       "      <td>11</td>\n",
       "    </tr>\n",
       "    <tr>\n",
       "      <th>4</th>\n",
       "      <td>2</td>\n",
       "      <td>3</td>\n",
       "      <td>7</td>\n",
       "    </tr>\n",
       "    <tr>\n",
       "      <th>5</th>\n",
       "      <td>2</td>\n",
       "      <td>8</td>\n",
       "      <td>2</td>\n",
       "    </tr>\n",
       "    <tr>\n",
       "      <th>6</th>\n",
       "      <td>2</td>\n",
       "      <td>5</td>\n",
       "      <td>4</td>\n",
       "    </tr>\n",
       "    <tr>\n",
       "      <th>7</th>\n",
       "      <td>3</td>\n",
       "      <td>5</td>\n",
       "      <td>14</td>\n",
       "    </tr>\n",
       "    <tr>\n",
       "      <th>8</th>\n",
       "      <td>3</td>\n",
       "      <td>4</td>\n",
       "      <td>9</td>\n",
       "    </tr>\n",
       "    <tr>\n",
       "      <th>9</th>\n",
       "      <td>4</td>\n",
       "      <td>5</td>\n",
       "      <td>10</td>\n",
       "    </tr>\n",
       "    <tr>\n",
       "      <th>10</th>\n",
       "      <td>5</td>\n",
       "      <td>6</td>\n",
       "      <td>2</td>\n",
       "    </tr>\n",
       "    <tr>\n",
       "      <th>11</th>\n",
       "      <td>6</td>\n",
       "      <td>7</td>\n",
       "      <td>1</td>\n",
       "    </tr>\n",
       "    <tr>\n",
       "      <th>12</th>\n",
       "      <td>6</td>\n",
       "      <td>8</td>\n",
       "      <td>6</td>\n",
       "    </tr>\n",
       "    <tr>\n",
       "      <th>13</th>\n",
       "      <td>7</td>\n",
       "      <td>8</td>\n",
       "      <td>7</td>\n",
       "    </tr>\n",
       "  </tbody>\n",
       "</table>\n",
       "</div>"
      ],
      "text/plain": [
       "    node1  node2  weights\n",
       "0       0      1        4\n",
       "1       0      7        8\n",
       "2       1      2        8\n",
       "3       1      7       11\n",
       "4       2      3        7\n",
       "5       2      8        2\n",
       "6       2      5        4\n",
       "7       3      5       14\n",
       "8       3      4        9\n",
       "9       4      5       10\n",
       "10      5      6        2\n",
       "11      6      7        1\n",
       "12      6      8        6\n",
       "13      7      8        7"
      ]
     },
     "execution_count": 7,
     "metadata": {},
     "output_type": "execute_result"
    }
   ],
   "source": [
    "edgelist_df = pd.DataFrame({'node1':[0,0,1,1,2,2,2,3,3,4,5,6,6,7], \n",
    "                            'node2':[1,7,2,7,3,8,5,5,4,5,6,7,8,8], \n",
    "                            'weights':[4,8,8,11,7,2,4,14,9,10,2,1,6,7]})\n",
    "edgelist_df"
   ]
  },
  {
   "cell_type": "code",
   "execution_count": 8,
   "id": "b561d95f",
   "metadata": {},
   "outputs": [
    {
     "data": {
      "text/plain": [
       "EdgeDataView([(0, 1, {'weight': 4}), (0, 7, {'weight': 8}), (1, 2, {'weight': 8}), (1, 7, {'weight': 11}), (7, 6, {'weight': 1}), (7, 8, {'weight': 7}), (2, 3, {'weight': 7}), (2, 8, {'weight': 2}), (2, 5, {'weight': 4}), (3, 5, {'weight': 14}), (3, 4, {'weight': 9}), (8, 6, {'weight': 6}), (5, 4, {'weight': 10}), (5, 6, {'weight': 2})])"
      ]
     },
     "execution_count": 8,
     "metadata": {},
     "output_type": "execute_result"
    }
   ],
   "source": [
    "g = nx.Graph()\n",
    "for i, elrow in edgelist_df.iterrows():\n",
    "    g.add_edge(elrow[0], elrow[1], weight=elrow[2])\n",
    "    g.add_node(1,pos=(0,5))\n",
    "g.edges(data=True)"
   ]
  },
  {
   "cell_type": "code",
   "execution_count": 9,
   "id": "6a3ef9c6",
   "metadata": {},
   "outputs": [
    {
     "data": {
      "text/plain": [
       "NodeDataView({0: {'pos': (0, 5)}, 1: {'pos': (5, 10)}, 7: {'pos': (5, 0)}, 2: {'pos': (10, 10)}, 3: {'pos': (15, 10)}, 8: {'pos': (10, 5)}, 5: {'pos': (15, 0)}, 4: {'pos': (20, 5)}, 6: {'pos': (10, 0)}})"
      ]
     },
     "execution_count": 9,
     "metadata": {},
     "output_type": "execute_result"
    }
   ],
   "source": [
    "# for each node we are trying to fix the coordinates\n",
    "g.add_node(0,pos=(0,5))\n",
    "g.add_node(1,pos=(5,10))\n",
    "g.add_node(2,pos=(10,10))\n",
    "g.add_node(3,pos=(15,10))\n",
    "g.add_node(4,pos=(20,5))\n",
    "g.add_node(5,pos=(15,0))\n",
    "g.add_node(6,pos=(10,0))\n",
    "g.add_node(7,pos=(5,0))\n",
    "g.add_node(8,pos=(10,5))\n",
    "g.nodes(data=True)"
   ]
  },
  {
   "cell_type": "code",
   "execution_count": 10,
   "id": "dd483524",
   "metadata": {},
   "outputs": [
    {
     "data": {
      "image/png": "[encoded data removed]",
      "text/plain": [
       "<Figure size 432x288 with 1 Axes>"
      ]
     },
     "metadata": {},
     "output_type": "display_data"
    }
   ],
   "source": [
    "# This function gets the coordinates for nodes\n",
    "pos = nx.get_node_attributes(g,'pos')\n",
    "\n",
    "# This function gets the weights for the edges \n",
    "weight = nx.get_edge_attributes(g,'weight')\n",
    "\n",
    "# The simplest way to draw a graph is by using nx.draw. \n",
    "nx.draw(g,pos, with_labels=True)\n",
    "\n",
    "# This adds edge lables\n",
    "nx.draw_networkx_edge_labels(g,pos,edge_labels = weight)\n",
    "plt.show()"
   ]
  },
  {
   "cell_type": "code",
   "execution_count": 19,
   "id": "dc57168e",
   "metadata": {},
   "outputs": [
    {
     "data": {
      "text/plain": [
       "[((7, 6), 1),\n",
       " ((2, 8), 2),\n",
       " ((5, 6), 2),\n",
       " ((0, 1), 4),\n",
       " ((2, 5), 4),\n",
       " ((8, 6), 6),\n",
       " ((7, 8), 7),\n",
       " ((2, 3), 7),\n",
       " ((0, 7), 8),\n",
       " ((1, 2), 8),\n",
       " ((3, 4), 9),\n",
       " ((5, 4), 10),\n",
       " ((1, 7), 11),\n",
       " ((3, 5), 14)]"
      ]
     },
     "execution_count": 19,
     "metadata": {},
     "output_type": "execute_result"
    }
   ],
   "source": [
    "import collections\n",
    "\n",
    "min_spanning_tree_nodes = []\n",
    "min_spanning_tree_edges = []\n",
    "weight = nx.get_edge_attributes(g,'weight')\n",
    "\n",
    "sorted_weights = sorted(weight.items(), key=lambda kv: kv[1])\n",
    "sorted_weights"
   ]
  },
  {
   "cell_type": "code",
   "execution_count": 21,
   "id": "0c5e90a6",
   "metadata": {},
   "outputs": [
    {
     "data": {
      "text/plain": [
       "[(7, 6), (2, 8), (0, 1), (3, 4), (5, 6)]"
      ]
     },
     "execution_count": 21,
     "metadata": {},
     "output_type": "execute_result"
    }
   ],
   "source": [
    "for edge in sorted_weights:\n",
    "    if((edge[0][0] in min_spanning_tree_nodes) and (edge[0][1] in min_spanning_tree_nodes)):\n",
    "        pass\n",
    "    else:\n",
    "        min_spanning_tree_nodes.extend([edge[0][0], edge[0][1]])\n",
    "        min_spanning_tree_edges.append(edge[0])\n",
    "min_spanning_tree_edges"
   ]
  },
  {
   "cell_type": "code",
   "execution_count": 24,
   "id": "5017f640",
   "metadata": {},
   "outputs": [
    {
     "data": {
      "image/png": "[encoded data removed]",
      "text/plain": [
       "<Figure size 432x288 with 1 Axes>"
      ]
     },
     "metadata": {},
     "output_type": "display_data"
    }
   ],
   "source": [
    "min_span_G0 = nx.minimum_spanning_tree(g)\n",
    "\n",
    "\n",
    "def showGraphwithWeight(graph_w):\n",
    "    pos = nx.spring_layout(graph_w)\n",
    "    # draw the graph with the node position based on pos\n",
    "    nx.draw(graph_w, pos, with_labels = True)\n",
    "    labels = nx.get_edge_attributes(graph_w,'weight')\n",
    "    # draw the edge weight\n",
    "    nx.draw_networkx_edge_labels(graph_w, pos, edge_labels = labels)\n",
    "showGraphwithWeight(min_span_G0)"
   ]
  },
  {
   "cell_type": "code",
   "execution_count": null,
   "id": "d0980981",
   "metadata": {},
   "outputs": [],
   "source": []
  }
 ],
 "metadata": {
  "kernelspec": {
   "display_name": "Python 3",
   "language": "python",
   "name": "python3"
  },
  "language_info": {
   "codemirror_mode": {
    "name": "ipython",
    "version": 3
   },
   "file_extension": ".py",
   "mimetype": "text/x-python",
   "name": "python",
   "nbconvert_exporter": "python",
   "pygments_lexer": "ipython3",
   "version": "3.8.8"
  }
 },
 "nbformat": 4,
 "nbformat_minor": 5
}
