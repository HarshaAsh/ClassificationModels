{
 "cells": [
  {
   "cell_type": "markdown",
   "id": "a4637f09",
   "metadata": {},
   "source": [
    "# Flow maximisation problems\n",
    "\n",
    "A directed graph has the capacities on all the edges and our job is to find the maximum amount of flow that can happen from one node (starting node) to another node(outflow node). There are two types of flow maximisation problems:  \n",
    "1. Max flow: What is the maximum flow that can be sent from source to outfow without exceeding capacity.\n",
    "2. Min cost flow: We have the cost along wih capacities on each edge. We want to find the minimum cost path of sending  *f* uits of flow from source to outflow.  \n",
    "\n",
    "We can use integer programming to solve both these problems."
   ]
  },
  {
   "cell_type": "code",
   "execution_count": 2,
   "id": "f74284d1",
   "metadata": {},
   "outputs": [],
   "source": [
    "import networkx as nx\n",
    "\n",
    "# Other packages for manupulating data\n",
    "import numpy as np\n",
    "import pandas as pd\n",
    "\n",
    "# packages for plotting\n",
    "import matplotlib.pyplot as plt"
   ]
  },
  {
   "cell_type": "markdown",
   "id": "b22ee8bd",
   "metadata": {},
   "source": [
    "## Maximum flow problem\n",
    "Let us first consider the max flow problem. Consider the below graph."
   ]
  },
  {
   "cell_type": "code",
   "execution_count": 3,
   "id": "357fe70e",
   "metadata": {},
   "outputs": [
    {
     "data": {
      "text/html": [
       "<div>\n",
       "<style scoped>\n",
       "    .dataframe tbody tr th:only-of-type {\n",
       "        vertical-align: middle;\n",
       "    }\n",
       "\n",
       "    .dataframe tbody tr th {\n",
       "        vertical-align: top;\n",
       "    }\n",
       "\n",
       "    .dataframe thead th {\n",
       "        text-align: right;\n",
       "    }\n",
       "</style>\n",
       "<table border=\"1\" class=\"dataframe\">\n",
       "  <thead>\n",
       "    <tr style=\"text-align: right;\">\n",
       "      <th></th>\n",
       "      <th>node1</th>\n",
       "      <th>node2</th>\n",
       "      <th>weights</th>\n",
       "    </tr>\n",
       "  </thead>\n",
       "  <tbody>\n",
       "    <tr>\n",
       "      <th>0</th>\n",
       "      <td>s</td>\n",
       "      <td>u</td>\n",
       "      <td>20</td>\n",
       "    </tr>\n",
       "    <tr>\n",
       "      <th>1</th>\n",
       "      <td>s</td>\n",
       "      <td>v</td>\n",
       "      <td>10</td>\n",
       "    </tr>\n",
       "    <tr>\n",
       "      <th>2</th>\n",
       "      <td>u</td>\n",
       "      <td>v</td>\n",
       "      <td>30</td>\n",
       "    </tr>\n",
       "    <tr>\n",
       "      <th>3</th>\n",
       "      <td>u</td>\n",
       "      <td>t</td>\n",
       "      <td>10</td>\n",
       "    </tr>\n",
       "    <tr>\n",
       "      <th>4</th>\n",
       "      <td>v</td>\n",
       "      <td>t</td>\n",
       "      <td>20</td>\n",
       "    </tr>\n",
       "  </tbody>\n",
       "</table>\n",
       "</div>"
      ],
      "text/plain": [
       "  node1 node2  weights\n",
       "0     s     u       20\n",
       "1     s     v       10\n",
       "2     u     v       30\n",
       "3     u     t       10\n",
       "4     v     t       20"
      ]
     },
     "execution_count": 3,
     "metadata": {},
     "output_type": "execute_result"
    }
   ],
   "source": [
    "edgelist_df = pd.DataFrame({'node1':['s', 's', 'u', 'u', 'v'], 'node2':['u', 'v', 'v', 't', 't'], \n",
    "                            'weights':[20, 10, 30, 10, 20]\n",
    "                           })\n",
    "edgelist_df"
   ]
  },
  {
   "cell_type": "code",
   "execution_count": 4,
   "id": "f89cf456",
   "metadata": {},
   "outputs": [
    {
     "data": {
      "text/plain": [
       "OutEdgeDataView([('s', 'u', {'weight': 20}), ('s', 'v', {'weight': 10}), ('u', 'v', {'weight': 30}), ('u', 't', {'weight': 10}), ('v', 't', {'weight': 20})])"
      ]
     },
     "execution_count": 4,
     "metadata": {},
     "output_type": "execute_result"
    }
   ],
   "source": [
    "g = nx.DiGraph()\n",
    "for i, elrow in edgelist_df.iterrows():\n",
    "    g.add_edge(elrow[0], elrow[1], weight=elrow[2])\n",
    "g.edges(data=True)"
   ]
  },
  {
   "cell_type": "code",
   "execution_count": 5,
   "id": "6316ec06",
   "metadata": {},
   "outputs": [
    {
     "data": {
      "text/plain": [
       "NodeDataView({'s': {'pos': (0, 1)}, 'u': {'pos': (1, 2)}, 'v': {'pos': (1, 0)}, 't': {'pos': (2, 1)}})"
      ]
     },
     "execution_count": 5,
     "metadata": {},
     "output_type": "execute_result"
    }
   ],
   "source": [
    "# for each node we are trying to fix the coordinates\n",
    "g.add_node('s',pos=(0,1))\n",
    "g.add_node('u',pos=(1,2))\n",
    "g.add_node('v',pos=(1,0))\n",
    "g.add_node('t',pos=(2,1))\n",
    "g.nodes(data=True)"
   ]
  },
  {
   "cell_type": "code",
   "execution_count": 6,
   "id": "439fd347",
   "metadata": {},
   "outputs": [
    {
     "data": {
      "image/png": "[encoded data removed]",
      "text/plain": [
       "<Figure size 432x288 with 1 Axes>"
      ]
     },
     "metadata": {},
     "output_type": "display_data"
    }
   ],
   "source": [
    "# This function gets the coordinates for nodes\n",
    "pos = nx.get_node_attributes(g,'pos')\n",
    "\n",
    "# This function gets the weights for the edges \n",
    "weight = nx.get_edge_attributes(g,'weight')\n",
    "\n",
    "# The simplest way to draw a graph is by using nx.draw. \n",
    "nx.draw(g,pos, with_labels=True)\n",
    "\n",
    "# This adds edge lables\n",
    "nx.draw_networkx_edge_labels(g,pos,edge_labels = weight)\n",
    "plt.show()"
   ]
  },
  {
   "cell_type": "markdown",
   "id": "a020c76a",
   "metadata": {},
   "source": [
    "We want to find the maximum flow between s and t. This can be formulated as an integer programming problem, with  \n",
    "**Decision variable**\n",
    "1. Integer variable $edge_{i,j} representing the amount of flow in edge ij.\n",
    "2. Integer variable *f* representing the maximum flow  "
   ]
  },
  {
   "cell_type": "code",
   "execution_count": 7,
   "id": "6ffe3a13",
   "metadata": {},
   "outputs": [],
   "source": [
    "from ortools.sat.python import cp_model\n",
    "max_flow_model = cp_model.CpModel()"
   ]
  },
  {
   "cell_type": "code",
   "execution_count": 8,
   "id": "4ad7a0ed",
   "metadata": {},
   "outputs": [
    {
     "name": "stdout",
     "output_type": "stream",
     "text": [
      "Creating the integer variable  edge_s_u representing the amount to flow in edge ('s', 'u')\n",
      "Creating the integer variable  edge_s_v representing the amount to flow in edge ('s', 'v')\n",
      "Creating the integer variable  edge_u_v representing the amount to flow in edge ('u', 'v')\n",
      "Creating the integer variable  edge_u_t representing the amount to flow in edge ('u', 't')\n",
      "Creating the integer variable  edge_v_t representing the amount to flow in edge ('v', 't')\n"
     ]
    }
   ],
   "source": [
    "# Creating one integer decision variable for each edge\n",
    "edge_int_vars = {}\n",
    "for edge in g.edges:\n",
    "    edge_int_vars[edge[0], edge[1]] = max_flow_model.NewIntVar(0, 100, 'edge_%s_%s' % edge)\n",
    "    print('Creating the integer variable ', edge_int_vars[edge[0], edge[1]], \n",
    "          'representing the amount to flow in edge', (edge[0], edge[1]))"
   ]
  },
  {
   "cell_type": "markdown",
   "id": "f1a2ef72",
   "metadata": {},
   "source": [
    "**Constraints**  \n",
    "The first set of constraints are flow constraints, \n",
    "1. At the input node, the net flow should be -f\n",
    "2. At the output node, the net flow should be +f\n",
    "3. The net flow in all other nodes should be 0"
   ]
  },
  {
   "cell_type": "code",
   "execution_count": 9,
   "id": "336bdb72",
   "metadata": {},
   "outputs": [],
   "source": [
    "input_node = 's'\n",
    "output_node = 't'"
   ]
  },
  {
   "cell_type": "code",
   "execution_count": 10,
   "id": "98b34850",
   "metadata": {},
   "outputs": [
    {
     "name": "stdout",
     "output_type": "stream",
     "text": [
      "Adding the constraint on node  s\n",
      "((-((edge_s_u) + edge_s_v)) + (1 * flow)) == 0\n",
      "\n",
      "Adding the constraint on node  u\n",
      "((edge_s_u) + -((edge_u_v) + edge_u_t)) == 0\n",
      "\n",
      "Adding the constraint on node  v\n",
      "(((edge_s_v) + edge_u_v) + -(edge_v_t)) == 0\n",
      "\n",
      "Adding the constraint on node  t\n",
      "((((edge_u_t) + edge_v_t)) + -flow) == 0\n",
      "\n"
     ]
    }
   ],
   "source": [
    "# Adding constraints on the nodes\n",
    "flow = max_flow_model.NewIntVar(0, 100, 'flow') # Initialising flow this will be maximised later\n",
    "for node in g.nodes:\n",
    "    in_edges = g.in_edges(node)\n",
    "    out_edges = g.out_edges(node)\n",
    "    print('Adding the constraint on node ', node)\n",
    "    equation_at_this_edge = sum(edge_int_vars[edge[0], edge[1]] for edge in in_edges) - \\\n",
    "                            sum(edge_int_vars[edge[0], edge[1]] for edge in out_edges)\n",
    "    if(node == input_node):              \n",
    "        max_flow_model.Add(equation_at_this_edge == -flow)\n",
    "        print(equation_at_this_edge == -flow)\n",
    "    elif(node == output_node):              \n",
    "        max_flow_model.Add(equation_at_this_edge == flow)\n",
    "        print(equation_at_this_edge == flow)\n",
    "    else:\n",
    "        max_flow_model.Add(equation_at_this_edge == 0)\n",
    "        print(equation_at_this_edge, '== 0')\n",
    "    print('')"
   ]
  },
  {
   "cell_type": "markdown",
   "id": "51f2b141",
   "metadata": {},
   "source": [
    "Another set of constraints are the capacity restrictions on every edge."
   ]
  },
  {
   "cell_type": "code",
   "execution_count": 11,
   "id": "8a62125f",
   "metadata": {},
   "outputs": [
    {
     "name": "stdout",
     "output_type": "stream",
     "text": [
      "Adding constraint on edge  ('s', 'u')\n",
      "edge_s_u <= 20\n",
      "Adding constraint on edge  ('s', 'v')\n",
      "edge_s_v <= 10\n",
      "Adding constraint on edge  ('u', 'v')\n",
      "edge_u_v <= 30\n",
      "Adding constraint on edge  ('u', 't')\n",
      "edge_u_t <= 10\n",
      "Adding constraint on edge  ('v', 't')\n",
      "edge_v_t <= 20\n"
     ]
    }
   ],
   "source": [
    "# Adding constraints on the edges\n",
    "for edge in g.edges:\n",
    "    print('Adding constraint on edge ', edge)\n",
    "    max_flow_in_edge = g.get_edge_data(*edge)['weight']\n",
    "    max_flow_model.Add(edge_int_vars[edge[0], edge[1]] <= max_flow_in_edge)\n",
    "    print(edge_int_vars[edge[0], edge[1]] <= max_flow_in_edge)"
   ]
  },
  {
   "cell_type": "markdown",
   "id": "06aa7cb4",
   "metadata": {},
   "source": [
    "**Objective**  \n",
    "The objective is to maximise flow."
   ]
  },
  {
   "cell_type": "code",
   "execution_count": 12,
   "id": "959d13d9",
   "metadata": {},
   "outputs": [],
   "source": [
    "# The objective is to maximise flow \n",
    "max_flow_model.Maximize(flow)"
   ]
  },
  {
   "cell_type": "markdown",
   "id": "c79fb77e",
   "metadata": {},
   "source": [
    "Solving the problem, we get"
   ]
  },
  {
   "cell_type": "code",
   "execution_count": 13,
   "id": "73d1406e",
   "metadata": {},
   "outputs": [
    {
     "name": "stdout",
     "output_type": "stream",
     "text": [
      "Solution 0, time = 0.44 s, objective = 30\n"
     ]
    }
   ],
   "source": [
    "# Solving the problem\n",
    "solver = cp_model.CpSolver()\n",
    "solution_printer = cp_model.ObjectiveSolutionPrinter()\n",
    "status = solver.SolveWithSolutionCallback(max_flow_model, solution_printer)"
   ]
  },
  {
   "cell_type": "code",
   "execution_count": 14,
   "id": "18541ffe",
   "metadata": {},
   "outputs": [
    {
     "data": {
      "text/plain": [
       "True"
      ]
     },
     "execution_count": 14,
     "metadata": {},
     "output_type": "execute_result"
    }
   ],
   "source": [
    "cp_model.OPTIMAL == status"
   ]
  },
  {
   "cell_type": "code",
   "execution_count": 15,
   "id": "ec606ef8",
   "metadata": {},
   "outputs": [
    {
     "data": {
      "text/plain": [
       "{('s', 'u'): 20,\n",
       " ('s', 'v'): 10,\n",
       " ('u', 'v'): 10,\n",
       " ('u', 't'): 10,\n",
       " ('v', 't'): 20}"
      ]
     },
     "execution_count": 15,
     "metadata": {},
     "output_type": "execute_result"
    }
   ],
   "source": [
    "result_edges = {}\n",
    "for edge in g.edges:\n",
    "    result_edges[edge[0], edge[1]] = solver.Value(edge_int_vars[edge[0], edge[1]])\n",
    "result_edges"
   ]
  },
  {
   "cell_type": "markdown",
   "id": "68679b48",
   "metadata": {},
   "source": [
    "The flow in each of the nodes is shown in the figure"
   ]
  },
  {
   "cell_type": "code",
   "execution_count": 16,
   "id": "a81ec818",
   "metadata": {},
   "outputs": [
    {
     "data": {
      "image/png": "[encoded data removed]",
      "text/plain": [
       "<Figure size 432x288 with 1 Axes>"
      ]
     },
     "metadata": {},
     "output_type": "display_data"
    }
   ],
   "source": [
    "# This function gets the coordinates for nodes\n",
    "pos = nx.get_node_attributes(g,'pos')\n",
    "\n",
    "# The simplest way to draw a graph is by using nx.draw. \n",
    "nx.draw(g,pos, with_labels=True)\n",
    "\n",
    "# This adds edge lables\n",
    "nx.draw_networkx_edge_labels(g,pos,edge_labels = result_edges)\n",
    "plt.show()"
   ]
  },
  {
   "cell_type": "markdown",
   "id": "c9a02ea5",
   "metadata": {},
   "source": [
    "# Minimum cost flow problems\n",
    "We want to find the minimum cost to transfer a fixed amount of flow from one edge to another. The costs are given int he table bwlow. The costs are also displayed in the network below."
   ]
  },
  {
   "cell_type": "code",
   "execution_count": 17,
   "id": "83f2de2a",
   "metadata": {},
   "outputs": [
    {
     "data": {
      "text/html": [
       "<div>\n",
       "<style scoped>\n",
       "    .dataframe tbody tr th:only-of-type {\n",
       "        vertical-align: middle;\n",
       "    }\n",
       "\n",
       "    .dataframe tbody tr th {\n",
       "        vertical-align: top;\n",
       "    }\n",
       "\n",
       "    .dataframe thead th {\n",
       "        text-align: right;\n",
       "    }\n",
       "</style>\n",
       "<table border=\"1\" class=\"dataframe\">\n",
       "  <thead>\n",
       "    <tr style=\"text-align: right;\">\n",
       "      <th></th>\n",
       "      <th>node1</th>\n",
       "      <th>node2</th>\n",
       "      <th>weights</th>\n",
       "      <th>costs</th>\n",
       "    </tr>\n",
       "  </thead>\n",
       "  <tbody>\n",
       "    <tr>\n",
       "      <th>0</th>\n",
       "      <td>s</td>\n",
       "      <td>u</td>\n",
       "      <td>20</td>\n",
       "      <td>3.0</td>\n",
       "    </tr>\n",
       "    <tr>\n",
       "      <th>1</th>\n",
       "      <td>s</td>\n",
       "      <td>v</td>\n",
       "      <td>10</td>\n",
       "      <td>2.0</td>\n",
       "    </tr>\n",
       "    <tr>\n",
       "      <th>2</th>\n",
       "      <td>u</td>\n",
       "      <td>v</td>\n",
       "      <td>30</td>\n",
       "      <td>0.7</td>\n",
       "    </tr>\n",
       "    <tr>\n",
       "      <th>3</th>\n",
       "      <td>u</td>\n",
       "      <td>t</td>\n",
       "      <td>10</td>\n",
       "      <td>1.0</td>\n",
       "    </tr>\n",
       "    <tr>\n",
       "      <th>4</th>\n",
       "      <td>v</td>\n",
       "      <td>t</td>\n",
       "      <td>20</td>\n",
       "      <td>7.0</td>\n",
       "    </tr>\n",
       "  </tbody>\n",
       "</table>\n",
       "</div>"
      ],
      "text/plain": [
       "  node1 node2  weights  costs\n",
       "0     s     u       20    3.0\n",
       "1     s     v       10    2.0\n",
       "2     u     v       30    0.7\n",
       "3     u     t       10    1.0\n",
       "4     v     t       20    7.0"
      ]
     },
     "execution_count": 17,
     "metadata": {},
     "output_type": "execute_result"
    }
   ],
   "source": [
    "edgelist_df = pd.DataFrame({'node1':['s', 's', 'u', 'u', 'v'], 'node2':['u', 'v', 'v', 't', 't'], \n",
    "                            'weights':[20, 10, 30, 10, 20], 'costs':[3, 2, 0.7, 1, 7]\n",
    "                           })\n",
    "edgelist_df"
   ]
  },
  {
   "cell_type": "code",
   "execution_count": 18,
   "id": "5a6f3a9a",
   "metadata": {},
   "outputs": [
    {
     "data": {
      "text/plain": [
       "OutEdgeDataView([('s', 'u', {'weight': 20, 'cost': 3.0}), ('s', 'v', {'weight': 10, 'cost': 2.0}), ('u', 'v', {'weight': 30, 'cost': 0.7}), ('u', 't', {'weight': 10, 'cost': 1.0}), ('v', 't', {'weight': 20, 'cost': 7.0})])"
      ]
     },
     "execution_count": 18,
     "metadata": {},
     "output_type": "execute_result"
    }
   ],
   "source": [
    "g = nx.DiGraph()\n",
    "for i, elrow in edgelist_df.iterrows():\n",
    "    g.add_edge(elrow[0], elrow[1], weight=elrow[2], cost = elrow[3])\n",
    "g.edges(data=True)"
   ]
  },
  {
   "cell_type": "code",
   "execution_count": 19,
   "id": "58db392d",
   "metadata": {},
   "outputs": [
    {
     "data": {
      "text/plain": [
       "NodeDataView({'s': {'pos': (0, 1)}, 'u': {'pos': (1, 2)}, 'v': {'pos': (1, 0)}, 't': {'pos': (2, 1)}})"
      ]
     },
     "execution_count": 19,
     "metadata": {},
     "output_type": "execute_result"
    }
   ],
   "source": [
    "# for each node we are trying to fix the coordinates\n",
    "g.add_node('s',pos=(0,1))\n",
    "g.add_node('u',pos=(1,2))\n",
    "g.add_node('v',pos=(1,0))\n",
    "g.add_node('t',pos=(2,1))\n",
    "g.nodes(data=True)"
   ]
  },
  {
   "cell_type": "code",
   "execution_count": 20,
   "id": "5d3dacdc",
   "metadata": {},
   "outputs": [
    {
     "data": {
      "image/png": "[encoded data removed]",
      "text/plain": [
       "<Figure size 432x288 with 1 Axes>"
      ]
     },
     "metadata": {},
     "output_type": "display_data"
    }
   ],
   "source": [
    "# This function gets the coordinates for nodes\n",
    "pos = nx.get_node_attributes(g,'pos')\n",
    "\n",
    "# This function gets the weights for the edges \n",
    "weight = nx.get_edge_attributes(g,'weight')\n",
    "cost = nx.get_edge_attributes(g,'cost')\n",
    "res = {key: str(weight[key]) + '/$' + str(cost.get(key, '')) for key in cost.keys()}\n",
    "\n",
    "# The simplest way to draw a graph is by using nx.draw. \n",
    "nx.draw(g,pos, with_labels=True)\n",
    "\n",
    "# This adds edge lables\n",
    "nx.draw_networkx_edge_labels(g,pos,edge_labels = res)\n",
    "plt.show()"
   ]
  },
  {
   "cell_type": "markdown",
   "id": "82bce461",
   "metadata": {},
   "source": [
    "Just like maximum flow, we can use integer programming to find out the solution in this scenario also.   \n",
    "**Decision variables**  \n",
    "Integer variables $edge_{i,j}$ representing the amount of flow in edge (i,j)  \n",
    "**Constraints**  \n",
    "Capacity restrictions on every edge  \n",
    "**Objective**\n",
    "The objective is to minimise the overall cost"
   ]
  },
  {
   "cell_type": "code",
   "execution_count": 22,
   "id": "7c8b66b3",
   "metadata": {},
   "outputs": [],
   "source": [
    "from ortools.sat.python import cp_model\n",
    "min_cost_flow_model = cp_model.CpModel()"
   ]
  },
  {
   "cell_type": "code",
   "execution_count": 23,
   "id": "16e11e96",
   "metadata": {},
   "outputs": [
    {
     "name": "stdout",
     "output_type": "stream",
     "text": [
      "Creating the integer variable  edge_s_u representing the amount to flow in edge ('s', 'u')\n",
      "Creating the integer variable  edge_s_v representing the amount to flow in edge ('s', 'v')\n",
      "Creating the integer variable  edge_u_v representing the amount to flow in edge ('u', 'v')\n",
      "Creating the integer variable  edge_u_t representing the amount to flow in edge ('u', 't')\n",
      "Creating the integer variable  edge_v_t representing the amount to flow in edge ('v', 't')\n"
     ]
    }
   ],
   "source": [
    "# Creating one integer decision variable for each edge\n",
    "edge_int_vars = {}\n",
    "for edge in g.edges:\n",
    "    edge_int_vars[edge[0], edge[1]] = min_cost_flow_model.NewIntVar(0, 100, 'edge_%s_%s' % edge)\n",
    "    print('Creating the integer variable ', edge_int_vars[edge[0], edge[1]], \n",
    "          'representing the amount to flow in edge', (edge[0], edge[1]))"
   ]
  },
  {
   "cell_type": "code",
   "execution_count": 24,
   "id": "2e4d3919",
   "metadata": {},
   "outputs": [],
   "source": [
    "input_node = 's'\n",
    "output_node = 't'\n",
    "flow = 20 # Assuming a constant flow of 20 units"
   ]
  },
  {
   "cell_type": "code",
   "execution_count": 25,
   "id": "5da4cd1c",
   "metadata": {},
   "outputs": [
    {
     "name": "stdout",
     "output_type": "stream",
     "text": [
      "Adding the constraint on node  s\n",
      "This node has 0 in-edges and 2 out-edges\n",
      "(-((edge_s_u) + edge_s_v)) == -20\n",
      "\n",
      "Adding the constraint on node  u\n",
      "This node has 1 in-edges and 2 out-edges\n",
      "((edge_s_u) + -((edge_u_v) + edge_u_t)) == 0\n",
      "\n",
      "Adding the constraint on node  v\n",
      "This node has 2 in-edges and 1 out-edges\n",
      "(((edge_s_v) + edge_u_v) + -(edge_v_t)) == 0\n",
      "\n",
      "Adding the constraint on node  t\n",
      "This node has 2 in-edges and 0 out-edges\n",
      "(((edge_u_t) + edge_v_t)) == 20\n",
      "\n"
     ]
    }
   ],
   "source": [
    "# Adding constraints on the nodes\n",
    "for node in g.nodes:\n",
    "    in_edges = g.in_edges(node)\n",
    "    out_edges = g.out_edges(node)\n",
    "    print('Adding the constraint on node ', node)\n",
    "    print('This node has %i in-edges and %i out-edges' % (len(in_edges), len(out_edges)))\n",
    "    equation_at_this_edge = sum(edge_int_vars[edge[0], edge[1]] for edge in in_edges) - \\\n",
    "                            sum(edge_int_vars[edge[0], edge[1]] for edge in out_edges)\n",
    "    if(node == input_node):              \n",
    "        min_cost_flow_model.Add(equation_at_this_edge == -flow)\n",
    "        print(equation_at_this_edge == -flow)\n",
    "    elif(node == output_node):              \n",
    "        min_cost_flow_model.Add(equation_at_this_edge == flow)\n",
    "        print(equation_at_this_edge == flow)\n",
    "    else:\n",
    "        min_cost_flow_model.Add(equation_at_this_edge == 0)\n",
    "        print(equation_at_this_edge, '== 0')\n",
    "    print('')"
   ]
  },
  {
   "cell_type": "code",
   "execution_count": 26,
   "id": "9de2fe93",
   "metadata": {},
   "outputs": [
    {
     "name": "stdout",
     "output_type": "stream",
     "text": [
      "Adding constraint on edge  ('s', 'u')\n",
      "edge_s_u <= 20\n",
      "Adding constraint on edge  ('s', 'v')\n",
      "edge_s_v <= 10\n",
      "Adding constraint on edge  ('u', 'v')\n",
      "edge_u_v <= 30\n",
      "Adding constraint on edge  ('u', 't')\n",
      "edge_u_t <= 10\n",
      "Adding constraint on edge  ('v', 't')\n",
      "edge_v_t <= 20\n"
     ]
    }
   ],
   "source": [
    "# Adding constraints on the edges\n",
    "for edge in g.edges:\n",
    "    print('Adding constraint on edge ', edge)\n",
    "    max_flow_in_edge = g.get_edge_data(*edge)['weight']\n",
    "    min_cost_flow_model.Add(edge_int_vars[edge[0], edge[1]] <= max_flow_in_edge)\n",
    "    print(edge_int_vars[edge[0], edge[1]] <= max_flow_in_edge)"
   ]
  },
  {
   "cell_type": "code",
   "execution_count": 27,
   "id": "dd3f0f19",
   "metadata": {},
   "outputs": [
    {
     "name": "stdout",
     "output_type": "stream",
     "text": [
      "Objective is to optimise cost\n",
      "((((((30 * edge_s_u)) + (20 * edge_s_v)) + (7 * edge_u_v)) + (10 * edge_u_t)) + (70 * edge_v_t))\n"
     ]
    }
   ],
   "source": [
    "# factor to make everything including costs integer\n",
    "factor_to_int = 10\n",
    "\n",
    "# The objective is to maximise flow \n",
    "total_cost = sum(int(g.get_edge_data(*edge)['cost']*factor_to_int)*edge_int_vars[edge[0], edge[1]]\n",
    "                for edge in g.edges)\n",
    "\n",
    "print('Objective is to optimise cost')\n",
    "print(total_cost)\n",
    "min_cost_flow_model.Minimize(total_cost)"
   ]
  },
  {
   "cell_type": "code",
   "execution_count": 28,
   "id": "fd9f5fa3",
   "metadata": {},
   "outputs": [
    {
     "name": "stdout",
     "output_type": "stream",
     "text": [
      "Solution 0, time = 0.24 s, objective = 1300\n"
     ]
    }
   ],
   "source": [
    "# Solving the problem\n",
    "solver = cp_model.CpSolver()\n",
    "solution_printer = cp_model.ObjectiveSolutionPrinter()\n",
    "status = solver.SolveWithSolutionCallback(min_cost_flow_model, solution_printer)"
   ]
  },
  {
   "cell_type": "code",
   "execution_count": 29,
   "id": "a1fc6118",
   "metadata": {},
   "outputs": [
    {
     "data": {
      "text/plain": [
       "True"
      ]
     },
     "execution_count": 29,
     "metadata": {},
     "output_type": "execute_result"
    }
   ],
   "source": [
    "cp_model.OPTIMAL == status"
   ]
  },
  {
   "cell_type": "markdown",
   "id": "d28f3d49",
   "metadata": {},
   "source": [
    "The solution to the minimum flow problem is"
   ]
  },
  {
   "cell_type": "code",
   "execution_count": 30,
   "id": "79f5aae2",
   "metadata": {},
   "outputs": [
    {
     "data": {
      "text/plain": [
       "{('s', 'u'): 10, ('s', 'v'): 10, ('u', 'v'): 0, ('u', 't'): 10, ('v', 't'): 10}"
      ]
     },
     "execution_count": 30,
     "metadata": {},
     "output_type": "execute_result"
    }
   ],
   "source": [
    "result_edges = {}\n",
    "for edge in g.edges:\n",
    "    result_edges[edge[0], edge[1]] = solver.Value(edge_int_vars[edge[0], edge[1]])\n",
    "result_edges"
   ]
  },
  {
   "cell_type": "code",
   "execution_count": 31,
   "id": "c916f0df",
   "metadata": {},
   "outputs": [
    {
     "data": {
      "image/png": "[encoded data removed]",
      "text/plain": [
       "<Figure size 432x288 with 1 Axes>"
      ]
     },
     "metadata": {},
     "output_type": "display_data"
    }
   ],
   "source": [
    "# This function gets the coordinates for nodes\n",
    "pos = nx.get_node_attributes(g,'pos')\n",
    "\n",
    "# The simplest way to draw a graph is by using nx.draw. \n",
    "nx.draw(g,pos, with_labels=True)\n",
    "\n",
    "# This adds edge lables\n",
    "nx.draw_networkx_edge_labels(g,pos,edge_labels = result_edges)\n",
    "plt.show()"
   ]
  }
 ],
 "metadata": {
  "kernelspec": {
   "display_name": "Python 3",
   "language": "python",
   "name": "python3"
  },
  "language_info": {
   "codemirror_mode": {
    "name": "ipython",
    "version": 3
   },
   "file_extension": ".py",
   "mimetype": "text/x-python",
   "name": "python",
   "nbconvert_exporter": "python",
   "pygments_lexer": "ipython3",
   "version": "3.8.8"
  }
 },
 "nbformat": 4,
 "nbformat_minor": 5
}
