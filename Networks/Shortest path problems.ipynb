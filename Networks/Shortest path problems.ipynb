{
 "cells": [
  {
   "cell_type": "code",
   "execution_count": 52,
   "id": "2f9f310f",
   "metadata": {},
   "outputs": [],
   "source": [
    "import networkx as nx\n",
    "\n",
    "# Other packages for manupulating data\n",
    "import numpy as np\n",
    "import pandas as pd\n",
    "\n",
    "# packages for plotting\n",
    "import matplotlib.pyplot as plt"
   ]
  },
  {
   "cell_type": "code",
   "execution_count": 53,
   "id": "e72c1831",
   "metadata": {},
   "outputs": [
    {
     "data": {
      "text/html": [
       "<div>\n",
       "<style scoped>\n",
       "    .dataframe tbody tr th:only-of-type {\n",
       "        vertical-align: middle;\n",
       "    }\n",
       "\n",
       "    .dataframe tbody tr th {\n",
       "        vertical-align: top;\n",
       "    }\n",
       "\n",
       "    .dataframe thead th {\n",
       "        text-align: right;\n",
       "    }\n",
       "</style>\n",
       "<table border=\"1\" class=\"dataframe\">\n",
       "  <thead>\n",
       "    <tr style=\"text-align: right;\">\n",
       "      <th></th>\n",
       "      <th>node1</th>\n",
       "      <th>node2</th>\n",
       "      <th>weights</th>\n",
       "    </tr>\n",
       "  </thead>\n",
       "  <tbody>\n",
       "    <tr>\n",
       "      <th>0</th>\n",
       "      <td>s</td>\n",
       "      <td>u</td>\n",
       "      <td>3.0</td>\n",
       "    </tr>\n",
       "    <tr>\n",
       "      <th>1</th>\n",
       "      <td>s</td>\n",
       "      <td>v</td>\n",
       "      <td>2.0</td>\n",
       "    </tr>\n",
       "    <tr>\n",
       "      <th>2</th>\n",
       "      <td>u</td>\n",
       "      <td>v</td>\n",
       "      <td>0.7</td>\n",
       "    </tr>\n",
       "    <tr>\n",
       "      <th>3</th>\n",
       "      <td>u</td>\n",
       "      <td>t</td>\n",
       "      <td>1.0</td>\n",
       "    </tr>\n",
       "    <tr>\n",
       "      <th>4</th>\n",
       "      <td>v</td>\n",
       "      <td>t</td>\n",
       "      <td>7.0</td>\n",
       "    </tr>\n",
       "  </tbody>\n",
       "</table>\n",
       "</div>"
      ],
      "text/plain": [
       "  node1 node2  weights\n",
       "0     s     u      3.0\n",
       "1     s     v      2.0\n",
       "2     u     v      0.7\n",
       "3     u     t      1.0\n",
       "4     v     t      7.0"
      ]
     },
     "execution_count": 53,
     "metadata": {},
     "output_type": "execute_result"
    }
   ],
   "source": [
    "edgelist_df = pd.DataFrame({'node1':['s', 's', 'u', 'u', 'v'], 'node2':['u', 'v', 'v', 't', 't'], \n",
    "                            'weights':[3, 2, 0.7, 1, 7]\n",
    "                           })\n",
    "edgelist_df"
   ]
  },
  {
   "cell_type": "code",
   "execution_count": 54,
   "id": "fb8c79cb",
   "metadata": {},
   "outputs": [
    {
     "data": {
      "text/plain": [
       "OutEdgeDataView([('s', 'u', {'weight': 3.0}), ('s', 'v', {'weight': 2.0}), ('u', 'v', {'weight': 0.7}), ('u', 't', {'weight': 1.0}), ('v', 't', {'weight': 7.0})])"
      ]
     },
     "execution_count": 54,
     "metadata": {},
     "output_type": "execute_result"
    }
   ],
   "source": [
    "g = nx.DiGraph()\n",
    "for i, elrow in edgelist_df.iterrows():\n",
    "    g.add_edge(elrow[0], elrow[1], weight=elrow[2])\n",
    "g.edges(data=True)"
   ]
  },
  {
   "cell_type": "code",
   "execution_count": 55,
   "id": "5acdc24f",
   "metadata": {},
   "outputs": [
    {
     "data": {
      "text/plain": [
       "NodeDataView({'s': {'pos': (0, 1)}, 'u': {'pos': (1, 2)}, 'v': {'pos': (1, 0)}, 't': {'pos': (2, 1)}})"
      ]
     },
     "execution_count": 55,
     "metadata": {},
     "output_type": "execute_result"
    }
   ],
   "source": [
    "# for each node we are trying to fix the coordinates\n",
    "g.add_node('s',pos=(0,1))\n",
    "g.add_node('u',pos=(1,2))\n",
    "g.add_node('v',pos=(1,0))\n",
    "g.add_node('t',pos=(2,1))\n",
    "g.nodes(data=True)"
   ]
  },
  {
   "cell_type": "code",
   "execution_count": 56,
   "id": "4b62b325",
   "metadata": {},
   "outputs": [
    {
     "data": {
      "image/png": "[encoded data removed]",
      "text/plain": [
       "<Figure size 432x288 with 1 Axes>"
      ]
     },
     "metadata": {},
     "output_type": "display_data"
    }
   ],
   "source": [
    "# This function gets the coordinates for nodes\n",
    "pos = nx.get_node_attributes(g,'pos')\n",
    "\n",
    "# This function gets the weights for the edges \n",
    "weight = nx.get_edge_attributes(g,'weight')\n",
    "\n",
    "# The simplest way to draw a graph is by using nx.draw. \n",
    "nx.draw(g,pos, with_labels=True)\n",
    "\n",
    "# This adds edge lables\n",
    "nx.draw_networkx_edge_labels(g,pos,edge_labels = weight)\n",
    "plt.show()"
   ]
  },
  {
   "cell_type": "code",
   "execution_count": 57,
   "id": "2d21eaf4",
   "metadata": {},
   "outputs": [
    {
     "data": {
      "text/plain": [
       "['s', 'u', 't']"
      ]
     },
     "execution_count": 57,
     "metadata": {},
     "output_type": "execute_result"
    }
   ],
   "source": [
    "path_2_0 = nx.shortest_path(g, source ='s',target = 't')\n",
    "path_2_0"
   ]
  },
  {
   "cell_type": "code",
   "execution_count": 43,
   "id": "50f4d617",
   "metadata": {},
   "outputs": [],
   "source": [
    "from ortools.sat.python import cp_model\n",
    "shortest_path_model = cp_model.CpModel()"
   ]
  },
  {
   "cell_type": "code",
   "execution_count": 44,
   "id": "3dedd849",
   "metadata": {},
   "outputs": [
    {
     "name": "stdout",
     "output_type": "stream",
     "text": [
      "Creating the boolean variable  edge_s_u representing the if we should travel through  ('s', 'u')\n",
      "Creating the boolean variable  edge_s_v representing the if we should travel through  ('s', 'v')\n",
      "Creating the boolean variable  edge_u_v representing the if we should travel through  ('u', 'v')\n",
      "Creating the boolean variable  edge_u_t representing the if we should travel through  ('u', 't')\n",
      "Creating the boolean variable  edge_v_t representing the if we should travel through  ('v', 't')\n"
     ]
    }
   ],
   "source": [
    "# Creating one integer decision variable for each edge\n",
    "edge_bool_vars = {}\n",
    "for edge in g.edges:\n",
    "    edge_bool_vars[edge[0], edge[1]] = shortest_path_model.NewBoolVar('edge_%s_%s' % edge)\n",
    "    print('Creating the boolean variable ', edge_bool_vars[edge[0], edge[1]], \n",
    "          'representing the if we should travel through ', (edge[0], edge[1]))"
   ]
  },
  {
   "cell_type": "code",
   "execution_count": 45,
   "id": "3fc7101a",
   "metadata": {},
   "outputs": [],
   "source": [
    "input_node = 's'\n",
    "output_node = 't'"
   ]
  },
  {
   "cell_type": "code",
   "execution_count": 46,
   "id": "bb1c265f",
   "metadata": {},
   "outputs": [
    {
     "name": "stdout",
     "output_type": "stream",
     "text": [
      "Adding the constraint on node  s\n",
      "This node has 0 in-edges and 2 out-edges\n",
      "(-((edge_s_u) + edge_s_v)) == -1\n",
      "\n",
      "Adding the constraint on node  u\n",
      "This node has 1 in-edges and 2 out-edges\n",
      "((edge_s_u) + -((edge_u_v) + edge_u_t)) == 0\n",
      "\n",
      "Adding the constraint on node  v\n",
      "This node has 2 in-edges and 1 out-edges\n",
      "(((edge_s_v) + edge_u_v) + -(edge_v_t)) == 0\n",
      "\n",
      "Adding the constraint on node  t\n",
      "This node has 2 in-edges and 0 out-edges\n",
      "(((edge_u_t) + edge_v_t)) == 1\n",
      "\n"
     ]
    }
   ],
   "source": [
    "# Adding constraints on the nodes\n",
    "for node in g.nodes:\n",
    "    in_edges = g.in_edges(node)\n",
    "    out_edges = g.out_edges(node)\n",
    "    print('Adding the constraint on node ', node)\n",
    "    print('This node has %i in-edges and %i out-edges' % (len(in_edges), len(out_edges)))\n",
    "    equation_at_this_edge = sum(edge_bool_vars[edge[0], edge[1]] for edge in in_edges) - \\\n",
    "                            sum(edge_bool_vars[edge[0], edge[1]] for edge in out_edges)\n",
    "    if(node == input_node):              \n",
    "        shortest_path_model.Add(equation_at_this_edge == -1)\n",
    "        print(equation_at_this_edge == -1)\n",
    "    elif(node == output_node):              \n",
    "        shortest_path_model.Add(equation_at_this_edge == 1)\n",
    "        print(equation_at_this_edge == 1)\n",
    "    else:\n",
    "        shortest_path_model.Add(equation_at_this_edge == 0)\n",
    "        print(equation_at_this_edge, '== 0')\n",
    "    print('')"
   ]
  },
  {
   "cell_type": "code",
   "execution_count": 47,
   "id": "c28e86e2",
   "metadata": {},
   "outputs": [
    {
     "name": "stdout",
     "output_type": "stream",
     "text": [
      "Objective is to optimise cost\n",
      "((((((30 * edge_s_u)) + (20 * edge_s_v)) + (7 * edge_u_v)) + (10 * edge_u_t)) + (70 * edge_v_t))\n"
     ]
    }
   ],
   "source": [
    "# factor to make everything including costs integer\n",
    "factor_to_int = 10\n",
    "\n",
    "# The objective is to maximise flow \n",
    "total_cost = sum(int(g.get_edge_data(*edge)['weight']*factor_to_int)*edge_bool_vars[edge[0], edge[1]]\n",
    "                for edge in g.edges)\n",
    "\n",
    "print('Objective is to optimise cost')\n",
    "print(total_cost)\n",
    "shortest_path_model.Minimize(total_cost)"
   ]
  },
  {
   "cell_type": "code",
   "execution_count": 48,
   "id": "c7b6c877",
   "metadata": {},
   "outputs": [
    {
     "name": "stdout",
     "output_type": "stream",
     "text": [
      "Solution 0, time = 0.00 s, objective = 40\n"
     ]
    }
   ],
   "source": [
    "# Solving the problem\n",
    "solver = cp_model.CpSolver()\n",
    "solution_printer = cp_model.ObjectiveSolutionPrinter()\n",
    "status = solver.SolveWithSolutionCallback(shortest_path_model, solution_printer)"
   ]
  },
  {
   "cell_type": "code",
   "execution_count": 49,
   "id": "a8e711c2",
   "metadata": {},
   "outputs": [
    {
     "data": {
      "text/plain": [
       "True"
      ]
     },
     "execution_count": 49,
     "metadata": {},
     "output_type": "execute_result"
    }
   ],
   "source": [
    "cp_model.OPTIMAL == status"
   ]
  },
  {
   "cell_type": "code",
   "execution_count": 50,
   "id": "ac7ae681",
   "metadata": {},
   "outputs": [
    {
     "data": {
      "text/plain": [
       "{('s', 'u'): 1, ('s', 'v'): 0, ('u', 'v'): 0, ('u', 't'): 1, ('v', 't'): 0}"
      ]
     },
     "execution_count": 50,
     "metadata": {},
     "output_type": "execute_result"
    }
   ],
   "source": [
    "result_edges = {}\n",
    "for edge in g.edges:\n",
    "    result_edges[edge[0], edge[1]] = solver.Value(edge_bool_vars[edge[0], edge[1]])\n",
    "result_edges"
   ]
  },
  {
   "cell_type": "code",
   "execution_count": 51,
   "id": "838654da",
   "metadata": {},
   "outputs": [
    {
     "data": {
      "image/png": "[encoded data removed]",
      "text/plain": [
       "<Figure size 432x288 with 1 Axes>"
      ]
     },
     "metadata": {},
     "output_type": "display_data"
    }
   ],
   "source": [
    "# This function gets the coordinates for nodes\n",
    "pos = nx.get_node_attributes(g,'pos')\n",
    "color = ['g' if val==1 else 'r' for val in result_edges.values()]\n",
    "\n",
    "# The simplest way to draw a graph is by using nx.draw. \n",
    "nx.draw(g,pos, with_labels=True, edge_color= color)\n",
    "\n",
    "# This adds edge lables\n",
    "nx.draw_networkx_edge_labels(g,pos,edge_labels = result_edges)\n",
    "plt.show()"
   ]
  }
 ],
 "metadata": {
  "kernelspec": {
   "display_name": "Python 3",
   "language": "python",
   "name": "python3"
  },
  "language_info": {
   "codemirror_mode": {
    "name": "ipython",
    "version": 3
   },
   "file_extension": ".py",
   "mimetype": "text/x-python",
   "name": "python",
   "nbconvert_exporter": "python",
   "pygments_lexer": "ipython3",
   "version": "3.8.8"
  }
 },
 "nbformat": 4,
 "nbformat_minor": 5
}
