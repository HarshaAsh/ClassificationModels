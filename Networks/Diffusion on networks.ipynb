{
 "cells": [
  {
   "cell_type": "markdown",
   "id": "d8158f1e",
   "metadata": {},
   "source": [
    "# Forecasting adoption of a new product\n",
    "Harsha Achyuthuni\n",
    "\n",
    "## Introduction\n",
    "Forecasting new adoptions after a product introduction is an important marketing problem. I want to use a forecasting model developed by Frank Bass that has proven to be effective in forecasting the adoption of innovative and new technologies. I am going to use Nonlinear programming to estimate the parameters of the Bass forecasting model.  \n",
    "\n",
    "## Bass Forecasting model\n",
    "The model has three parameters that must be estimated.  \n",
    "\n",
    "parameter | explanation\n",
    "--|--\n",
    "m | the number of people estimated to eventually adopt the new product\n",
    "q |\tthe coefficient of imitation\n",
    "p |\tthe coefficient of innovation\n",
    "  \n",
    "The coefficient of imitation (q) is a parameter that measures the likelihood of adoption due to a potential adopter being influenced by someone who has already adopted the product. It measures the “word-of-mouth” effect influencing purchases.\n",
    "The coefficient of innovation (p) measures the likelihood of adoption, assuming no influence from someone who has already purchased (adopted) the product. It is the likelihood of someone adopting the product due to her or his own interest in the innovation.  \n",
    "\n",
    "If $C_{t−1}$ is the number of people that adopted the product by time t-1, then the number of new adopters during time t is given by Bass forecasting model and it is:\n",
    "\n",
    "$$ F_t=(p+q[\\frac{C_{t−1}}{m}])(m−C_{t−1}) $$\n",
    "If $c_{t} = C_t/m$, then \n",
    "\n",
    "$$ c_{t} - c_{t-1} = (p+qc_{t-1})(1-c_{t-1})$$\n",
    "Doing some maths, instead of one time period, we could consider $\\Delta t$ time period, we can write as:\n",
    "\n",
    "$$ c_{t+ \\Delta t} - c_{t} = (p+qc_{t})(1-c_{t}) \\Delta t$$\n",
    "$$ \\frac{c_{t+ \\Delta t} - c_{t}}{\\Delta t} = (p+qc_{t})(1-c_{t}) $$\n",
    "$$ \\frac{d}{dt}c_{t} = (p+qc_{t})(1-c_{t})$$\n",
    "\n",
    "Solving we get\n",
    "$$ c(t) = \\frac{1-e^{-(p+q)t}}{1+\\frac{q}{p}e^{-(p+q)t}} $$\n",
    "\n",
    "As an example, consider the following revenues for a product."
   ]
  },
  {
   "cell_type": "code",
   "execution_count": 1,
   "id": "49cfd055",
   "metadata": {},
   "outputs": [
    {
     "data": {
      "text/html": [
       "<div>\n",
       "<style scoped>\n",
       "    .dataframe tbody tr th:only-of-type {\n",
       "        vertical-align: middle;\n",
       "    }\n",
       "\n",
       "    .dataframe tbody tr th {\n",
       "        vertical-align: top;\n",
       "    }\n",
       "\n",
       "    .dataframe thead th {\n",
       "        text-align: right;\n",
       "    }\n",
       "</style>\n",
       "<table border=\"1\" class=\"dataframe\">\n",
       "  <thead>\n",
       "    <tr style=\"text-align: right;\">\n",
       "      <th></th>\n",
       "      <th>week</th>\n",
       "      <th>revenues</th>\n",
       "      <th>cum_sum</th>\n",
       "    </tr>\n",
       "  </thead>\n",
       "  <tbody>\n",
       "    <tr>\n",
       "      <th>0</th>\n",
       "      <td>1</td>\n",
       "      <td>0.10</td>\n",
       "      <td>0.10</td>\n",
       "    </tr>\n",
       "    <tr>\n",
       "      <th>1</th>\n",
       "      <td>2</td>\n",
       "      <td>3.00</td>\n",
       "      <td>3.10</td>\n",
       "    </tr>\n",
       "    <tr>\n",
       "      <th>2</th>\n",
       "      <td>3</td>\n",
       "      <td>5.20</td>\n",
       "      <td>8.30</td>\n",
       "    </tr>\n",
       "    <tr>\n",
       "      <th>3</th>\n",
       "      <td>4</td>\n",
       "      <td>7.00</td>\n",
       "      <td>15.30</td>\n",
       "    </tr>\n",
       "    <tr>\n",
       "      <th>4</th>\n",
       "      <td>5</td>\n",
       "      <td>5.25</td>\n",
       "      <td>20.55</td>\n",
       "    </tr>\n",
       "    <tr>\n",
       "      <th>5</th>\n",
       "      <td>6</td>\n",
       "      <td>4.90</td>\n",
       "      <td>25.45</td>\n",
       "    </tr>\n",
       "    <tr>\n",
       "      <th>6</th>\n",
       "      <td>7</td>\n",
       "      <td>3.00</td>\n",
       "      <td>28.45</td>\n",
       "    </tr>\n",
       "    <tr>\n",
       "      <th>7</th>\n",
       "      <td>8</td>\n",
       "      <td>2.40</td>\n",
       "      <td>30.85</td>\n",
       "    </tr>\n",
       "    <tr>\n",
       "      <th>8</th>\n",
       "      <td>9</td>\n",
       "      <td>1.90</td>\n",
       "      <td>32.75</td>\n",
       "    </tr>\n",
       "    <tr>\n",
       "      <th>9</th>\n",
       "      <td>10</td>\n",
       "      <td>1.30</td>\n",
       "      <td>34.05</td>\n",
       "    </tr>\n",
       "    <tr>\n",
       "      <th>10</th>\n",
       "      <td>11</td>\n",
       "      <td>0.80</td>\n",
       "      <td>34.85</td>\n",
       "    </tr>\n",
       "    <tr>\n",
       "      <th>11</th>\n",
       "      <td>12</td>\n",
       "      <td>0.60</td>\n",
       "      <td>35.45</td>\n",
       "    </tr>\n",
       "  </tbody>\n",
       "</table>\n",
       "</div>"
      ],
      "text/plain": [
       "    week  revenues  cum_sum\n",
       "0      1      0.10     0.10\n",
       "1      2      3.00     3.10\n",
       "2      3      5.20     8.30\n",
       "3      4      7.00    15.30\n",
       "4      5      5.25    20.55\n",
       "5      6      4.90    25.45\n",
       "6      7      3.00    28.45\n",
       "7      8      2.40    30.85\n",
       "8      9      1.90    32.75\n",
       "9     10      1.30    34.05\n",
       "10    11      0.80    34.85\n",
       "11    12      0.60    35.45"
      ]
     },
     "execution_count": 1,
     "metadata": {},
     "output_type": "execute_result"
    }
   ],
   "source": [
    "import pandas as pd\n",
    "data = pd.DataFrame({'week': [1,2,3,4,5,6,7,8,9,10,11,12], 'revenues': [0.1,3,5.2,7,5.25,4.9,3,2.4,1.9, 1.3, 0.8, 0.6]})\n",
    "data['cum_sum'] = data['revenues'].cumsum()\n",
    "data"
   ]
  },
  {
   "cell_type": "markdown",
   "id": "70419893",
   "metadata": {},
   "source": [
    "Optimising for the ideal p, q and m values, we get"
   ]
  },
  {
   "cell_type": "code",
   "execution_count": 2,
   "id": "cb044568",
   "metadata": {},
   "outputs": [],
   "source": [
    "from scipy.optimize import curve_fit\n",
    "def c_t(x, p, q, m):\n",
    "    return (p+(q/m)*(x))*(m-x)\n",
    "popt, pcov = curve_fit(c_t, data.cum_sum[0:11], data.revenues[1:12])"
   ]
  },
  {
   "cell_type": "code",
   "execution_count": 3,
   "id": "bf70d194",
   "metadata": {},
   "outputs": [
    {
     "data": {
      "text/plain": [
       "array([ 0.11467648,  0.37950562, 35.22906717])"
      ]
     },
     "execution_count": 3,
     "metadata": {},
     "output_type": "execute_result"
    }
   ],
   "source": [
    "popt"
   ]
  },
  {
   "cell_type": "markdown",
   "id": "a28d9855",
   "metadata": {},
   "source": [
    "The optimal p,d and q are:0.11467648,  0.37950562, 35.22906717. We can use these to predict the future revenues of the product."
   ]
  }
 ],
 "metadata": {
  "kernelspec": {
   "display_name": "Python 3",
   "language": "python",
   "name": "python3"
  },
  "language_info": {
   "codemirror_mode": {
    "name": "ipython",
    "version": 3
   },
   "file_extension": ".py",
   "mimetype": "text/x-python",
   "name": "python",
   "nbconvert_exporter": "python",
   "pygments_lexer": "ipython3",
   "version": "3.8.8"
  }
 },
 "nbformat": 4,
 "nbformat_minor": 5
}
