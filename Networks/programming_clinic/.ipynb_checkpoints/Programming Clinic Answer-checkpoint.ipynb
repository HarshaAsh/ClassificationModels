{
 "cells": [
  {
   "cell_type": "markdown",
   "metadata": {},
   "source": [
    "## 1. Reading a from file and convert it into different format."
   ]
  },
  {
   "cell_type": "code",
   "execution_count": null,
   "metadata": {},
   "outputs": [],
   "source": [
    "# Import libraries\n",
    "import pandas as pd\n",
    "\n",
    "import networkx as nx\n",
    "import matplotlib.pyplot as plt\n",
    "\n",
    "import numpy as np\n",
    "\n",
    "import operator\n",
    "import sys"
   ]
  },
  {
   "cell_type": "markdown",
   "metadata": {},
   "source": [
    "The “HW2_ who_talks_to_whom.xlsx” contains all the messages from all kinds of communications between the 2017/18 MSc Business Analytics class, for a particular week. The Excel file is converted to a CSV file in this exercise. For the sake of simplicity, we only use the sheet \"sent\"."
   ]
  },
  {
   "cell_type": "code",
   "execution_count": null,
   "metadata": {},
   "outputs": [],
   "source": [
    "place_holder = './'\n",
    "# The file name\n",
    "csvfile = \"HW2_who_talks_to_whom_sent.csv\""
   ]
  },
  {
   "cell_type": "markdown",
   "metadata": {},
   "source": [
    "### 1.1 We read from the file and start doing some preprocessing."
   ]
  },
  {
   "cell_type": "code",
   "execution_count": null,
   "metadata": {},
   "outputs": [],
   "source": [
    "# Import the data\n",
    "sent = pd.read_csv(place_holder + csvfile, index_col = 0)\n",
    "sent"
   ]
  },
  {
   "cell_type": "markdown",
   "metadata": {},
   "source": [
    "We then drop the irrelevant columns."
   ]
  },
  {
   "cell_type": "code",
   "execution_count": null,
   "metadata": {},
   "outputs": [],
   "source": [
    "col_names = sent.columns[81:86]\n",
    "sent.drop(col_names, axis=1, inplace = True)\n",
    "\n",
    "# starting from 81 -> 85, axis-1 is the column,\n",
    "# Make NaN the values with 0\n",
    "sent = sent.fillna(0)\n",
    "sent = sent.replace(\"-\",0)\n",
    "sent.index = np.arange(0, len(sent))\n",
    "sent.columns = [int(x)-1 for x in sent.columns]\n",
    "\n",
    "# change the column name from the type string to int\n",
    "sent[sent.columns] = sent[sent.columns].astype(int)\n",
    "\n",
    "# change the contents to numeric in the sent dataframe\n",
    "sent.apply(pd.to_numeric)\n",
    "sent"
   ]
  },
  {
   "cell_type": "markdown",
   "metadata": {},
   "source": [
    "### 1.2 Next, we print the network using different formats: an edge list, adjacency list and adjacency matrix.\n",
    "\n",
    "To do that, we have to rely on Networkx."
   ]
  },
  {
   "cell_type": "code",
   "execution_count": null,
   "metadata": {},
   "outputs": [],
   "source": [
    "# create the adjaceny matrix in Networkx format\n",
    "dG_sent = nx.from_pandas_adjacency(sent, create_using = nx.DiGraph())"
   ]
  },
  {
   "cell_type": "code",
   "execution_count": null,
   "metadata": {},
   "outputs": [],
   "source": [
    "file = 'edgelist1.txt'\n",
    "\n",
    "data = pd.read_csv(file,delimiter =' ',header=None)\n",
    "data['hello'] = range(data.shape[0])\n",
    "data.columns = ['source', 'target', 'weight', 'hello']\n",
    "g = nx.from_pandas_edgelist(data,edge_attr=True)\n",
    "\n",
    "g.edges(data=True)"
   ]
  },
  {
   "cell_type": "code",
   "execution_count": null,
   "metadata": {},
   "outputs": [],
   "source": []
  },
  {
   "cell_type": "markdown",
   "metadata": {},
   "source": [
    "#### A. Output as edge list"
   ]
  },
  {
   "cell_type": "code",
   "execution_count": null,
   "metadata": {},
   "outputs": [],
   "source": [
    "nx.write_weighted_edgelist(dG_sent, sys.stdout)"
   ]
  },
  {
   "cell_type": "code",
   "execution_count": null,
   "metadata": {},
   "outputs": [],
   "source": [
    "# We can also use pandas to do the conversion\n",
    "nx.to_pandas_edgelist(dG_sent)"
   ]
  },
  {
   "cell_type": "markdown",
   "metadata": {},
   "source": [
    "#### B. Output as adjacency list"
   ]
  },
  {
   "cell_type": "code",
   "execution_count": null,
   "metadata": {
    "scrolled": true
   },
   "outputs": [],
   "source": [
    "nx.write_adjlist(dG_sent, sys.stdout)"
   ]
  },
  {
   "cell_type": "markdown",
   "metadata": {},
   "source": [
    "#### C. Output as adjaceny matrix. This relies on numpy."
   ]
  },
  {
   "cell_type": "code",
   "execution_count": null,
   "metadata": {},
   "outputs": [],
   "source": [
    "nx.to_numpy_matrix(dG_sent)"
   ]
  },
  {
   "cell_type": "markdown",
   "metadata": {},
   "source": [
    "Details about how the conversion between libraries can be done can be found: https://networkx.github.io/documentation/stable/reference/convert.html\n",
    "\n",
    "Note that conversion to/from the adjacency list using Numpy, Pandas is not supported."
   ]
  },
  {
   "cell_type": "markdown",
   "metadata": {},
   "source": [
    "### 1.3 Additional Exercise: Read an node-edge incidence matrix from a file as an undirected graph.\n",
    "\n",
    "The file used in this example is 'incmat1.txt'. After loading the matrix the information about the graph will be displayed."
   ]
  },
  {
   "cell_type": "code",
   "execution_count": null,
   "metadata": {},
   "outputs": [],
   "source": [
    "G0_txt = np.loadtxt(place_holder + 'incmat1.txt')\n",
    "M0 = np.matrix(G0_txt, dtype=int)\n",
    "\n",
    "# convert incidence matrix to adjacency matrix by multiplying with its transpose\n",
    "AM0 = (np.dot(M0, M0.T) > 0).astype(int)\n",
    "\n",
    "# Mark 0 along the diagonal\n",
    "np.fill_diagonal(AM0, 0)\n",
    "G0 = nx.from_numpy_matrix(AM0)\n",
    "\n",
    "# Print the graph information\n",
    "print(\"\\nPrinting G0\")\n",
    "nx.write_weighted_edgelist(G0, sys.stdout)"
   ]
  },
  {
   "cell_type": "markdown",
   "metadata": {},
   "source": [
    "BUT WHY?\n",
    "\n",
    "For example, given the following incidence matrix:\n",
    "\n",
    "$$\\begin{bmatrix} \n",
    "A1 & A2 \\\\ \n",
    "B1 & B2 \\\\ \n",
    "C1 & C2 \\end{bmatrix}$$\n",
    "\n",
    "We obtain the corresponding adjacency matrix by\n",
    "\n",
    "$$\\begin{bmatrix} \n",
    "A1 & A2 \\\\ \n",
    "B1 & B2 \\\\ \n",
    "C1 & C2  \\end{bmatrix}\n",
    "\\begin{bmatrix} \n",
    "A1 & B1 & C1 \\\\ \n",
    "A2 & B2 & C2 \\end{bmatrix}\n",
    "= \n",
    "\\begin{bmatrix} \n",
    "A1A1+A2A2 & A1B1 + A2B2 & A1C1 + A2C2\\\\ \n",
    "B1A1+B2A2 & B1B1 + B2B2 & B1C1 + B2C2\\\\  \n",
    "C1A1+C2A2 & C1B1 + C2B2 & C1C1 + C2C2\\\\\\end{bmatrix}$$"
   ]
  },
  {
   "cell_type": "markdown",
   "metadata": {},
   "source": [
    "## 2. Plotting the network."
   ]
  },
  {
   "cell_type": "markdown",
   "metadata": {},
   "source": [
    "### 2.1 Try out different layout"
   ]
  },
  {
   "cell_type": "code",
   "execution_count": null,
   "metadata": {},
   "outputs": [],
   "source": [
    "plt.subplots(figsize=(10, 10))\n",
    "plt.title(\"Spring Layout\")\n",
    "nx.draw_spring(dG_sent, with_labels = True, \\\n",
    "                node_color='skyblue', node_size=200, \\\n",
    "                edge_color='black')"
   ]
  },
  {
   "cell_type": "code",
   "execution_count": null,
   "metadata": {},
   "outputs": [],
   "source": [
    "plt.subplots(figsize=(10, 10))\n",
    "plt.title(\"Circular Layout\")\n",
    "nx.draw_circular(dG_sent, with_labels = True, \\\n",
    "                node_color='skyblue', node_size=200, \\\n",
    "                edge_color='black')"
   ]
  },
  {
   "cell_type": "code",
   "execution_count": null,
   "metadata": {},
   "outputs": [],
   "source": [
    "plt.subplots(figsize=(10, 10))\n",
    "plt.title(\"Random Layout\")\n",
    "nx.draw_random(dG_sent, with_labels = True, \\\n",
    "               node_color='skyblue', node_size=200, \\\n",
    "               edge_color='black')"
   ]
  },
  {
   "cell_type": "markdown",
   "metadata": {},
   "source": [
    "Note that the label above if off by 1. "
   ]
  },
  {
   "cell_type": "markdown",
   "metadata": {},
   "source": [
    "### 2.2 Change the node size and color based on the communication\n",
    "\n",
    "First, we need to rename the node so that it starts from 1 instead of 0. We use the lambda function here.\n",
    "\n",
    "A **lambda function** is a small *anonymous* function taking any number of arguments but only one expression. It is useful as an anonymous function inside another function without being defined separately."
   ]
  },
  {
   "cell_type": "code",
   "execution_count": null,
   "metadata": {},
   "outputs": [],
   "source": [
    "# rename the label in-place\n",
    "nx.relabel_nodes(dG_sent, lambda x: x+1, copy=False)"
   ]
  },
  {
   "cell_type": "code",
   "execution_count": null,
   "metadata": {},
   "outputs": [],
   "source": []
  },
  {
   "cell_type": "markdown",
   "metadata": {},
   "source": [
    "We adjust the node size and thickness of the edge based on the communication count."
   ]
  },
  {
   "cell_type": "code",
   "execution_count": null,
   "metadata": {},
   "outputs": [],
   "source": [
    "d_out = dict(dG_sent.out_degree())\n",
    "for u,v in dG_sent.edges():\n",
    "    # green edge if they communicated more than 5 times\n",
    "    if dG_sent[u][v]['weight'] > 5 :\n",
    "        dG_sent[u][v]['color'] = 'green'\n",
    "    \n",
    "    # blue otherwise\n",
    "    else:\n",
    "        dG_sent[u][v]['color'] = 'blue'\n",
    "\n",
    "plt.figure(figsize = (15,10))\n",
    "    \n",
    "# Nodes with more out-going edge will be larger,\n",
    "# Edge with a larger value for 'talks' will also be thicker\n",
    "# alpha sets the transparency\n",
    "nx.draw(dG_sent, pos = nx.random_layout(dG_sent), \\\n",
    "    with_labels = True, node_color = 'red', \\\n",
    "    node_size = [v * 50 for v in d_out.values()], \\\n",
    "    width = [dG_sent[u][v]['weight'] / 10 for u,v in dG_sent.edges()], \\\n",
    "    edge_color = [dG_sent[u][v]['color'] for u,v in dG_sent.edges()], \\\n",
    "    linewidths = 5, alpha = 0.5, font_size = 10)    "
   ]
  },
  {
   "cell_type": "markdown",
   "metadata": {},
   "source": [
    "## 3. Centrality measures\n",
    "\n",
    "Lets compute centrality measures using inbuilt functions."
   ]
  },
  {
   "cell_type": "code",
   "execution_count": null,
   "metadata": {},
   "outputs": [],
   "source": [
    "G1 = nx.read_edgelist('social_network.txt',nodetype=str,delimiter=',')\n",
    "\n",
    "for u, v, d in G1.edges(data=True):\n",
    "    d['weight'] = 2"
   ]
  },
  {
   "cell_type": "code",
   "execution_count": null,
   "metadata": {},
   "outputs": [],
   "source": [
    "# Read an un-directed graph from a list of edges\n",
    "plt.figure(figsize=(10,10))\n",
    "pos = nx.spring_layout(G1)\n",
    "labels = nx.get_edge_attributes(G1,'weight')\n",
    "nx.draw(G1, pos, with_labels = True)\n",
    "nx.draw_networkx_edge_labels(G1, pos, edge_labels = labels)"
   ]
  },
  {
   "cell_type": "code",
   "execution_count": null,
   "metadata": {},
   "outputs": [],
   "source": [
    "centrality = nx.betweenness_centrality(G1)\n",
    "nx.draw(G1,pos=pos,node_color=list(centrality.values()))"
   ]
  },
  {
   "cell_type": "code",
   "execution_count": null,
   "metadata": {},
   "outputs": [],
   "source": [
    "centrality = nx.degree_centrality(G1)\n",
    "nx.draw(G1,pos=pos,node_color=list(centrality.values()))"
   ]
  },
  {
   "cell_type": "code",
   "execution_count": null,
   "metadata": {},
   "outputs": [],
   "source": [
    "centrality = nx.eigenvector_centrality(G1)\n",
    "nx.draw(G1,pos=pos,node_color=list(centrality.values()))"
   ]
  },
  {
   "cell_type": "markdown",
   "metadata": {},
   "source": [
    "## 4. Community detection "
   ]
  },
  {
   "cell_type": "code",
   "execution_count": null,
   "metadata": {},
   "outputs": [],
   "source": [
    "partition = nx.community.girvan_newman(G1)\n",
    "comms = tuple(sorted(c) for c in next(partition))"
   ]
  },
  {
   "cell_type": "code",
   "execution_count": null,
   "metadata": {},
   "outputs": [],
   "source": [
    "colors = 'rgb'\n",
    "for i, nodes in enumerate(comms):\n",
    "    print(i)\n",
    "    nx.draw_networkx_nodes(G1, pos=pos, nodelist=nodes, node_color=colors[i])\n",
    "    \n",
    "nx.draw_networkx_edges(G1,pos=pos)"
   ]
  },
  {
   "cell_type": "markdown",
   "metadata": {},
   "source": [
    "## 5. Additional Exercises"
   ]
  },
  {
   "cell_type": "markdown",
   "metadata": {},
   "source": [
    "We need the community library from Networkx."
   ]
  },
  {
   "cell_type": "code",
   "execution_count": null,
   "metadata": {},
   "outputs": [],
   "source": [
    "from networkx.algorithms import community"
   ]
  },
  {
   "cell_type": "markdown",
   "metadata": {},
   "source": [
    "### 5.1 Using your judgement and based on the various exercises we did in class, represent the network the best way possible."
   ]
  },
  {
   "cell_type": "code",
   "execution_count": null,
   "metadata": {},
   "outputs": [],
   "source": [
    "# Loading the network\n",
    "G_social = nx.davis_southern_women_graph()\n"
   ]
  },
  {
   "cell_type": "markdown",
   "metadata": {},
   "source": [
    "We then change the width of the edges based on the weight, and the size of the nodes based on the out-degree."
   ]
  },
  {
   "cell_type": "code",
   "execution_count": null,
   "metadata": {},
   "outputs": [],
   "source": [
    "\n",
    "# Representing the size of the nodes based on their degree\n",
    "degree = [G_social.degree()[node]*100 for node in G_social.nodes()]\n"
   ]
  },
  {
   "cell_type": "markdown",
   "metadata": {},
   "source": [
    "Plotting the network."
   ]
  },
  {
   "cell_type": "code",
   "execution_count": null,
   "metadata": {},
   "outputs": [],
   "source": [
    "plt.subplots(figsize = (20,20))\n",
    "\n",
    "pos = nx.spring_layout(G_social)\n",
    "nx.draw(G_social, pos = pos, font_size = 12, with_labels = True, \n",
    "               node_size = degree, \n",
    "               edge_color = 'grey', node_color = 'purple')\n",
    "\n",
    "plt.axis(\"off\")\n",
    "\n",
    "plt.show()"
   ]
  },
  {
   "cell_type": "markdown",
   "metadata": {},
   "source": [
    "### 5.2 Choose and run an appropriate community detection algorithm to identify clusters."
   ]
  },
  {
   "cell_type": "code",
   "execution_count": null,
   "metadata": {},
   "outputs": [],
   "source": [
    "color_list = ['r','y']\n",
    "\n",
    "communities = community.kernighan_lin_bisection(G_social, max_iter=100)\n",
    "\n"
   ]
  },
  {
   "cell_type": "code",
   "execution_count": null,
   "metadata": {},
   "outputs": [],
   "source": [
    "pos = nx.spring_layout(G_social)\n",
    "nx.draw(G_social,pos, with_labels=True, node_size =100, node_color='w', node_shape = '.')\n",
    "\n",
    "for i in range(len(communities)):\n",
    "    nx.draw_networkx_nodes(G_social, pos, nodelist=communities[i], node_color=color_list[i])"
   ]
  },
  {
   "cell_type": "markdown",
   "metadata": {},
   "source": [
    "Plotting the Network with the communities in color purple and yellow."
   ]
  },
  {
   "cell_type": "code",
   "execution_count": null,
   "metadata": {},
   "outputs": [],
   "source": [
    "# Communities\n",
    "\n",
    "color_map = ['purple'] * len(G_social.nodes())\n",
    "\n",
    "nodes = list(G_social.nodes)\n",
    "\n",
    "# We plot the communities in different colours\n",
    "for node in nodes:\n",
    "    if node in communities[0]:\n",
    "        color_map[nodes.index(node)] = 'yellow'"
   ]
  },
  {
   "cell_type": "code",
   "execution_count": null,
   "metadata": {},
   "outputs": [],
   "source": [
    "plt.subplots(figsize = (20,20))\n",
    "\n",
    "nx.draw(G_social, pos = pos, font_size = 12, with_labels = True, \\\n",
    "               node_size = degree,\n",
    "               edge_color = 'grey', node_color = color_map)\n",
    "\n",
    "plt.axis(\"off\")\n",
    "\n",
    "plt.show()"
   ]
  },
  {
   "cell_type": "code",
   "execution_count": null,
   "metadata": {},
   "outputs": [],
   "source": []
  },
  {
   "cell_type": "code",
   "execution_count": null,
   "metadata": {},
   "outputs": [],
   "source": []
  }
 ],
 "metadata": {
  "kernelspec": {
   "display_name": "Python 3",
   "language": "python",
   "name": "python3"
  },
  "language_info": {
   "codemirror_mode": {
    "name": "ipython",
    "version": 3
   },
   "file_extension": ".py",
   "mimetype": "text/x-python",
   "name": "python",
   "nbconvert_exporter": "python",
   "pygments_lexer": "ipython3",
   "version": "3.8.8"
  }
 },
 "nbformat": 4,
 "nbformat_minor": 2
}
